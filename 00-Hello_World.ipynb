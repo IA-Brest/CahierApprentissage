{
 "cells": [
  {
   "cell_type": "code",
   "execution_count": 1,
   "metadata": {},
   "outputs": [
    {
     "name": "stdout",
     "output_type": "stream",
     "text": [
      "Hello, Notebook !\n"
     ]
    }
   ],
   "source": [
    "print(\"Hello, Notebook !\")"
   ]
  },
  {
   "cell_type": "code",
   "execution_count": 5,
   "metadata": {},
   "outputs": [
    {
     "name": "stdout",
     "output_type": "stream",
     "text": [
      "x:2  x%2: 0\n",
      "x:3  x%2: 1\n",
      "x:4  x%2: 0\n",
      "x:5  x%2: 1\n",
      "5\n"
     ]
    }
   ],
   "source": [
    "list = [2, 3, 4, 5, 6, 7]\n",
    "for x in list:\n",
    "    print('x:' +str(x) +\"  x%2: \" + str(x%2))\n",
    "    if(x%2==1 and x>4):\n",
    "      print(x)\n",
    "      break\n",
    "        "
   ]
  },
  {
   "cell_type": "code",
   "execution_count": null,
   "metadata": {},
   "outputs": [],
   "source": []
  }
 ],
 "metadata": {
  "kernelspec": {
   "display_name": "Python 3",
   "language": "python",
   "name": "python3"
  },
  "language_info": {
   "codemirror_mode": {
    "name": "ipython",
    "version": 3
   },
   "file_extension": ".py",
   "mimetype": "text/x-python",
   "name": "python",
   "nbconvert_exporter": "python",
   "pygments_lexer": "ipython3",
   "version": "3.8.3"
  }
 },
 "nbformat": 4,
 "nbformat_minor": 4
}
