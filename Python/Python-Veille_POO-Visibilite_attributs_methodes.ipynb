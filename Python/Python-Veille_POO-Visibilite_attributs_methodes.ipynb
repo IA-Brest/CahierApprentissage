{
  "nbformat": 4,
  "nbformat_minor": 0,
  "metadata": {
    "colab": {
      "name": "Visibilite_attributs_methodes.ipynb",
      "provenance": [],
      "collapsed_sections": []
    },
    "kernelspec": {
      "name": "python3",
      "display_name": "Python 3"
    },
    "language_info": {
      "name": "python"
    }
  },
  "cells": [
    {
      "cell_type": "markdown",
      "source": [
        "# <center>Visibilité attributs/méthodes </center>"
      ],
      "metadata": {
        "id": "WGPaNQSGeK23"
      }
    },
    {
      "cell_type": "markdown",
      "source": [
        "Certains langages de programmation (comme Python, Java, C++) peuvent **contrôler l’accès à des classes** en les définissant comme **publiques** ou **privées**. Les membres privés d’une classe n’ont **pas accès aux classes** situées en dehors de leur environnement. Ils peuvent être manipulés seulement **à l’intérieur de leur propre classe**."
      ],
      "metadata": {
        "id": "Hy_MQsmxeJd_"
      }
    },
    {
      "cell_type": "markdown",
      "source": [
        "<ins> En POO, on distingue généralement trois niveaux de visibilité différents :</ins>\n",
        "-\tLes membres privés auxquels on ne peut accéder que depuis l’intérieur de la classe ;\n",
        "- Les membres protégés auxquels on ne peut accéder que depuis l’intérieur de la classe ou depuis une classe fille ;\n",
        "- \tLes membres publics auxquels on peut accéder depuis n’importe quelle instance (ou objet) de la classe ou d’une classe fille.\n",
        "\n",
        "\n",
        "Ces niveaux de visibilité permettent de “protéger” certains membres de classes qui ne devraient pas être modifiés dans n’importe quelle situation ou depuis n’importe quel endroit.\n"
      ],
      "metadata": {
        "id": "oBeH_uvjeZX6"
      }
    },
    {
      "cell_type": "code",
      "source": [
        "# Exemple :\n",
        "class Visibilite:\n",
        "  public = 'Variable publique'\n",
        "  _pretected = 'Variable protégée'\n",
        "  __private = 'Variable privée'"
      ],
      "metadata": {
        "id": "lIn0H1FQjHyT"
      },
      "execution_count": null,
      "outputs": []
    },
    {
      "cell_type": "markdown",
      "source": [
        "On définit ici une classe **Visibilite** qui contient trois variables **public**, **_protected** et **__private**. Notez qu’on pourrait aussi bien définir des fonctions de la même manière. "
      ],
      "metadata": {
        "id": "Qoqsq2KKjNGD"
      }
    },
    {
      "cell_type": "markdown",
      "source": [
        "#Methodes privées en python\n",
        "#Les modificateurs d’accès limitent la visibilité d’une fonction/d'une variable\n",
        "=> Déclarer votre fonction/variable comme privée limite l’accès uniquement à la classe qui l’encapsule.\n",
        "#Illustration de privé vs publique pour une méthode\n",
        "Une comparaison réelle avec une méthode privée serait un système d’éclairage domestique.\n",
        "L’interrupteur et l’ampoule sont comme des méthodes publiques car la personne y a un accès direct et une visibilité.\n",
        "Dans le même temps, les fils électriques à l’intérieur du caoutchouc de protection sont des méthodes privées car ils ne sont généralement pas visibles à moins d’être altérés, mais ils font toujours leur travail sans être surveillés pour la plupart.\n"
      ],
      "metadata": {
        "id": "zQGD5g5yf_8w"
      }
    },
    {
      "cell_type": "code",
      "source": [
        "# Exemple :\n",
        "# On accède sans souci à nos variables public et _protected\n",
        "objet = Visibilite()\n",
        "objet.public\n",
        "# Résultat : 'Variable publique'\n",
        "  \n",
        "objet._pretected\n",
        "# Résultat : 'Variable protégée'\n",
        "\n",
        "objet.__private \n",
        "# Résultat : Traceback (most recent call last) :\n",
        "# File \"<stdin>\", line 1, in <module>\n",
        "# AttributeError : 'Visibilite' object has no attibute '__private'\n",
        "  \n",
        "object.Visibilite__private \n",
        "# Résultat :'Variable privée'"
      ],
      "metadata": {
        "colab": {
          "base_uri": "https://localhost:8080/",
          "height": 235
        },
        "id": "j1xJRNrHi9zY",
        "outputId": "a5375857-b7b6-4a12-bc07-f96ac0abc3e5"
      },
      "execution_count": null,
      "outputs": [
        {
          "output_type": "error",
          "ename": "AttributeError",
          "evalue": "ignored",
          "traceback": [
            "\u001b[0;31m---------------------------------------------------------------------------\u001b[0m",
            "\u001b[0;31mAttributeError\u001b[0m                            Traceback (most recent call last)",
            "\u001b[0;32m<ipython-input-5-e7463abbf433>\u001b[0m in \u001b[0;36m<module>\u001b[0;34m()\u001b[0m\n\u001b[1;32m      8\u001b[0m \u001b[0;31m# Résultat : 'Variable protégée'\u001b[0m\u001b[0;34m\u001b[0m\u001b[0;34m\u001b[0m\u001b[0;34m\u001b[0m\u001b[0m\n\u001b[1;32m      9\u001b[0m \u001b[0;34m\u001b[0m\u001b[0m\n\u001b[0;32m---> 10\u001b[0;31m \u001b[0mobjet\u001b[0m\u001b[0;34m.\u001b[0m\u001b[0m__private\u001b[0m\u001b[0;34m\u001b[0m\u001b[0;34m\u001b[0m\u001b[0m\n\u001b[0m\u001b[1;32m     11\u001b[0m \u001b[0;31m# Résultat : Traceback (most recent call last) :\u001b[0m\u001b[0;34m\u001b[0m\u001b[0;34m\u001b[0m\u001b[0;34m\u001b[0m\u001b[0m\n\u001b[1;32m     12\u001b[0m \u001b[0;31m# File \"<stdin>\", line 1, in <module>\u001b[0m\u001b[0;34m\u001b[0m\u001b[0;34m\u001b[0m\u001b[0;34m\u001b[0m\u001b[0m\n",
            "\u001b[0;31mAttributeError\u001b[0m: 'Visibilite' object has no attribute '__private'"
          ]
        }
      ]
    },
    {
      "cell_type": "markdown",
      "source": [
        "#Code pour déclarer une méthode privée en Python\n",
        "\n",
        "=> insérez des doubles traits de soulignement au début du nom de la méthode.\n",
        "\n",
        "Pour déclarer une méthode privée, préfixez la méthode en question avec des doubles traits de soulignement __. \n",
        "\n",
        "Sinon, elle sera traitée comme une méthode publique par défaut.\n",
        "\n",
        "**La méthode `__init__()`**"
      ],
      "metadata": {
        "id": "qWtdhkB7iJIG"
      }
    },
    {
      "cell_type": "markdown",
      "source": [
        "###illustration: deux nouvelles méthodes dans la classe person, une méthode publique(walk) et une méthode privée (call).\n",
        "\n",
        "class Person:\n",
        "    name = ''\n",
        "    age = 0\n",
        "    \n",
        "    def __init__(self, name, age):\n",
        "        self.name = name\n",
        "        self.age = age\n",
        "    \n",
        "    def walk(self):\n",
        "        print(\"Walking\")\n",
        "        \n",
        "    def __call(self):\n",
        "        print(\"Taking a call\")"
      ],
      "metadata": {
        "id": "rBgBz08ykwZq"
      }
    },
    {
      "cell_type": "markdown",
      "source": [
        "<ins>**En résumé :** </ins> \n",
        "\n",
        "- Les méthodes privées en Python sont déclarées en préfixant une méthode avec deux traits de soulignement, __. \n",
        "\n",
        "- La déclaration de méthodes privées permet à une méthode d’être exclusivement réservée à la classe d’encapsulation. Une classe étendant une autre classe avec une méthode privée n’héritera pas de ces méthodes et déclenchera une erreur si elle essaie d’y accéder."
      ],
      "metadata": {
        "id": "yBhur53dlbUq"
      }
    }
  ]
}