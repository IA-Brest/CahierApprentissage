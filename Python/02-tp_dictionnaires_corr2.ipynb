{
 "cells": [
  {
   "cell_type": "markdown",
   "metadata": {},
   "source": [
    "# TP sur les dictionnaires et les sets\n",
    "\n",
    "## TP : Magasin en ligne\n",
    "\n",
    "Dans cet exercice, nous nous familiarisons avec les manipulations de dictionnaires sur une thématique de magasin en ligne.\n",
    "«Chez Geek and sons tout ce qui est inutile peut s'acheter, et tout ce qui peut s’acheter est un peu trop cher.»\n",
    "\n",
    "La base de prix des produits de Geek and sons est représentée en Python par un dictionnaire avec :\n",
    "\n",
    "- les noms de produits, de type `str`, comme clés.\n",
    "- les prix des produits, de type `float`, comme valeurs associées.\n",
    "\n",
    "**Attention : bien respecter l'ordre de présentation du code :**\n",
    "\n",
    "1. Les imports\n",
    "2. Les fonctions\n",
    "3. Le programme principal\n",
    "\n",
    "N'écrire aucun code entre les fonctions !\n"
   ]
  },
  {
   "cell_type": "markdown",
   "metadata": {},
   "source": [
    "### Question 1\n",
    "Donner une expression Python pour construire la base des produits correspondant à la\n",
    "table suivante :\n",
    "    \n",
    "```\n",
    "| Nom du produit     | Prix TTC |\n",
    "| Sabre Laser        | 229      |\n",
    "| Mitendo DX         | 127.30   |\n",
    "| Coussin Linux      |  74.50   |\n",
    "| Slip Goldorak      |  29.90   |\n",
    "| Station Nextpresso | 184.60   |\n",
    "```"
   ]
  },
  {
   "cell_type": "code",
   "execution_count": 11,
   "metadata": {
    "tags": [
     "remove-cell"
    ]
   },
   "outputs": [],
   "source": [
    "d_produits = {\n",
    "    'Sabre Laser': 120,\n",
    "    'Mitendo DX': 127.3,\n",
    "    'Coussin Linux': 74.50,\n",
    "    'Slip Goldorak': 29.90,\n",
    "    'Station Nextpresso': 184.6,\n",
    "}\n",
    "\n",
    "# Note : le corrigé est faux, les valeurs calculées par la suite (prix_moyen, ...) sont donc faux aussi !"
   ]
  },
  {
   "cell_type": "markdown",
   "metadata": {},
   "source": [
    "### Question 2\n",
    "Écrire la fonction `disponibilite` qui étant donnés un nom de produit\n",
    "et une base de produits, retourne `True` si le produit est présent dans la base, ou `False` sinon.\n",
    "\n",
    "```python\n",
    "def disponibilite(nom_prod, base_prod):\n",
    "    ...\n",
    "```"
   ]
  },
  {
   "cell_type": "code",
   "execution_count": 12,
   "metadata": {},
   "outputs": [],
   "source": [
    "def disponibilite1(nom_prod, base_prod):\n",
    "    return base_prod.get(nom_prod) != None\n",
    "\n",
    "def disponibilite2(nom_prod, base_prod):\n",
    "    # Moins optimisé\n",
    "    for prod in base_prod.keys():\n",
    "        if prod == nom_prod:\n",
    "            return True\n",
    "\n",
    "    return False\n",
    "\n",
    "assert disponibilite1('toto', d_produits) == False\n",
    "assert disponibilite1('Coussin Linux', d_produits) == True\n",
    "\n",
    "assert disponibilite2('toto', d_produits) == False\n",
    "assert disponibilite2('Coussin Linux', d_produits) == True"
   ]
  },
  {
   "cell_type": "markdown",
   "metadata": {},
   "source": [
    "### Question 3\n",
    "Écrire la fonction `prix_moyen` qui, étant donnée une base de produits (contenant\n",
    "au moins un produit), retourne le prix moyen des produits disponibles.\n",
    "\n",
    "```python\n",
    "def prix_moyen(base_prod):\n",
    "    ...\n",
    "```"
   ]
  },
  {
   "cell_type": "code",
   "execution_count": 13,
   "metadata": {},
   "outputs": [
    {
     "name": "stdout",
     "output_type": "stream",
     "text": [
      "107.25999999999999\n",
      "107.25999999999999\n",
      "{'Sabre Laser': 120, 'Mitendo DX': 127.3, 'Coussin Linux': 74.5, 'Slip Goldorak': 29.9, 'Station Nextpresso': 184.6}\n"
     ]
    }
   ],
   "source": [
    "def prix_moyen1(base_prod):\n",
    "    somme = 0\n",
    "    for prix in base_prod.values():\n",
    "        somme += prix\n",
    "        \n",
    "    return somme / len(base_prod.keys())\n",
    "\n",
    "def prix_moyen2(base_prod):\n",
    "    return sum(base_prod.values()) / len(base_prod.keys())\n",
    "\n",
    "print(prix_moyen1(d_produits))\n",
    "print(prix_moyen2(d_produits))\n",
    "print(d_produits)"
   ]
  },
  {
   "cell_type": "markdown",
   "metadata": {},
   "source": [
    "### Question 4\n",
    "Écrire la fonction `fourchette_prix` qui, étant donnés un prix minimum\n",
    "mini, un prix maximum maxi et une base de produits, retourne l'ensemble des noms de produits\n",
    "disponibles dans cette fourchette de prix.\n",
    "\n",
    "```python\n",
    "def fourchette_prix(prix_min, prix_max, base_prod):\n",
    "    ...\n",
    "```"
   ]
  },
  {
   "cell_type": "code",
   "execution_count": 14,
   "metadata": {},
   "outputs": [],
   "source": [
    "def fourchette_prix(prix_min, prix_max, base_prod):\n",
    "    lst_prod = []\n",
    "    for prod, prix in base_prod.items():\n",
    "        if prix_min <= prix <= prix_max:\n",
    "            lst_prod.append(prod)\n",
    "\n",
    "    return lst_prod\n",
    "\n",
    "assert fourchette_prix(20, 75, d_produits) == ['Coussin Linux', 'Slip Goldorak']\n",
    "assert fourchette_prix(200, 750, d_produits) == []\n",
    "### Note : l'assertion précédente devrait être fausse, car 'Sabre Laser': 229 !!!  "
   ]
  },
  {
   "cell_type": "markdown",
   "metadata": {},
   "source": [
    "### Question 5\n",
    "Le panier est un concept omniprésent dans les sites marchands, Geeks and sons n’échappe pas à la règle. En Python, le panier du client sera représenté par un dictionnaire, avec :\n",
    "\n",
    "- les noms de produits comme clés.\n",
    "- une quantité d'achat comme valeurs associées.\n",
    "\n",
    "Donner une expression Python correspondant à l'achat de 3 sabres lasers, de 2 coussins Linux\n",
    "et de 1 slip Goldorak."
   ]
  },
  {
   "cell_type": "code",
   "execution_count": 15,
   "metadata": {},
   "outputs": [],
   "source": [
    "panier = {\n",
    "    'Sabre Laser': 3,\n",
    "    'Coussin Linux': 2,\n",
    "    'Slip Goldorak': 1\n",
    "}"
   ]
  },
  {
   "cell_type": "markdown",
   "metadata": {},
   "source": [
    "### Question 6\n",
    "Écrire la fonction `tous_disponibles` qui, étant donnés un panier d'achat et une base de produits, retourne `True` si tous les produits demandés sont disponibles, ou `False` sinon.\n",
    "\n",
    "```python\n",
    "def tous_disponibles(panier_achat, base_prod):\n",
    "    ...\n",
    "```"
   ]
  },
  {
   "cell_type": "code",
   "execution_count": 16,
   "metadata": {},
   "outputs": [],
   "source": [
    "def tous_disponibles(panier_achat, base_prod):\n",
    "    for prod_panier in panier_achat.keys():\n",
    "        if not prod_panier in base_prod.keys():\n",
    "            return False\n",
    "\n",
    "    return True\n",
    "\n",
    "panier1 = {\n",
    "    'Sabre Laser': 3,\n",
    "    'Coussin Linux': 2,\n",
    "    'Slip Goldorak': 1\n",
    "}\n",
    "\n",
    "assert tous_disponibles(panier1, d_produits) == True\n",
    "\n",
    "panier2 = {\n",
    "    'Sabre Laser': 3,\n",
    "    'Fraises': 2,\n",
    "    'Slip Goldorak': 1\n",
    "}\n",
    "assert tous_disponibles(panier2, d_produits) == False"
   ]
  },
  {
   "cell_type": "markdown",
   "metadata": {},
   "source": [
    "### Question 7\n",
    "Écrire la fonction `prix_achats` qui, étant donnés un panier d'achat et une base de produits, retourne le prix total correspondant.\n",
    "\n",
    "- Faire une version qui suppose que tous les articles du panier sont disponibles dans la base des produits.\n",
    "- Proposer une version qui renvoie une erreur si l'article du panier ne peut être trouvé dans la base.\n",
    "\n",
    "```python\n",
    "def prix_achats(panier_achat, base_prod):\n",
    "    ...\n",
    "```"
   ]
  },
  {
   "cell_type": "code",
   "execution_count": 17,
   "metadata": {},
   "outputs": [],
   "source": [
    "# Version avec erreur si produit non disponible\n",
    "def prix_achats(panier_achat, base_prod):\n",
    "    montant = 0\n",
    "    for prod, qte in panier_achat.items():\n",
    "        prix = base_prod.get(prod)\n",
    "        if prix is None:\n",
    "            return None\n",
    "        montant += prix * qte\n",
    "\n",
    "    return montant\n",
    "    \n",
    "panier1 = {\n",
    "    'Sabre Laser': 3,\n",
    "    'Coussin Linux': 2,\n",
    "    'Slip Goldorak': 1\n",
    "}\n",
    "\n",
    "assert prix_achats(panier1, d_produits) == 3*120 + 2*74.5 + 29.9\n",
    "### Note : l'assertion précédente devrait être fausse, car 'Sabre Laser': 229 !!!  \n",
    "\n",
    "panier2 = {\n",
    "    'Sabre Laser': 3,\n",
    "    'fraises': 2,\n",
    "    'Slip Goldorak': 1\n",
    "}\n",
    "\n",
    "assert prix_achats(panier2, d_produits) == None"
   ]
  },
  {
   "cell_type": "markdown",
   "metadata": {},
   "source": [
    "## TP : recettes de cuisine\n",
    "Dans cet exercice, on s'intéresse à la définition de fonctions permettant de manipuler un livre\n",
    "de recettes de cuisine. Comme tout bon livre de recettes qui se respecte, chaque recette décrit\n",
    "notamment l'ensemble des ingrédients qui la composent. À titre d’exemple, un livre de\n",
    "recettes de desserts pourrait contenir les informations suivantes :\n",
    "\n",
    "```\n",
    "|--------------------|----------------------------------------|\n",
    "| Recette            | Ingrédients                            |\n",
    "|--------------------|-----------------------------------------\n",
    "| Gâteau au chocolat | chocolat, oeufs, farine, sucre, beurre |\n",
    "| Gâteau au yaourt   | yaourt, oeufs, farine, sucre           |\n",
    "| Crêpes             | oeufs, farine, lait                    |\n",
    "| Quatre-quarts      | oeufs, farine, sucre, beurre           |\n",
    "| Kouign Amann       | farine, sucre, beurre                  |\n",
    "```\n",
    "\n",
    "Un livre de recettes est donc représenté en Python par un dictionnaire avec :\n",
    "\n",
    "- les noms des recettes, de type `str`, comme clés.\n",
    "- l'ensemble des ingrédients, de type `set` (chaque ingrédient du `set` étant un `str`)."
   ]
  },
  {
   "cell_type": "markdown",
   "metadata": {},
   "source": [
    "### Présentation des sets\n",
    "\n",
    "Inspiration : https://python.sdv.univ-paris-diderot.fr/13_dictionnaires_tuples_sets/\n",
    "\n",
    "Les variables de type `set` représentent un autre type d'objet séquentiel qui peut se révéler très pratique. Ils ont la particularité d'être **non modifiables**, **non ordonnés** et de ne contenir que des éléments ont la **valeur est unique**. Pour créer un nouveau set on peut utiliser les accolades :\n",
    "\n",
    "```python\n",
    ">>> s = {1, 2, 3, 3}\n",
    ">>> s\n",
    "{1, 2, 3}\n",
    ">>> type(s)\n",
    "<class 'set'>\n",
    "```\n",
    "\n",
    "Notez que :\n",
    "\n",
    "- La répétition du 3 dans la définition du set en ligne 1 donne au final un seul 3 car chaque élément ne peut être présent qu'une seule fois. \n",
    "\n",
    "- Les set et et les dictionnaires utilisent tous les deux des accolades. Cependant, le set sera défini seulement par des valeurs comme `{val1, val2, ...}` alors que le dictionnaire aura toujours des couples clé/valeur `{clé1: val1, clé2: val2, ...}`.\n",
    "\n",
    "```python\n",
    "s1 = {1, 2, 3}\n",
    ">>> type(s1)\n",
    "<class 'set'>\n",
    "d1 = {'a1': 1, 'a2': 2}\n",
    ">>> type(d1)\n",
    "<class 'dict'>\n",
    "```\n",
    "\n",
    "Pour initialiser un set vide, on ne peut pas utiliser `{}` car il y a confusion avec les dictionnaires. Ainsi on utilisera simplement la fonction `set()`.\n",
    "\n",
    "```python\n",
    "s = set()\n",
    "```\n",
    "\n",
    "De plus la fonction `set()` peut prendre en argument n'importe quel objet itérable (c'est à dire qu'on peut parcourir) et le convertit en set (opération de casting), par exemple :\n",
    "\n",
    "```python\n",
    ">>> set([1, 2, 4, 1])  # Conversion d'une liste en set\n",
    "{1, 2, 4}\n",
    ">>> set((2, 2, 2, 1))  # Conversion d'un tuple en set\n",
    "{1, 2}\n",
    ">>> set(range(5))\n",
    "{0, 1, 2, 3, 4}\n",
    ">>> set({\"clé1\": 1, \"clé2\": 2})\n",
    "{'clé1', 'clé2'}\n",
    ">>> set([\"ti\", \"to\", \"to\"])\n",
    "{'ti', 'to'}\n",
    ">>> set(\"Maître corbeau sur un arbre perché\")\n",
    "{'h', 'u', 'o', 'b', ' ', 'M', 'a', 'p', 'n', 'e', 'é', 'c', 'î', 's', 't', 'r'}\n",
    "```\n",
    "\n",
    "Nous avons dit plus haut que les sets ne sont pas ordonnés :\n",
    "\n",
    "```python\n",
    ">>> s1 = {1, 2, 3}\n",
    ">>> s2 = {2, 1, 3}\n",
    ">>> s1 == s2\n",
    "True\n",
    "```\n",
    "\n",
    "Par conséquent, il est impossible de récupérer un élément par sa position. Il est également impossible de modifier un de ses éléments.\n",
    "\n",
    "```python\n",
    ">>> s = set([1, 2, 4, 1])\n",
    ">>> s[1]\n",
    "Traceback (most recent call last):\n",
    "  File \"<stdin>\", line 1, in <module>\n",
    "TypeError: 'set' object is not subscriptable\n",
    "```\n",
    "\n",
    "Par contre, les sets sont itérables :\n",
    "\n",
    "```python\n",
    ">>> for elt in s:\n",
    "...     print(elt)\n",
    "...\n",
    "1\n",
    "2\n",
    "4\n",
    "```\n",
    "\n",
    "Si on ne peut pas modifier le contenu directement, on peut ajouter ou supprimer des éléments :\n",
    "\n",
    "```python\n",
    ">>> s = {1, 2, 3}\n",
    ">>> s.remove(1)\n",
    ">>> s\n",
    "{2, 3}\n",
    ">>> s.add(1)\n",
    ">>> s\n",
    "{1, 2, 3}\n",
    "```\n",
    "\n",
    "Les variables de type `set` sont très utiles pour rechercher les éléments uniques d'une suite d'éléments. Cela revient à éliminer tous les doublons. Par exemple :\n",
    "\n",
    "```python\n",
    ">>> lst = [1, 2, 2, 3, 3]\n",
    ">>> s = set(lst)\n",
    ">>> s\n",
    "{1, 2, 3}\n",
    ">>> lst2 = list(s)\n",
    ">>> lst2\n",
    "[1, 2, 3]\n",
    "```"
   ]
  },
  {
   "cell_type": "markdown",
   "metadata": {},
   "source": [
    "### Question 1\n",
    "Donner une représentation en Python de la base des recettes."
   ]
  },
  {
   "cell_type": "code",
   "execution_count": 35,
   "metadata": {},
   "outputs": [],
   "source": [
    "d_recettes = {\n",
    "    'Gâteau au chocolat': {'chocolat', 'oeufs', 'farine', 'sucre', 'beurre'},\n",
    "    'Crêpes': {'oeufs', 'farine', 'beurre'},\n",
    "    'Quatre-quarts': {'oeufs', 'farine', 'sucre', 'beurre'},\n",
    "    'Gâteau au yaourt': {'yaourt', 'oeufs', 'farine', 'sucre'},\n",
    "    'Kouign Amann': {'farine', 'sucre', 'beurre'},\n",
    "}\n",
    "### Note : les clés ne sont pas données dans le même ordre que l'énoncé..."
   ]
  },
  {
   "cell_type": "markdown",
   "metadata": {},
   "source": [
    "### Question 2\n",
    "Écrire la fonction `nb_ingredients` qui, étant donné un livre de recettes et\n",
    "le nom d'une recette contenue dans le livre, renvoie le nombre d'ingrédients nécessaires à la\n",
    "recette."
   ]
  },
  {
   "cell_type": "code",
   "execution_count": 36,
   "metadata": {},
   "outputs": [],
   "source": [
    "def nb_ingredients(livre_recettes, nom_recette):\n",
    "    # ingredients est de type set\n",
    "    ingredients = livre_recettes.get(nom_recette)\n",
    "    if ingredients is not None:\n",
    "        return len(ingredients)\n",
    "\n",
    "assert nb_ingredients(d_recettes, 'Crêpes') == 3\n",
    "assert nb_ingredients(d_recettes, 'Tiramisu') is None"
   ]
  },
  {
   "cell_type": "markdown",
   "metadata": {},
   "source": [
    "### Question 3\n",
    "Écrire la fonction `recette_avec` qui, étant donnés un livre de recettes et le\n",
    "nom d'un ingrédient, renvoie l'ensemble des recettes qui utilisent cet ingrédient."
   ]
  },
  {
   "cell_type": "code",
   "execution_count": 38,
   "metadata": {},
   "outputs": [],
   "source": [
    "def recette_avec(livre_recettes, ingredient):\n",
    "    recettes_ing = []\n",
    "    for recette, ingredients in livre_recettes.items():\n",
    "        if ingredient in ingredients:\n",
    "            recettes_ing.append(recette)\n",
    "\n",
    "    return recettes_ing\n",
    "\n",
    "assert recette_avec(d_recettes, 'oeufs') == ['Gâteau au chocolat', 'Crêpes',\n",
    "                                             'Quatre-quarts', 'Gâteau au yaourt']\n",
    "### Note : Le retour étant une liste, ses valeurs sont ordéonnées... L'assertion dépend donc de l'ordre des recettes (mal déclarées !!!)\n",
    "\n",
    "assert recette_avec(d_recettes, 'café') == []\n"
   ]
  },
  {
   "cell_type": "markdown",
   "metadata": {},
   "source": [
    "### Question 4\n",
    "Écrire la fonction `tous_ingredients` qui, étant donné un livre de recettes renvoie l'ensemble des ingrédients (sans doublons)."
   ]
  },
  {
   "cell_type": "code",
   "execution_count": 21,
   "metadata": {},
   "outputs": [],
   "source": [
    "def tous_ingredients(livre_recettes):\n",
    "    ens_ingredients = set()\n",
    "    for ingredients in livre_recettes.values():\n",
    "        for ingredient in ingredients:\n",
    "            ens_ingredients.add(ingredient)\n",
    "    \n",
    "    return ens_ingredients\n",
    "\n",
    "assert tous_ingredients(d_recettes) == {'beurre', 'farine', 'sucre', 'chocolat', 'yaourt', 'oeufs'}"
   ]
  },
  {
   "cell_type": "markdown",
   "metadata": {},
   "source": [
    "### Question 5\n",
    "Tout livre de recettes contient une table des ingrédients (index) permettant d'associer à chaque ingrédient l'ensemble des recettes qui l'utilisent. On peut représenter en Python une telle table par un dictionnaire dans lequel une clé est un ingrédient et la valeur associée est l'ensemble des recettes qui l’utilisent.\n",
    "Écrire la fonction `table_ingredients` qui, étant donné un livre de recettes, renvoie la table des ingrédients associée.\n",
    "\n",
    "Exemple :\n",
    "```python\n",
    "{\n",
    "    'chocolat': {'gâteau chocolat'},\n",
    "    'oeufs': {'crêpes', 'gâteau chocolat', 'gâteau yaourt', 'quatre-quarts'},\n",
    "    ...\n",
    "}\n",
    "```"
   ]
  },
  {
   "cell_type": "code",
   "execution_count": 22,
   "metadata": {},
   "outputs": [],
   "source": [
    "def tables_ingredients(livre_recettes):\n",
    "    table = {}  # C'est un dictionnaire\n",
    "    for recette, ingredients in livre_recettes.items():\n",
    "        for ingredient in ingredients:\n",
    "            recettes_existantes = table.get(ingredient)\n",
    "            if recettes_existantes is None:\n",
    "                table[ingredient] = {recette}  # Il s'agit d'un set\n",
    "            else:\n",
    "                # On modifie le set existant directement dans le dictionnaire\n",
    "                recettes_existantes.add(recette)\n",
    "\n",
    "    return table\n",
    "\n",
    "d_recettes_test = {\n",
    "    'r1': {'i1', 'i2', 'i3',},\n",
    "    'r2': {'i1', 'i2'},\n",
    "    'r3': {'i3'},\n",
    "}\n",
    "\n",
    "assert tables_ingredients(d_recettes_test) == {'i1': {'r1', 'r2'}, 'i2': {'r1', 'r2'}, 'i3': {'r1', 'r3'}}"
   ]
  },
  {
   "cell_type": "markdown",
   "metadata": {},
   "source": [
    "### Question 6\n",
    "Écrire la fonction `ingredient_principal` qui, étant donné un livre de recettes, renvoie le nom de l'ingrédient utilisé par le plus grand nombre de recettes."
   ]
  },
  {
   "cell_type": "code",
   "execution_count": 23,
   "metadata": {},
   "outputs": [],
   "source": [
    "def ingredient_principal(livre_recettes):\n",
    "    ing_nb_recettes = {}\n",
    "    for ingredient, recettes in tables_ingredients(livre_recettes).items():\n",
    "        ing_nb_recettes[ingredient] = len(recettes)\n",
    "    \n",
    "    num_max_recettes = 0\n",
    "    ingredient_p = None\n",
    "    for ingredient, nb_recettes in ing_nb_recettes.items():\n",
    "        if nb_recettes > num_max_recettes:\n",
    "            num_max_recettes = nb_recettes\n",
    "            ingredient_p = ingredient\n",
    "    \n",
    "    return ingredient_p\n",
    "\n",
    "d_recettes_test = {\n",
    "    'recette1': {'i1', 'i2', 'i3', 'i4', 'i5'},\n",
    "    'recette2': {'i1', 'i2', 'i3'},\n",
    "    'recette3': {'i1', 'i8', 'i9', 'i10'}\n",
    "}\n",
    "\n",
    "assert ingredient_principal(d_recettes_test) == 'i1'"
   ]
  },
  {
   "cell_type": "markdown",
   "metadata": {},
   "source": [
    "### Question 7\n",
    "Certaines personnes sont allergiques à certains ingrédients. On aimerait donc pouvoir ne\n",
    "conserver d'un livre de recettes que celles qui n'utilisent pas un ingrédient donné.\n",
    "\n",
    "Écrire la fonction `recettes_sans` qui, étant donné un livre de recettes et un ingrédient, renvoie un nouveau livre de recettes ne contenant que des recettes n'utilisant pas l’ingrédient."
   ]
  },
  {
   "cell_type": "code",
   "execution_count": 24,
   "metadata": {},
   "outputs": [],
   "source": [
    "def recettes_sans(livre_recettes, ingredient_indesirable):\n",
    "    nv_livre_recettes = {}\n",
    "    for recette, ingredients in livre_recettes.items():\n",
    "        if ingredient_indesirable not in ingredients:\n",
    "            nv_livre_recettes[recette] = ingredients\n",
    "    \n",
    "    return nv_livre_recettes\n",
    "\n",
    "assert recettes_sans(d_recettes, 'beurre') == {'Gâteau au yaourt': {'farine', 'sucre', 'yaourt', 'oeufs'}}\n",
    "assert recettes_sans(d_recettes, 'farine') == {}"
   ]
  },
  {
   "cell_type": "markdown",
   "metadata": {},
   "source": [
    "## TP : Gestion de bibliothèque\n",
    "\n",
    "Dans cet exercice, nous illustrons la manipulation des dictionnaires en travaillant sur une \"base de données\" de livres empruntables dans une bibliothèque.\n",
    "\n",
    "La base permet de rechercher rapidement un livre à partir de son titre (clé du dictionnaire). On\n",
    "obtient alors l'auteur du livre ainsi que le nombre d’exemplaire(s) empruntable(s) en stock.\n",
    "\n",
    "Par exemple :"
   ]
  },
  {
   "cell_type": "code",
   "execution_count": 25,
   "metadata": {},
   "outputs": [
    {
     "data": {
      "text/plain": [
       "('Victor Hugo', 4)"
      ]
     },
     "execution_count": 25,
     "metadata": {},
     "output_type": "execute_result"
    }
   ],
   "source": [
    "# Base de données\n",
    "base_livres = {\n",
    "    'Les misérables': ('Victor Hugo', 5),\n",
    "    'Le dernier des Mohicans': ('James F. Cooper', 0),\n",
    "    'Un animal doué de raison': ('Robert Merle', 6),\n",
    "    'Le grand Meaulnes': ('Alain Fournier', 1),\n",
    "    'Notre-Dame de Paris': ('Victor Hugo', 4),\n",
    "    'Les comtemplations': ('Victor Hugo', 0) \n",
    "}\n",
    "\n",
    "base_livres['Notre-Dame de Paris']"
   ]
  },
  {
   "cell_type": "markdown",
   "metadata": {},
   "source": [
    "L'auteur du livre *Notre-Dame de Paris* est *Victor Hugo* et il est disponible en *4* exemplaires.\n",
    "\n",
    "**Question** : quel est le *type* de variable des valeurs des clés du dictionnaire ?"
   ]
  },
  {
   "cell_type": "markdown",
   "metadata": {},
   "source": [
    "### Question 1\n",
    "\n",
    "Écrire la fonction `auteurs` qui, étant donnée une base de livres, retourne l'ensemble des auteurs de cette base."
   ]
  },
  {
   "cell_type": "code",
   "execution_count": 26,
   "metadata": {},
   "outputs": [],
   "source": [
    "# Version 1\n",
    "\n",
    "def auteurs(d_base_livres):\n",
    "    s_auteurs = set()\n",
    "    for info in d_base_livres.values():\n",
    "        s_auteurs.add(info[0])\n",
    "    \n",
    "    return s_auteurs\n",
    "\n",
    "# L'intersection entre les deux sets renvoie un ensemble vide\n",
    "s_result = {'Alain Fournier', 'James F. Cooper', 'Robert Merle', 'Victor Hugo'}\n",
    "\n",
    "assert auteurs(base_livres) == s_result\n",
    "\n",
    "# assert len(auteurs(base_livres).difference(s_result)) == 0"
   ]
  },
  {
   "cell_type": "code",
   "execution_count": 27,
   "metadata": {},
   "outputs": [],
   "source": [
    "def auteurs(d_base_livres):\n",
    "    s_auteurs = set()\n",
    "    for auteur, _ in d_base_livres.values():\n",
    "        s_auteurs.add(auteur)\n",
    "    \n",
    "    return s_auteurs\n",
    "\n",
    "s_result = {'Alain Fournier', 'James F. Cooper', 'Robert Merle', 'Victor Hugo'}\n",
    "\n",
    "assert auteurs(base_livres) == s_result\n",
    "\n",
    "# assert len(auteurs(base_livres).difference(s_result)) == 0"
   ]
  },
  {
   "cell_type": "markdown",
   "metadata": {},
   "source": [
    "### Question 2\n",
    "\n",
    "\n",
    "Écrire la fonction `nb_exemplaires_total` qui, étant donnée une base de livres, retourne le nombre total d'exemplaires disponibles."
   ]
  },
  {
   "cell_type": "code",
   "execution_count": 28,
   "metadata": {},
   "outputs": [],
   "source": [
    "# Version 1\n",
    "\n",
    "def nb_exemplaires_total(d_base_livres):\n",
    "    total_ex = 0\n",
    "    for info in d_base_livres.values():\n",
    "        total_ex += info[1]\n",
    "    \n",
    "    return total_ex\n",
    "\n",
    "assert nb_exemplaires_total(base_livres) == 16"
   ]
  },
  {
   "cell_type": "code",
   "execution_count": 29,
   "metadata": {},
   "outputs": [],
   "source": [
    "# Version 2\n",
    "\n",
    "def nb_exemplaires_total(d_base_livres):\n",
    "    total_ex = 0\n",
    "    for _, nb_ex in d_base_livres.values():\n",
    "        total_ex += nb_ex\n",
    "    \n",
    "    return total_ex\n",
    "\n",
    "assert nb_exemplaires_total(base_livres) == 16"
   ]
  },
  {
   "cell_type": "markdown",
   "metadata": {},
   "source": [
    "### Question 3\n",
    "\n",
    "Écrire la fonction `est_disponible` qui, étant donnée une base de livres, un titre et un auteur, indique si le livre est disponible (la fonction renverra `True` ou `False`. Si le livre et l'auteur correspondant n'existent pas, la fonction renverra `None`."
   ]
  },
  {
   "cell_type": "code",
   "execution_count": 30,
   "metadata": {},
   "outputs": [],
   "source": [
    "def est_disponible(livres, titre_cherche, auteur_cherche):\n",
    "    trouve = False\n",
    "    for titre, info_livre in livres.items():\n",
    "        if titre.lower() == titre_cherche.lower() and info_livre[0].lower() == auteur_cherche.lower():\n",
    "            if info_livre[1] > 0:\n",
    "                return True\n",
    "            else:\n",
    "                return False\n",
    "    if not trouve:\n",
    "        return None\n",
    "    \n",
    "assert est_disponible(base_livres, 'les misérables', 'Victor Hugo') == True\n",
    "assert est_disponible(base_livres, 'les misérables', 'VICTOR HUGO') == True\n",
    "assert est_disponible(base_livres, 'les misérables 2', 'VICTOR HUGO') == None\n",
    "assert est_disponible(base_livres, 'Le dernier des Mohicans', 'James F. Cooper') == False"
   ]
  },
  {
   "cell_type": "markdown",
   "metadata": {},
   "source": [
    "### Question 4\n",
    "\n",
    "Écrire la fonction `titres_empruntables` qui, étant donné unee base de livres, retourne l'ensemble des livres empruntables."
   ]
  },
  {
   "cell_type": "code",
   "execution_count": 31,
   "metadata": {},
   "outputs": [],
   "source": [
    "def titres_empruntables(livres):\n",
    "    empruntables = {}\n",
    "    for titre, info in livres.items():\n",
    "        if info[1] > 0:\n",
    "            empruntables[titre] = info\n",
    "\n",
    "    return empruntables\n",
    "\n",
    "base_livres_test = {\n",
    "    'titre1': ('auteur1', 1),\n",
    "    'titre2': ('auteur2', 0),\n",
    "    'titre3': ('auteur2', 4)\n",
    "}\n",
    "\n",
    "assert titres_empruntables(base_livres_test) == {\n",
    "    'titre1': ('auteur1', 1),\n",
    "    'titre3': ('auteur2', 4)\n",
    "}"
   ]
  },
  {
   "cell_type": "markdown",
   "metadata": {},
   "source": [
    "### Question 5\n",
    "\n",
    "Écrire la fonction `titres_auteur` qui, étant donnés un nom d'auteur et une base de livres, retourne l'ensemble des titres de livres écrits par cet auteur."
   ]
  },
  {
   "cell_type": "code",
   "execution_count": 32,
   "metadata": {},
   "outputs": [],
   "source": [
    "def titres_auteur(auteur, livres):\n",
    "    titres_livres = []\n",
    "    for titre, info in livres.items():\n",
    "        if info[0].lower() == auteur.lower():\n",
    "            titres_livres.append(titre)\n",
    "    return titres_livres\n",
    "\n",
    "assert titres_auteur('Victor Hugo', base_livres) == ['Les misérables', 'Notre-Dame de Paris', 'Les comtemplations']\n",
    "assert titres_auteur('Joe Dalton', base_livres) == []"
   ]
  }
 ],
 "metadata": {
  "celltoolbar": "Tags",
  "kernelspec": {
   "display_name": "Python 3",
   "language": "python",
   "name": "python3"
  },
  "language_info": {
   "codemirror_mode": {
    "name": "ipython",
    "version": 3
   },
   "file_extension": ".py",
   "mimetype": "text/x-python",
   "name": "python",
   "nbconvert_exporter": "python",
   "pygments_lexer": "ipython3",
   "version": "3.8.3"
  }
 },
 "nbformat": 4,
 "nbformat_minor": 4
}
