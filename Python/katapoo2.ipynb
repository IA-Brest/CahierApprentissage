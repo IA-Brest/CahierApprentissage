{
 "cells": [
  {
   "cell_type": "markdown",
   "metadata": {},
   "source": [
    "# Kata POO, la suite\n",
    "\n",
    "Voici de nouveaux exercice sur la POO pour apprendre à manipuler les objets."
   ]
  },
  {
   "cell_type": "markdown",
   "metadata": {},
   "source": [
    "## La classe acteur\n",
    "\n",
    "Créez une classe acteur, elle doit avoir un constructeur qui initialise, à partir des paramétres, deux attributs : le nom et le prénom.\n",
    "\n",
    "Puis, créez 3 objets : Chantal Lauby, Dominique Farougia et Alain Chabat."
   ]
  },
  {
   "cell_type": "code",
   "execution_count": 109,
   "metadata": {},
   "outputs": [
    {
     "name": "stdout",
     "output_type": "stream",
     "text": [
      "Alain Chabat, Bruno Carette, Chantal Lauby, Dominique Farougia\n"
     ]
    }
   ],
   "source": [
    "\n",
    "class Acteur:\n",
    "\n",
    "  \"\"\"Represente un acteur par son Nom et son  Prénom\"\"\"\n",
    "\n",
    "  def __init__(self, nom, prenom):\n",
    "    \"\"\"Nom et Prénom de l'Acteur\n",
    "\n",
    "    :nom: TODO\n",
    "    :prenom: TODO\n",
    "\n",
    "    \"\"\"\n",
    "    self._nom = nom\n",
    "    self._prenom = prenom\n",
    "\n",
    "  def __str__(self):\n",
    "    return(f\"{self._prenom} {self._nom}\")\n",
    "    \n",
    "alain = Acteur(\"Chabat\", \"Alain\")\n",
    "bruno = Acteur(\"Carette\", \"Bruno\")\n",
    "chantal = Acteur(\"Lauby\", \"Chantal\")\n",
    "dominique = Acteur(\"Farougia\", \"Dominique\")\n",
    "\n",
    "print(alain, bruno, chantal, dominique, sep=', ')"
   ]
  },
  {
   "cell_type": "markdown",
   "metadata": {},
   "source": [
    "## La classe film\n",
    "\n",
    "Créez une classe Film et initialisez ses attributs titre et genre à partir des paramétres d'un constructeur. Créez un objet film, de titre \"La Cité de la Peur\" et de genre \"Comédie\". "
   ]
  },
  {
   "cell_type": "code",
   "execution_count": 110,
   "metadata": {},
   "outputs": [
    {
     "name": "stdout",
     "output_type": "stream",
     "text": [
      "La Cité de la Peur (Comédie)\n"
     ]
    }
   ],
   "source": [
    "class Film:\n",
    "\n",
    "  \"\"\"Represente un Film\"\"\"\n",
    "\n",
    "  def __init__(self, titre, genre):\n",
    "    \"\"\"Titre et genre du film\n",
    "\n",
    "    :titre: Titre du Film\n",
    "    :genre: Genre du Film\n",
    "\n",
    "    \"\"\"\n",
    "    self._titre = titre\n",
    "    self._genre = genre\n",
    "\n",
    "  def __rep__(self):\n",
    "    return(f\"{self._titre} ({self._genre})\")\n",
    "    \n",
    "film_culte = Film(titre=\"La Cité de la Peur\", genre=\"Comédie\")\n",
    "print(film_culte)"
   ]
  },
  {
   "cell_type": "markdown",
   "metadata": {},
   "source": [
    "## Une liste d'acteurs\n",
    "\n",
    "Ajoutez dans votre code un liste python qui doit contenir les 3 objets acteurs créés précédement."
   ]
  },
  {
   "cell_type": "code",
   "execution_count": 117,
   "metadata": {},
   "outputs": [
    {
     "name": "stdout",
     "output_type": "stream",
     "text": [
      "[<__main__.Acteur object at 0x000001646FC28850>, <__main__.Acteur object at 0x000001646FC28C40>, <__main__.Acteur object at 0x000001646D887580>]\n",
      "Alain Chabat (acteur, réalisateur)\n",
      "Chantal Lauby (acteur, sénariste)\n",
      "Dominique Farougia (acteur, réalisateur)\n"
     ]
    }
   ],
   "source": [
    "acteurs = list([alain, chantal, dominique])\n",
    "print(acteurs)\n",
    "for a in acteurs:\n",
    "    print(a)"
   ]
  },
  {
   "cell_type": "markdown",
   "metadata": {},
   "source": [
    "## Une liste d'acteurs pour les films\n",
    "\n",
    "Modifiez le constructeur de la classe Film pour pouvoir initialiser une liste d'acteurs à partir de celle que vous avez créez dans votre code. \n",
    "\n",
    "Ajoutez les 3 acteurs déjà créés au film \"La Cité de la Peur\"."
   ]
  },
  {
   "cell_type": "code",
   "execution_count": 112,
   "metadata": {},
   "outputs": [
    {
     "name": "stdout",
     "output_type": "stream",
     "text": [
      "La Cité de la Peur (Comédie) : Alain Chabat, Chantal Lauby, Dominique Farougia\n"
     ]
    }
   ],
   "source": [
    "class Film:\n",
    "\n",
    "  \"\"\"Represente un Film\"\"\"\n",
    "\n",
    "  def __init__(self, titre, genre, acteurs=list()):\n",
    "    \"\"\"Titre et genre du film\n",
    "\n",
    "    :titre: Titre du Film\n",
    "    :genre: Genre du Film\n",
    "    :acteurs: Acteurs principaux\n",
    "\n",
    "    \"\"\"\n",
    "    self._titre = titre\n",
    "    self._genre = genre\n",
    "    self._acteurs = acteurs\n",
    "\n",
    "  def __str__(self):\n",
    "    acteurs = ', '.join(str(acteur) for acteur in self._acteurs)\n",
    "    return(f\"{self._titre} ({self._genre}) : {acteurs}\")\n",
    "    \n",
    "film_culte = Film(titre=\"La Cité de la Peur\", genre=\"Comédie\", acteurs=acteurs)\n",
    "print(film_culte)"
   ]
  },
  {
   "cell_type": "markdown",
   "metadata": {},
   "source": [
    "## Ajout d'un acteur\n",
    "\n",
    "Ajoutez dans la classe Film une méthode qui permet d'ajouter un nouvelle acteur à la liste.\n",
    "\n",
    "Ajoutez Gérard Darmon aux acteurs du film \"La Cité de la Peur\"."
   ]
  },
  {
   "cell_type": "code",
   "execution_count": 118,
   "metadata": {},
   "outputs": [
    {
     "name": "stdout",
     "output_type": "stream",
     "text": [
      "La Cité de la Peur (Comédie) : Alain Chabat (acteur, réalisateur), Chantal Lauby (acteur, sénariste), Dominique Farougia (acteur, réalisateur), Gérard Darmon (acteur)\n"
     ]
    }
   ],
   "source": [
    "class Film:\n",
    "\n",
    "  \"\"\"Represente un Film\"\"\"\n",
    "\n",
    "  def __init__(self, titre, genre, acteurs=list()):\n",
    "    \"\"\"Titre et genre du film\n",
    "\n",
    "    :titre: Titre du Film\n",
    "    :genre: Genre du Film\n",
    "    :acteurs: Acteurs principaux\n",
    "\n",
    "    \"\"\"\n",
    "    self._titre = titre\n",
    "    self._genre = genre\n",
    "    self._acteurs = acteurs\n",
    "\n",
    "  def add_acteur(self, acteur):\n",
    "    \"\"\"Ajouter un acteur\n",
    "\n",
    "    :acteur: Acteur à ajouter\n",
    "    :returns: Nothing if allright\n",
    "\n",
    "    \"\"\"\n",
    "    self._acteurs.append(acteur)\n",
    "\n",
    "  def __str__(self):\n",
    "    acteurs = ', '.join(str(acteur) for acteur in self._acteurs)\n",
    "    return(f\"{self._titre} ({self._genre}) : {acteurs}\")\n",
    "    \n",
    "film_culte = Film(titre=\"La Cité de la Peur\", genre=\"Comédie\", acteurs=acteurs)\n",
    "film_culte.add_acteur(Acteur(\"Darmon\", \"Gérard\"))\n",
    "print(film_culte)"
   ]
  },
  {
   "cell_type": "markdown",
   "metadata": {},
   "source": [
    "## Evolution de la classe Acteur\n",
    "\n",
    "Ajoutez un attribut métier sur la classe Acteur. Il est initialisé, par défaut, à \"acteur\". Attention, un acteur peut avoir plusieurs métiers."
   ]
  },
  {
   "cell_type": "code",
   "execution_count": 114,
   "metadata": {},
   "outputs": [
    {
     "name": "stdout",
     "output_type": "stream",
     "text": [
      "Alain Chabat (acteur) / Bruno Carette (acteur) / Chantal Lauby (acteur) / Dominique Farougia (acteur)\n"
     ]
    }
   ],
   "source": [
    "class Acteur:\n",
    "\n",
    "  \"\"\"Represente un acteur par son Nom et son  Prénom\"\"\"\n",
    "\n",
    "  def __init__(self, nom, prenom, metier=\"acteur\"):\n",
    "    \"\"\"Nom et Prénom de l'Acteur\n",
    "\n",
    "    :nom: TODO\n",
    "    :prenom: TODO\n",
    "\n",
    "    \"\"\"\n",
    "    self._nom = nom\n",
    "    self._prenom = prenom\n",
    "    self._metiers = list()\n",
    "    self._metiers.append(metier)\n",
    "\n",
    "  def __str__(self):\n",
    "    metier = ', '.join(str(m) for m in self._metiers)\n",
    "    return(f\"{self._prenom} {self._nom} ({metier})\")\n",
    "    \n",
    "alain = Acteur(\"Chabat\", \"Alain\")\n",
    "bruno = Acteur(\"Carette\", \"Bruno\")\n",
    "chantal = Acteur(\"Lauby\", \"Chantal\")\n",
    "dominique = Acteur(\"Farougia\", \"Dominique\")\n",
    "\n",
    "print(alain, bruno, chantal, dominique, sep=' / ')\n"
   ]
  },
  {
   "cell_type": "markdown",
   "metadata": {},
   "source": [
    "## Changement de métier\n",
    "\n",
    "Ajouter une méthode qui permet de modifier le métier d'un acteur à partir d'un attribut.\n",
    "\n",
    "Dominique Farougia et Alain Chabat deviennent acteurs et réalisateurs. Chantal Lauby est aussi scénariste."
   ]
  },
  {
   "cell_type": "code",
   "execution_count": 120,
   "metadata": {},
   "outputs": [
    {
     "name": "stdout",
     "output_type": "stream",
     "text": [
      "La Cité de la Peur (Comédie) : Alain Chabat (acteur, réalisateur), Chantal Lauby (acteur, sénariste), Dominique Farougia (acteur, réalisateur), Gérard Darmon (acteur)\n"
     ]
    }
   ],
   "source": [
    "class Acteur:\n",
    "\n",
    "  \"\"\"Represente un acteur par son Nom et son  Prénom\"\"\"\n",
    "\n",
    "  def __init__(self, nom, prenom, metier=\"acteur\"):\n",
    "    \"\"\"Nom et Prénom de l'Acteur\n",
    "\n",
    "    :nom: TODO\n",
    "    :prenom: TODO\n",
    "\n",
    "    \"\"\"\n",
    "    self._nom = nom\n",
    "    self._prenom = prenom\n",
    "    self._metiers = list()\n",
    "    self.add_metier(metier)\n",
    "\n",
    "  def __str__(self):\n",
    "    metier = ', '.join(str(m) for m in self._metiers)\n",
    "    return(f\"{self._prenom} {self._nom} ({metier})\")\n",
    "\n",
    "  def add_metier(self, metier):\n",
    "    self._metiers.append(metier)\n",
    "    \n",
    "    \n",
    "    \n",
    "alain = Acteur(\"Chabat\", \"Alain\")\n",
    "alain.add_metier(\"réalisateur\")\n",
    "bruno = Acteur(\"Carette\", \"Bruno\")\n",
    "chantal = Acteur(\"Lauby\", \"Chanutal\")\n",
    "chantal.add_metier(\"sénariste\")\n",
    "dominique = Acteur(\"Farougia\", \"Dominique\")\n",
    "dominique.add_metier(\"réalisateur\")\n",
    "\n",
    "print(film_culte)\n"
   ]
  },
  {
   "cell_type": "markdown",
   "metadata": {},
   "source": [
    "## Pour aller plus loin\n",
    "\n",
    "Modifiez le constructeur de la classe Acteur pour générer tous les attributs à partir d'un liste passée en paramètre."
   ]
  },
  {
   "cell_type": "code",
   "execution_count": null,
   "metadata": {},
   "outputs": [],
   "source": []
  },
  {
   "cell_type": "markdown",
   "metadata": {},
   "source": [
    "## Un peu de documentation\n",
    "\n",
    "Voici un nouveau lien vers un tuto sur la programmation orientée objet en Python : [Cours Pyton](https://courspython.com/classes-et-objets.html#la-notion-de-constructeur)\n",
    "\n",
    "Suivez l'exemple jusqu'au chapitre *La notion de constructeur* inclus."
   ]
  }
 ],
 "metadata": {
  "jupytext": {
   "formats": "ipynb,md"
  },
  "kernelspec": {
   "display_name": "Python 3",
   "language": "python",
   "name": "python3"
  },
  "language_info": {
   "codemirror_mode": {
    "name": "ipython",
    "version": 3
   },
   "file_extension": ".py",
   "mimetype": "text/x-python",
   "name": "python",
   "nbconvert_exporter": "python",
   "pygments_lexer": "ipython3",
   "version": "3.8.3"
  }
 },
 "nbformat": 4,
 "nbformat_minor": 4
}
