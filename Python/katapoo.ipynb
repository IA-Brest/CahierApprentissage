{
 "cells": [
  {
   "cell_type": "markdown",
   "metadata": {},
   "source": [
    "# Kata POO\n",
    "\n",
    "Voici quelques exercices pour vous entrainnez sur la création et la manipulation des classes."
   ]
  },
  {
   "cell_type": "markdown",
   "metadata": {},
   "source": [
    "## Exercice 1\n",
    "\n",
    "Créer une classe personne avec un nom, un prénom et une adresse. Créez une instance d’objet de personne et afficher son nom, son prénom et son adresse."
   ]
  },
  {
   "cell_type": "code",
   "execution_count": 3,
   "metadata": {},
   "outputs": [
    {
     "name": "stdout",
     "output_type": "stream",
     "text": [
      "Heller Romain romain@heller\n"
     ]
    }
   ],
   "source": [
    "class Personne:\n",
    "    def __init__(self, nom, prenom, adresse):\n",
    "        self.nom = nom\n",
    "        self.prenom = prenom\n",
    "        self.adresse = adresse\n",
    "\n",
    "Rom1 = Personne(\"Heller\", \"Romain\", \"romain@heller\")\n",
    "\n",
    "print(Rom1.nom, Rom1.prenom, Rom1.adresse)"
   ]
  },
  {
   "cell_type": "markdown",
   "metadata": {},
   "source": [
    "## Exercice 2\n",
    "\n",
    "Écrivez une classe représentant une ville. Elle a pour variables nom et département et une méthode affichant « la ville X est dans le département Y ». Créez des objets ville ( Nantes dans La Loire Atlantique, Lyon dans le Rhône et Brest dans le Finistère), affectez leurs variables, et utilisez la méthode d’affichage. "
   ]
  },
  {
   "cell_type": "code",
   "execution_count": 4,
   "metadata": {},
   "outputs": [
    {
     "name": "stdout",
     "output_type": "stream",
     "text": [
      "La ville Nantes est dans le département Loire Atlantique\n",
      "La ville Brest est dans le département Finitère\n"
     ]
    }
   ],
   "source": [
    "class Ville:\n",
    "    def __init__(self, nom, departement):\n",
    "        self.nom = nom\n",
    "        self.departement = departement\n",
    "    \n",
    "    def __str__(self):\n",
    "        return(f\"La ville {self.nom} est dans le département {self.departement}\")\n",
    "\n",
    "nantes = Ville(\"Nantes\", \"Loire Atlantique\")        \n",
    "brest = Ville(\"Brest\", \"Finitère\")\n",
    "\n",
    "print(nantes, brest, sep=\"\\n\")"
   ]
  },
  {
   "cell_type": "markdown",
   "metadata": {},
   "source": [
    "## Exercice 3\n",
    "\n",
    "Ajoutez une variable code postal à initialiser dans le constructeur par un passage de paramètre. Créez une liste de villes (en reprenant les 3 exemples précédent).\n",
    "\n",
    "Afficher, à partir de la liste, toutes les villes."
   ]
  },
  {
   "cell_type": "code",
   "execution_count": 6,
   "metadata": {},
   "outputs": [
    {
     "name": "stdout",
     "output_type": "stream",
     "text": [
      "La ville Nantes est dans le département Loire Atlantique (44100)\n",
      "La ville Brest est dans le département Finitère (29200)\n"
     ]
    }
   ],
   "source": [
    "class Ville:\n",
    "    def __init__(self, nom, departement, cp):\n",
    "        self.nom = nom\n",
    "        self.departement = departement\n",
    "        self.cp = cp\n",
    "    \n",
    "    def __str__(self):\n",
    "        return(f\"La ville {self.nom} est dans le département {self.departement} ({self.cp})\")\n",
    "\n",
    "villes = [Ville(\"Nantes\", \"Loire Atlantique\", 44100), Ville(\"Brest\", \"Finitère\", 29200)]\n",
    "\n",
    "for v in villes:\n",
    "  print(v)"
   ]
  },
  {
   "cell_type": "markdown",
   "metadata": {},
   "source": [
    "## Exercice 4\n",
    "\n",
    "Ajouter du code dans l’exercice précédent pour que lorsqu’on tape le code postal d’une ville, on affiche la ville correspondant et son département."
   ]
  },
  {
   "cell_type": "code",
   "execution_count": 28,
   "metadata": {},
   "outputs": [
    {
     "name": "stdout",
     "output_type": "stream",
     "text": [
      "GoT\n",
      "MiB\n"
     ]
    }
   ],
   "source": [
    "file = [\"Game of Throne\", \"Man in Black\"] # open(\"/usercode/files/books.txt\", \"r\")\n",
    "\n",
    "#your code goes here\n",
    "\n",
    "for l in file:\n",
    "    t = \"\"\n",
    "    words = l.split()\n",
    "    for w in words:\n",
    "        t+=w[0]\n",
    "    print(t)\n"
   ]
  },
  {
   "cell_type": "markdown",
   "metadata": {},
   "source": [
    "## Exercice 5\n",
    "\n",
    "Créez la classe Vehicule avec les variables suivantes : nombre_roue, nombre_place, couleur, marque, nom, prix_dollard, prix_euro. \n",
    "\n",
    "Cette classe contient un constructeur qui initialise les 5 premières variables (toutes sauf les prix) grâce à des paramètres. Puis créez une méthode ayant pour paramètre prix qui définit le prix du véhicule en euros (variable prix_euro de l'objet) et une méthode prix_euro_vers_dollar permettant de définir la variable prix_dollar de l'objet. Pensez aussi à une méthode pour afficher toutes les variables (dollars et euros incluses). \n",
    "\n",
    "Dans le programme principal, instanciez la classe correspondante (objet avec les paramètres suivants : 4, 5, \"vert\", \"Renault\", \"Mégane\"). Appelez la définition du prix du véhicule en lui fournissant la valeur suivante : 164 000. \n",
    "\n",
    "Appelez la méthode de conversion de prix. Afficher la description du véhicule. "
   ]
  },
  {
   "cell_type": "code",
   "execution_count": 26,
   "metadata": {},
   "outputs": [
    {
     "name": "stdout",
     "output_type": "stream",
     "text": [
      "('couleur', 'vert')('marque', 'Renault')('modele', 'Mégane')('nombre_places', 5)('nombre_roues', 4)('prix_dollard', 147600.0)('prix_euro', 164000.0)\n"
     ]
    }
   ],
   "source": [
    "change = 0.9\n",
    "\n",
    "class Vehicule:\n",
    "    def __init__(self, **kargs):\n",
    "        for variable, valeur in kargs.items():\n",
    "            setattr(self, variable, valeur)\n",
    "\n",
    "    def prix_euro(self, prix):\n",
    "        self.prix_euro = float(prix)\n",
    "        self.prix_dollard(prix)\n",
    "        return self\n",
    "    \n",
    "    def prix_dollard(self, prix):\n",
    "        self.prix_dollard = prix * change\n",
    "        \n",
    "    def __str__(self):\n",
    "        rsp = \"\"\n",
    "        import inspect\n",
    "        for i in inspect.getmembers(self):\n",
    "            if not i[0].startswith('_'):\n",
    "                if not inspect.ismethod(i[1]):\n",
    "                    rsp += str(i)\n",
    "        return rsp\n",
    "\n",
    "megane = Vehicule(nombre_roues=4, nombre_places=5, couleur=\"vert\", marque=\"Renault\", modele=\"Mégane\")\n",
    "megane.prix_euro(164000)\n",
    "\n",
    "print(megane)"
   ]
  },
  {
   "cell_type": "markdown",
   "metadata": {},
   "source": [
    "## Exercice 6\n",
    "\n",
    "A partir de l'exercice précédant, créez une liste concession. Ce tableau doit contenir l'objet mégane que vous avez déjà créé. Y ajouter la voiture suivante : une citroen Picasso, grise, 7 places à 21000 €. \n",
    "\n",
    "Ecrire le code qui permet d'afficher la description de toutes les voitures de la concession. "
   ]
  },
  {
   "cell_type": "code",
   "execution_count": 16,
   "metadata": {},
   "outputs": [
    {
     "name": "stdout",
     "output_type": "stream",
     "text": [
      "Renault Mégane vert 164000.0 € / 147600.0 $\n",
      "Citroën Picasso grise 21000.0 € / 18900.0 $\n"
     ]
    }
   ],
   "source": [
    "concession = [megane, Vehicule( marque=\"Citroën\", modele=\"Picasso\", couleur=\"grise\", nombre_places=7, nombre_roues=4).prix_euro(21000)]\n",
    "\n",
    "for v in concession:\n",
    "    print(v)"
   ]
  },
  {
   "cell_type": "markdown",
   "metadata": {},
   "source": [
    "## Exercice 7\n",
    "\n",
    "Dans votre IDE, refaire le code précédent en créant un fichier véhicule.py. Il ne contient que le code de la classe. Le reste du code est dans un autre fichier Python. Faites fonctionner votre projet avec ces 2 fichiers."
   ]
  }
 ],
 "metadata": {
  "kernelspec": {
   "display_name": "Python 3",
   "language": "python",
   "name": "python3"
  },
  "language_info": {
   "codemirror_mode": {
    "name": "ipython",
    "version": 3
   },
   "file_extension": ".py",
   "mimetype": "text/x-python",
   "name": "python",
   "nbconvert_exporter": "python",
   "pygments_lexer": "ipython3",
   "version": "3.8.3"
  }
 },
 "nbformat": 4,
 "nbformat_minor": 4
}
