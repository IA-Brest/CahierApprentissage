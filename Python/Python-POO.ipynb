{
 "cells": [
  {
   "cell_type": "markdown",
   "metadata": {},
   "source": [
    "# Programation Orientée Objet en Python\n",
    "\n",
    "Les classes fournissent :\n",
    "- Héritage multiples\n",
    "- Surcharge des méthodes\n",
    "- Appel de la méthode de la classe parente éponyme.\n",
    "- Crées à l'exécution et modifiable.\n",
    "\n",
    "Les membres d'une classe ont :\n",
    "- Un accès publique (protégé ou privé uniquement par convention de nommage)\n",
    "- des fonctions membres virtuelles\n",
    "- encapsulation : pas d'accès aux membres depuis les méthodes, mais par une représentation de l'objet passé implicitement comme premier paramètre de la méthode.\n",
    "\n",
    "Les classes sont des objets, les types natifs peuvent être étendus, et les opérateurs peuvent être redéfinis pour les instances de classes.\n",
    "\n",
    "## Nommage des objets\n",
    "\n",
    "Les objets sont nommés par des alias qui se comportent comme des pointeurs.\n",
    "Dans le cas d'un objet passé en argument, il y a donc un passage par référance, et risque d'effet de bord.\n",
    "\n",
    "## Portée et espace de nommage\n",
    "\n",
    "Espace de nommage : table de correspondance entre noms et objets.\n",
    "- Primitives (exceptions de base et fonctions natives) dans `builtins`\n",
    "- Noms globaux dans un module (partagent le namespce des attributs), `__main__` par défaut\n",
    "- Noms locaux dans une fonction\n",
    "- Ensemble des attributs d'un objet\n",
    "\n",
    "Attributs :\n",
    "- modifiables ou en lecture seule\n",
    "- affectation : `nom_module.nom_attribut = 42`\n",
    "- suppression : `del nom_module.nom_attribut`\n"
   ]
  },
  {
   "cell_type": "code",
   "execution_count": 2,
   "metadata": {
    "lines_to_next_cell": 0
   },
   "outputs": [
    {
     "name": "stdout",
     "output_type": "stream",
     "text": [
      "After local assignment: test spam\n",
      "After nonlocal assignment: nonlocal spam\n",
      "After global assignment: nonlocal spam\n",
      "In global scope: global spam\n"
     ]
    }
   ],
   "source": [
    "def scope_test():\n",
    "  def do_local():\n",
    "    spam = \"local spam\"\n",
    "\n",
    "  def do_nonlocal():\n",
    "    nonlocal spam\n",
    "    spam = \"nonlocal spam\"\n",
    "\n",
    "  def do_global():\n",
    "    global spam\n",
    "    spam = \"global spam\"\n",
    "\n",
    "  spam = \"test spam\"\n",
    "  do_local()\n",
    "  print(\"After local assignment:\", spam)\n",
    "  do_nonlocal()\n",
    "  print(\"After nonlocal assignment:\", spam)\n",
    "  do_global()\n",
    "  print(\"After global assignment:\", spam)\n",
    "\n",
    "scope_test()\n",
    "print(\"In global scope:\", spam)"
   ]
  },
  {
   "cell_type": "markdown",
   "metadata": {},
   "source": []
  },
  {
   "cell_type": "markdown",
   "metadata": {},
   "source": [
    "  ```python\n",
    "\n",
    "  ```"
   ]
  }
 ],
 "metadata": {
  "jupytext": {
   "formats": "ipynb,md"
  },
  "kernelspec": {
   "display_name": "Python 3",
   "language": "python",
   "name": "python3"
  },
  "language_info": {
   "codemirror_mode": {
    "name": "ipython",
    "version": 3
   },
   "file_extension": ".py",
   "mimetype": "text/x-python",
   "name": "python",
   "nbconvert_exporter": "python",
   "pygments_lexer": "ipython3",
   "version": "3.8.3"
  }
 },
 "nbformat": 4,
 "nbformat_minor": 4
}
