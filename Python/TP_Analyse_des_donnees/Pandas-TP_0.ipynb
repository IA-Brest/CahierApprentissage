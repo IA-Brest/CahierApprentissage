{
 "cells": [
  {
   "cell_type": "markdown",
   "metadata": {
    "id": "FUBkJnZkW72l"
   },
   "source": [
    "<h1><center> Récupérer et connaître vos données </center></h1>\n"
   ]
  },
  {
   "cell_type": "markdown",
   "metadata": {
    "id": "Pl4rS7ZPW72r"
   },
   "source": [
    "## Étape 1. Importez les bibliothèques nécessaires"
   ]
  },
  {
   "cell_type": "code",
   "execution_count": 1,
   "metadata": {
    "id": "ZmJqpJH1W72v"
   },
   "outputs": [],
   "source": [
    "import pandas as pd"
   ]
  },
  {
   "cell_type": "markdown",
   "metadata": {
    "id": "8HZOxOSPW72x"
   },
   "source": [
    "## Étape 2. Importez le jeux de données à partir de:\n",
    "\n",
    "https://drive.google.com/file/d/1MDE8S6LNNOKRjE6jcpJw45x70rwNZzAP/view?usp=sharing\n",
    "\n"
   ]
  },
  {
   "cell_type": "markdown",
   "metadata": {
    "id": "F6lvh-84W72z"
   },
   "source": [
    "## Étape 3. Attribuez-le à une variable appelée data."
   ]
  },
  {
   "cell_type": "code",
   "execution_count": 2,
   "metadata": {
    "id": "jTgyeDMMW720"
   },
   "outputs": [],
   "source": [
    "url = \"https://drive.google.com/file/d/1MDE8S6LNNOKRjE6jcpJw45x70rwNZzAP/view?usp=sharing\"\n",
    "url ='https://drive.google.com/uc?id=' + url.split('/')[-2]\n",
    "#url = \"data.tsv\"\n",
    "data=pd.read_csv(url, sep='\\t')"
   ]
  },
  {
   "cell_type": "markdown",
   "metadata": {
    "id": "WqrUlf12W721"
   },
   "source": [
    "## Étape 4. Voir les 10 premières entrées"
   ]
  },
  {
   "cell_type": "code",
   "execution_count": 4,
   "metadata": {
    "id": "hcHS6SJuW722"
   },
   "outputs": [
    {
     "data": {
      "text/html": [
       "<div>\n",
       "<style scoped>\n",
       "    .dataframe tbody tr th:only-of-type {\n",
       "        vertical-align: middle;\n",
       "    }\n",
       "\n",
       "    .dataframe tbody tr th {\n",
       "        vertical-align: top;\n",
       "    }\n",
       "\n",
       "    .dataframe thead th {\n",
       "        text-align: right;\n",
       "    }\n",
       "</style>\n",
       "<table border=\"1\" class=\"dataframe\">\n",
       "  <thead>\n",
       "    <tr style=\"text-align: right;\">\n",
       "      <th></th>\n",
       "      <th>order_id</th>\n",
       "      <th>quantity</th>\n",
       "      <th>item_name</th>\n",
       "      <th>choice_description</th>\n",
       "      <th>item_price</th>\n",
       "    </tr>\n",
       "  </thead>\n",
       "  <tbody>\n",
       "    <tr>\n",
       "      <th>0</th>\n",
       "      <td>1</td>\n",
       "      <td>1</td>\n",
       "      <td>Chips and Fresh Tomato Salsa</td>\n",
       "      <td>NaN</td>\n",
       "      <td>$2.39</td>\n",
       "    </tr>\n",
       "    <tr>\n",
       "      <th>1</th>\n",
       "      <td>1</td>\n",
       "      <td>1</td>\n",
       "      <td>Izze</td>\n",
       "      <td>[Clementine]</td>\n",
       "      <td>$3.39</td>\n",
       "    </tr>\n",
       "    <tr>\n",
       "      <th>2</th>\n",
       "      <td>1</td>\n",
       "      <td>1</td>\n",
       "      <td>Nantucket Nectar</td>\n",
       "      <td>[Apple]</td>\n",
       "      <td>$3.39</td>\n",
       "    </tr>\n",
       "    <tr>\n",
       "      <th>3</th>\n",
       "      <td>1</td>\n",
       "      <td>1</td>\n",
       "      <td>Chips and Tomatillo-Green Chili Salsa</td>\n",
       "      <td>NaN</td>\n",
       "      <td>$2.39</td>\n",
       "    </tr>\n",
       "    <tr>\n",
       "      <th>4</th>\n",
       "      <td>2</td>\n",
       "      <td>2</td>\n",
       "      <td>Chicken Bowl</td>\n",
       "      <td>[Tomatillo-Red Chili Salsa (Hot), [Black Beans...</td>\n",
       "      <td>$16.98</td>\n",
       "    </tr>\n",
       "  </tbody>\n",
       "</table>\n",
       "</div>"
      ],
      "text/plain": [
       "   order_id  quantity                              item_name  \\\n",
       "0         1         1           Chips and Fresh Tomato Salsa   \n",
       "1         1         1                                   Izze   \n",
       "2         1         1                       Nantucket Nectar   \n",
       "3         1         1  Chips and Tomatillo-Green Chili Salsa   \n",
       "4         2         2                           Chicken Bowl   \n",
       "\n",
       "                                  choice_description item_price  \n",
       "0                                                NaN     $2.39   \n",
       "1                                       [Clementine]     $3.39   \n",
       "2                                            [Apple]     $3.39   \n",
       "3                                                NaN     $2.39   \n",
       "4  [Tomatillo-Red Chili Salsa (Hot), [Black Beans...    $16.98   "
      ]
     },
     "execution_count": 4,
     "metadata": {},
     "output_type": "execute_result"
    }
   ],
   "source": [
    "data.head()"
   ]
  },
  {
   "cell_type": "markdown",
   "metadata": {
    "id": "qFYfeUHNW723"
   },
   "source": [
    "## Étape 5. Quel est le nombre d'observations dans le jeux de données?"
   ]
  },
  {
   "cell_type": "code",
   "execution_count": 5,
   "metadata": {
    "id": "fdVjCRk4W725"
   },
   "outputs": [
    {
     "data": {
      "text/plain": [
       "order_id              4622\n",
       "quantity              4622\n",
       "item_name             4622\n",
       "choice_description    3376\n",
       "item_price            4622\n",
       "dtype: int64"
      ]
     },
     "execution_count": 5,
     "metadata": {},
     "output_type": "execute_result"
    }
   ],
   "source": [
    "data.count()"
   ]
  },
  {
   "cell_type": "markdown",
   "metadata": {
    "id": "pzzXMGasW726"
   },
   "source": [
    "## Étape 6. Quel est le nombre de colonnes dans le jeux de données?"
   ]
  },
  {
   "cell_type": "code",
   "execution_count": 6,
   "metadata": {
    "id": "uVuL3nH3W728"
   },
   "outputs": [
    {
     "data": {
      "text/plain": [
       "5"
      ]
     },
     "execution_count": 6,
     "metadata": {},
     "output_type": "execute_result"
    }
   ],
   "source": [
    "len(data.columns)"
   ]
  },
  {
   "cell_type": "markdown",
   "metadata": {
    "id": "77rzZ_rwW728"
   },
   "source": [
    "## Étape 7. Afficher le nom de toutes les colonnes."
   ]
  },
  {
   "cell_type": "code",
   "execution_count": 7,
   "metadata": {
    "id": "BNQKxdUyW729"
   },
   "outputs": [
    {
     "name": "stdout",
     "output_type": "stream",
     "text": [
      "order_id\n",
      "quantity\n",
      "item_name\n",
      "choice_description\n",
      "item_price\n"
     ]
    }
   ],
   "source": [
    "for col in data.columns:\n",
    "    print(col)"
   ]
  },
  {
   "cell_type": "markdown",
   "metadata": {
    "id": "Q_WrMLwcW72-"
   },
   "source": [
    "## Étape 8. Comment le jeux de données est-il indexé?"
   ]
  },
  {
   "cell_type": "code",
   "execution_count": 8,
   "metadata": {
    "id": "-5tbzGkGW72_"
   },
   "outputs": [
    {
     "data": {
      "text/plain": [
       "RangeIndex(start=0, stop=4622, step=1)"
      ]
     },
     "execution_count": 8,
     "metadata": {},
     "output_type": "execute_result"
    }
   ],
   "source": [
    "# order_id + item_name ?\n",
    "data.index"
   ]
  },
  {
   "cell_type": "markdown",
   "metadata": {
    "id": "FTbZWxWeW72_"
   },
   "source": [
    "## Étape 9. Quel est l'article le plus commandé? Pour l'article le plus commandé, combien d'articles ont été commandés?"
   ]
  },
  {
   "cell_type": "code",
   "execution_count": 76,
   "metadata": {
    "id": "wCVle-niW73A"
   },
   "outputs": [
    {
     "name": "stdout",
     "output_type": "stream",
     "text": [
      "data.max() :  order_id                   1834\n",
      "quantity                     15\n",
      "item_name     Veggie Soft Tacos\n",
      "item_price               $9.39 \n",
      "dtype: object\n",
      "value_counts() :  Chicken Bowl    726\n",
      "Name: item_name, dtype: int64\n",
      "<class 'pandas.core.frame.DataFrame'>\n",
      "quantity                                1   2   3   4   5   7   8   10  15\n",
      "item_name                                                                 \n",
      "6 Pack Soft Drink                       53   1   0   0   0   0   0   0   0\n",
      "Barbacoa Bowl                           66   0   0   0   0   0   0   0   0\n",
      "Barbacoa Burrito                        91   0   0   0   0   0   0   0   0\n",
      "Barbacoa Crispy Tacos                   10   1   0   0   0   0   0   0   0\n",
      "Barbacoa Salad Bowl                     10   0   0   0   0   0   0   0   0\n",
      "Barbacoa Soft Tacos                     25   0   0   0   0   0   0   0   0\n",
      "Bottled Water                          139  12   6   2   1   1   0   1   0\n",
      "Bowl                                     1   0   1   0   0   0   0   0   0\n",
      "Burrito                                  6   0   0   0   0   0   0   0   0\n",
      "Canned Soda                             84  19   0   1   0   0   0   0   0\n",
      "Canned Soft Drink                      264  27   7   3   0   0   0   0   0\n",
      "Carnitas Bowl                           66   1   1   0   0   0   0   0   0\n",
      "Carnitas Burrito                        58   1   0   0   0   0   0   0   0\n",
      "Carnitas Crispy Tacos                    6   1   0   0   0   0   0   0   0\n",
      "Carnitas Salad                           1   0   0   0   0   0   0   0   0\n",
      "Carnitas Salad Bowl                      6   0   0   0   0   0   0   0   0\n",
      "Carnitas Soft Tacos                     40   0   0   0   0   0   0   0   0\n",
      "Chicken Bowl                           693  31   2   0   0   0   0   0   0\n",
      "Chicken Burrito                        521  28   2   2   0   0   0   0   0\n",
      "Chicken Crispy Tacos                    44   3   0   0   0   0   0   0   0\n",
      "Chicken Salad                            9   0   0   0   0   0   0   0   0\n",
      "Chicken Salad Bowl                      97  13   0   0   0   0   0   0   0\n",
      "Chicken Soft Tacos                     110   5   0   0   0   0   0   0   0\n",
      "Chips                                  193  17   1   0   0   0   0   0   0\n",
      "Chips and Fresh Tomato Salsa           105   3   0   1   0   0   0   0   1\n",
      "Chips and Guacamole                    455  22   1   1   0   0   0   0   0\n",
      "Chips and Mild Fresh Tomato Salsa        1   0   0   0   0   0   0   0   0\n",
      "Chips and Roasted Chili Corn Salsa      21   1   0   0   0   0   0   0   0\n",
      "Chips and Roasted Chili-Corn Salsa      18   0   0   0   0   0   0   0   0\n",
      "Chips and Tomatillo Green Chili Salsa   41   2   0   0   0   0   0   0   0\n",
      "Chips and Tomatillo Red Chili Salsa     46   2   0   0   0   0   0   0   0\n",
      "Chips and Tomatillo-Green Chili Salsa   29   2   0   0   0   0   0   0   0\n",
      "Chips and Tomatillo-Red Chili Salsa     17   1   2   0   0   0   0   0   0\n",
      "Crispy Tacos                             2   0   0   0   0   0   0   0   0\n",
      "Izze                                    20   0   0   0   0   0   0   0   0\n",
      "Nantucket Nectar                        25   2   0   0   0   0   0   0   0\n",
      "Salad                                    2   0   0   0   0   0   0   0   0\n",
      "Side of Chips                           99   0   1   0   0   0   1   0   0\n",
      "Steak Bowl                             202   8   1   0   0   0   0   0   0\n",
      "Steak Burrito                          352  14   2   0   0   0   0   0   0\n",
      "Steak Crispy Tacos                      34   1   0   0   0   0   0   0   0\n",
      "Steak Salad                              4   0   0   0   0   0   0   0   0\n",
      "Steak Salad Bowl                        27   2   0   0   0   0   0   0   0\n",
      "Steak Soft Tacos                        54   1   0   0   0   0   0   0   0\n",
      "Veggie Bowl                             83   2   0   0   0   0   0   0   0\n",
      "Veggie Burrito                          94   0   1   0   0   0   0   0   0\n",
      "Veggie Crispy Tacos                      1   0   0   0   0   0   0   0   0\n",
      "Veggie Salad                             6   0   0   0   0   0   0   0   0\n",
      "Veggie Salad Bowl                       18   0   0   0   0   0   0   0   0\n",
      "Veggie Soft Tacos                        6   1   0   0   0   0   0   0   0\n"
     ]
    },
    {
     "data": {
      "text/plain": [
       "<matplotlib.axes._subplots.AxesSubplot at 0x1e1e4dacac0>"
      ]
     },
     "execution_count": 76,
     "metadata": {},
     "output_type": "execute_result"
    },
    {
     "data": {
      "image/png": "[encoded data removed]",
      "text/plain": [
       "<Figure size 432x288 with 1 Axes>"
      ]
     },
     "metadata": {
      "needs_background": "light"
     },
     "output_type": "display_data"
    }
   ],
   "source": [
    "print(\"data.max() : \", data.max())\n",
    "print(\"value_counts() : \", data.item_name.value_counts().head(1))\n",
    "\n",
    "pd.crosstab(data.item_name, data.quantity).\n",
    "\n",
    "print(pd.crosstab(data.item_name, data.quantity))\n",
    "\n",
    "pd.crosstab(data.item_name, data.quantity).plot()\n"
   ]
  },
  {
   "cell_type": "markdown",
   "metadata": {
    "id": "1ByeA2hDW73B"
   },
   "source": [
    "## Étape 10. Quel était l'article le plus commandé dans la colonne choice_description?"
   ]
  },
  {
   "cell_type": "code",
   "execution_count": 55,
   "metadata": {
    "id": "Imrb44fCW73B"
   },
   "outputs": [
    {
     "data": {
      "text/plain": [
       "[Diet Coke]    134\n",
       "Name: choice_description, dtype: int64"
      ]
     },
     "execution_count": 55,
     "metadata": {},
     "output_type": "execute_result"
    }
   ],
   "source": [
    "data.choice_description.value_counts().head(1)"
   ]
  },
  {
   "cell_type": "markdown",
   "metadata": {
    "id": "KIBFuVmtW73B"
   },
   "source": [
    "## Étape 11. Combien d'articles ont été commandés au total?"
   ]
  },
  {
   "cell_type": "code",
   "execution_count": 9,
   "metadata": {
    "id": "tjDQ4dG6W73C"
   },
   "outputs": [
    {
     "data": {
      "text/plain": [
       "4972"
      ]
     },
     "execution_count": 9,
     "metadata": {},
     "output_type": "execute_result"
    }
   ],
   "source": [
    "data.quantity.sum()"
   ]
  },
  {
   "cell_type": "markdown",
   "metadata": {
    "id": "-X3LePUnW73C"
   },
   "source": [
    "## Étape 12. Transformez le prix de l'article en flottant"
   ]
  },
  {
   "cell_type": "markdown",
   "metadata": {
    "id": "b0BWz9yVW73D"
   },
   "source": [
    "### Étape 12.a Vérifiez le type de la variable item_price"
   ]
  },
  {
   "cell_type": "code",
   "execution_count": 86,
   "metadata": {
    "id": "ZtbncE6DW73E"
   },
   "outputs": [
    {
     "name": "stdout",
     "output_type": "stream",
     "text": [
      "<class 'pandas.core.series.Series'>\n",
      "object\n",
      "<class 'str'>    4622\n",
      "Name: item_price, dtype: int64\n"
     ]
    }
   ],
   "source": [
    "print(type(data.item_price))\n",
    "print(data.item_price.dtype)\n",
    "print(data.item_price.apply(type).value_counts())\n",
    "\n",
    "df = data\n",
    "df.item_price = df.item_price.str.replace(',','').str.replace('$','').astype('float')"
   ]
  },
  {
   "cell_type": "markdown",
   "metadata": {
    "id": "lMnYWO0SW73E"
   },
   "source": [
    "### Étape 12.b Créer une fonction lambda et modifier le type de item_price en float"
   ]
  },
  {
   "cell_type": "code",
   "execution_count": 10,
   "metadata": {
    "id": "tATeT6BXW73F"
   },
   "outputs": [],
   "source": [
    "floater = lambda x: float(x[1:-1])\n",
    "data.item_price = data.item_price.apply(floater)"
   ]
  },
  {
   "cell_type": "markdown",
   "metadata": {
    "id": "kq-hjhwFW73F"
   },
   "source": [
    "### Étape 12.c Vérifiez le type de la variable item_price"
   ]
  },
  {
   "cell_type": "code",
   "execution_count": 87,
   "metadata": {
    "id": "AWonYnreW73F"
   },
   "outputs": [
    {
     "name": "stdout",
     "output_type": "stream",
     "text": [
      "<class 'pandas.core.series.Series'>\n",
      "float64\n",
      "<class 'float'>    4622\n",
      "Name: item_price, dtype: int64\n"
     ]
    }
   ],
   "source": [
    "print(type(df.item_price))\n",
    "print(df.item_price.dtype)\n",
    "print(df.item_price.apply(type).value_counts())\n"
   ]
  },
  {
   "cell_type": "markdown",
   "metadata": {
    "id": "BMciILRLW73F"
   },
   "source": [
    "## Étape 13. Quel est le chiffre d'affaires pour la période dans le jeux de données?"
   ]
  },
  {
   "cell_type": "code",
   "execution_count": 12,
   "metadata": {
    "id": "5883nA-NW73G"
   },
   "outputs": [
    {
     "name": "stdout",
     "output_type": "stream",
     "text": [
      "39237.02\n",
      "34500.16\n"
     ]
    }
   ],
   "source": [
    "print((data['quantity']* data['item_price']).sum())\n",
    "# En conssidérant que les Series sont déjà sommées :\n",
    "print(data.item_price.sum())\n"
   ]
  },
  {
   "cell_type": "markdown",
   "metadata": {
    "id": "20c491_0W73H"
   },
   "source": [
    "## Étape 14. Combien de commandes ont été passées au cours de la période?"
   ]
  },
  {
   "cell_type": "code",
   "execution_count": 90,
   "metadata": {
    "id": "zJQDw_sIW73I"
   },
   "outputs": [
    {
     "data": {
      "text/plain": [
       "1834"
      ]
     },
     "execution_count": 90,
     "metadata": {},
     "output_type": "execute_result"
    }
   ],
   "source": [
    "len(data.order_id.unique())"
   ]
  },
  {
   "cell_type": "markdown",
   "metadata": {
    "id": "OCCAmVgEW73J"
   },
   "source": [
    "## Étape 15. Quel est le montant moyen des revenus par commande?"
   ]
  },
  {
   "cell_type": "code",
   "execution_count": 17,
   "metadata": {
    "id": "GVnrguVmW73K"
   },
   "outputs": [
    {
     "ename": "KeyError",
     "evalue": "'ca'",
     "output_type": "error",
     "traceback": [
      "\u001b[1;31m---------------------------------------------------------------------------\u001b[0m",
      "\u001b[1;31mTypeError\u001b[0m                                 Traceback (most recent call last)",
      "\u001b[1;32m~\\anaconda3\\lib\\site-packages\\pandas\\core\\indexes\\base.py\u001b[0m in \u001b[0;36mget_value\u001b[1;34m(self, series, key)\u001b[0m\n\u001b[0;32m   4410\u001b[0m             \u001b[1;32mtry\u001b[0m\u001b[1;33m:\u001b[0m\u001b[1;33m\u001b[0m\u001b[1;33m\u001b[0m\u001b[0m\n\u001b[1;32m-> 4411\u001b[1;33m                 \u001b[1;32mreturn\u001b[0m \u001b[0mlibindex\u001b[0m\u001b[1;33m.\u001b[0m\u001b[0mget_value_at\u001b[0m\u001b[1;33m(\u001b[0m\u001b[0ms\u001b[0m\u001b[1;33m,\u001b[0m \u001b[0mkey\u001b[0m\u001b[1;33m)\u001b[0m\u001b[1;33m\u001b[0m\u001b[1;33m\u001b[0m\u001b[0m\n\u001b[0m\u001b[0;32m   4412\u001b[0m             \u001b[1;32mexcept\u001b[0m \u001b[0mIndexError\u001b[0m\u001b[1;33m:\u001b[0m\u001b[1;33m\u001b[0m\u001b[1;33m\u001b[0m\u001b[0m\n",
      "\u001b[1;32mpandas\\_libs\\index.pyx\u001b[0m in \u001b[0;36mpandas._libs.index.get_value_at\u001b[1;34m()\u001b[0m\n",
      "\u001b[1;32mpandas\\_libs\\index.pyx\u001b[0m in \u001b[0;36mpandas._libs.index.get_value_at\u001b[1;34m()\u001b[0m\n",
      "\u001b[1;32mpandas\\_libs\\util.pxd\u001b[0m in \u001b[0;36mpandas._libs.util.get_value_at\u001b[1;34m()\u001b[0m\n",
      "\u001b[1;32mpandas\\_libs\\util.pxd\u001b[0m in \u001b[0;36mpandas._libs.util.validate_indexer\u001b[1;34m()\u001b[0m\n",
      "\u001b[1;31mTypeError\u001b[0m: 'str' object cannot be interpreted as an integer",
      "\nDuring handling of the above exception, another exception occurred:\n",
      "\u001b[1;31mKeyError\u001b[0m                                  Traceback (most recent call last)",
      "\u001b[1;32m<ipython-input-17-8d724242d9ce>\u001b[0m in \u001b[0;36m<module>\u001b[1;34m\u001b[0m\n\u001b[0;32m      1\u001b[0m \u001b[0mCA\u001b[0m\u001b[1;33m=\u001b[0m\u001b[0mdata\u001b[0m\u001b[1;33m.\u001b[0m\u001b[0mitem_price\u001b[0m\u001b[1;33m.\u001b[0m\u001b[0msum\u001b[0m\u001b[1;33m(\u001b[0m\u001b[1;33m)\u001b[0m\u001b[1;33m\u001b[0m\u001b[1;33m\u001b[0m\u001b[0m\n\u001b[1;32m----> 2\u001b[1;33m \u001b[0mdata\u001b[0m\u001b[1;33m.\u001b[0m\u001b[0mgroupby\u001b[0m\u001b[1;33m(\u001b[0m\u001b[0mby\u001b[0m\u001b[1;33m=\u001b[0m\u001b[1;33m[\u001b[0m\u001b[1;34m'order_id'\u001b[0m\u001b[1;33m]\u001b[0m\u001b[1;33m)\u001b[0m\u001b[1;33m.\u001b[0m\u001b[0msum\u001b[0m\u001b[1;33m(\u001b[0m\u001b[1;33m)\u001b[0m\u001b[1;33m.\u001b[0m\u001b[0mmean\u001b[0m\u001b[1;33m(\u001b[0m\u001b[1;33m)\u001b[0m\u001b[1;33m[\u001b[0m\u001b[1;34m'ca'\u001b[0m\u001b[1;33m]\u001b[0m\u001b[1;33m\u001b[0m\u001b[1;33m\u001b[0m\u001b[0m\n\u001b[0m",
      "\u001b[1;32m~\\anaconda3\\lib\\site-packages\\pandas\\core\\series.py\u001b[0m in \u001b[0;36m__getitem__\u001b[1;34m(self, key)\u001b[0m\n\u001b[0;32m    869\u001b[0m         \u001b[0mkey\u001b[0m \u001b[1;33m=\u001b[0m \u001b[0mcom\u001b[0m\u001b[1;33m.\u001b[0m\u001b[0mapply_if_callable\u001b[0m\u001b[1;33m(\u001b[0m\u001b[0mkey\u001b[0m\u001b[1;33m,\u001b[0m \u001b[0mself\u001b[0m\u001b[1;33m)\u001b[0m\u001b[1;33m\u001b[0m\u001b[1;33m\u001b[0m\u001b[0m\n\u001b[0;32m    870\u001b[0m         \u001b[1;32mtry\u001b[0m\u001b[1;33m:\u001b[0m\u001b[1;33m\u001b[0m\u001b[1;33m\u001b[0m\u001b[0m\n\u001b[1;32m--> 871\u001b[1;33m             \u001b[0mresult\u001b[0m \u001b[1;33m=\u001b[0m \u001b[0mself\u001b[0m\u001b[1;33m.\u001b[0m\u001b[0mindex\u001b[0m\u001b[1;33m.\u001b[0m\u001b[0mget_value\u001b[0m\u001b[1;33m(\u001b[0m\u001b[0mself\u001b[0m\u001b[1;33m,\u001b[0m \u001b[0mkey\u001b[0m\u001b[1;33m)\u001b[0m\u001b[1;33m\u001b[0m\u001b[1;33m\u001b[0m\u001b[0m\n\u001b[0m\u001b[0;32m    872\u001b[0m \u001b[1;33m\u001b[0m\u001b[0m\n\u001b[0;32m    873\u001b[0m             \u001b[1;32mif\u001b[0m \u001b[1;32mnot\u001b[0m \u001b[0mis_scalar\u001b[0m\u001b[1;33m(\u001b[0m\u001b[0mresult\u001b[0m\u001b[1;33m)\u001b[0m\u001b[1;33m:\u001b[0m\u001b[1;33m\u001b[0m\u001b[1;33m\u001b[0m\u001b[0m\n",
      "\u001b[1;32m~\\anaconda3\\lib\\site-packages\\pandas\\core\\indexes\\base.py\u001b[0m in \u001b[0;36mget_value\u001b[1;34m(self, series, key)\u001b[0m\n\u001b[0;32m   4417\u001b[0m                     \u001b[1;32mraise\u001b[0m \u001b[0mInvalidIndexError\u001b[0m\u001b[1;33m(\u001b[0m\u001b[0mkey\u001b[0m\u001b[1;33m)\u001b[0m\u001b[1;33m\u001b[0m\u001b[1;33m\u001b[0m\u001b[0m\n\u001b[0;32m   4418\u001b[0m                 \u001b[1;32melse\u001b[0m\u001b[1;33m:\u001b[0m\u001b[1;33m\u001b[0m\u001b[1;33m\u001b[0m\u001b[0m\n\u001b[1;32m-> 4419\u001b[1;33m                     \u001b[1;32mraise\u001b[0m \u001b[0me1\u001b[0m\u001b[1;33m\u001b[0m\u001b[1;33m\u001b[0m\u001b[0m\n\u001b[0m\u001b[0;32m   4420\u001b[0m             \u001b[1;32mexcept\u001b[0m \u001b[0mException\u001b[0m\u001b[1;33m:\u001b[0m\u001b[1;33m\u001b[0m\u001b[1;33m\u001b[0m\u001b[0m\n\u001b[0;32m   4421\u001b[0m                 \u001b[1;32mraise\u001b[0m \u001b[0me1\u001b[0m\u001b[1;33m\u001b[0m\u001b[1;33m\u001b[0m\u001b[0m\n",
      "\u001b[1;32m~\\anaconda3\\lib\\site-packages\\pandas\\core\\indexes\\base.py\u001b[0m in \u001b[0;36mget_value\u001b[1;34m(self, series, key)\u001b[0m\n\u001b[0;32m   4403\u001b[0m         \u001b[0mk\u001b[0m \u001b[1;33m=\u001b[0m \u001b[0mself\u001b[0m\u001b[1;33m.\u001b[0m\u001b[0m_convert_scalar_indexer\u001b[0m\u001b[1;33m(\u001b[0m\u001b[0mk\u001b[0m\u001b[1;33m,\u001b[0m \u001b[0mkind\u001b[0m\u001b[1;33m=\u001b[0m\u001b[1;34m\"getitem\"\u001b[0m\u001b[1;33m)\u001b[0m\u001b[1;33m\u001b[0m\u001b[1;33m\u001b[0m\u001b[0m\n\u001b[0;32m   4404\u001b[0m         \u001b[1;32mtry\u001b[0m\u001b[1;33m:\u001b[0m\u001b[1;33m\u001b[0m\u001b[1;33m\u001b[0m\u001b[0m\n\u001b[1;32m-> 4405\u001b[1;33m             \u001b[1;32mreturn\u001b[0m \u001b[0mself\u001b[0m\u001b[1;33m.\u001b[0m\u001b[0m_engine\u001b[0m\u001b[1;33m.\u001b[0m\u001b[0mget_value\u001b[0m\u001b[1;33m(\u001b[0m\u001b[0ms\u001b[0m\u001b[1;33m,\u001b[0m \u001b[0mk\u001b[0m\u001b[1;33m,\u001b[0m \u001b[0mtz\u001b[0m\u001b[1;33m=\u001b[0m\u001b[0mgetattr\u001b[0m\u001b[1;33m(\u001b[0m\u001b[0mseries\u001b[0m\u001b[1;33m.\u001b[0m\u001b[0mdtype\u001b[0m\u001b[1;33m,\u001b[0m \u001b[1;34m\"tz\"\u001b[0m\u001b[1;33m,\u001b[0m \u001b[1;32mNone\u001b[0m\u001b[1;33m)\u001b[0m\u001b[1;33m)\u001b[0m\u001b[1;33m\u001b[0m\u001b[1;33m\u001b[0m\u001b[0m\n\u001b[0m\u001b[0;32m   4406\u001b[0m         \u001b[1;32mexcept\u001b[0m \u001b[0mKeyError\u001b[0m \u001b[1;32mas\u001b[0m \u001b[0me1\u001b[0m\u001b[1;33m:\u001b[0m\u001b[1;33m\u001b[0m\u001b[1;33m\u001b[0m\u001b[0m\n\u001b[0;32m   4407\u001b[0m             \u001b[1;32mif\u001b[0m \u001b[0mlen\u001b[0m\u001b[1;33m(\u001b[0m\u001b[0mself\u001b[0m\u001b[1;33m)\u001b[0m \u001b[1;33m>\u001b[0m \u001b[1;36m0\u001b[0m \u001b[1;32mand\u001b[0m \u001b[1;33m(\u001b[0m\u001b[0mself\u001b[0m\u001b[1;33m.\u001b[0m\u001b[0mholds_integer\u001b[0m\u001b[1;33m(\u001b[0m\u001b[1;33m)\u001b[0m \u001b[1;32mor\u001b[0m \u001b[0mself\u001b[0m\u001b[1;33m.\u001b[0m\u001b[0mis_boolean\u001b[0m\u001b[1;33m(\u001b[0m\u001b[1;33m)\u001b[0m\u001b[1;33m)\u001b[0m\u001b[1;33m:\u001b[0m\u001b[1;33m\u001b[0m\u001b[1;33m\u001b[0m\u001b[0m\n",
      "\u001b[1;32mpandas\\_libs\\index.pyx\u001b[0m in \u001b[0;36mpandas._libs.index.IndexEngine.get_value\u001b[1;34m()\u001b[0m\n",
      "\u001b[1;32mpandas\\_libs\\index.pyx\u001b[0m in \u001b[0;36mpandas._libs.index.IndexEngine.get_value\u001b[1;34m()\u001b[0m\n",
      "\u001b[1;32mpandas\\_libs\\index.pyx\u001b[0m in \u001b[0;36mpandas._libs.index.IndexEngine.get_loc\u001b[1;34m()\u001b[0m\n",
      "\u001b[1;32mpandas\\_libs\\hashtable_class_helper.pxi\u001b[0m in \u001b[0;36mpandas._libs.hashtable.PyObjectHashTable.get_item\u001b[1;34m()\u001b[0m\n",
      "\u001b[1;32mpandas\\_libs\\hashtable_class_helper.pxi\u001b[0m in \u001b[0;36mpandas._libs.hashtable.PyObjectHashTable.get_item\u001b[1;34m()\u001b[0m\n",
      "\u001b[1;31mKeyError\u001b[0m: 'ca'"
     ]
    }
   ],
   "source": [
    "\n",
    "\n",
    "data.groupby(by=['order_id']).sum().mean()['revenue']"
   ]
  },
  {
   "cell_type": "markdown",
   "metadata": {
    "id": "QiYxcnmFW73K"
   },
   "source": [
    "## Étape 16. Combien d'articles différents sont vendus?"
   ]
  },
  {
   "cell_type": "code",
   "execution_count": 91,
   "metadata": {
    "id": "kAJ3Jsm_W73K"
   },
   "outputs": [
    {
     "data": {
      "text/plain": [
       "50"
      ]
     },
     "execution_count": 91,
     "metadata": {},
     "output_type": "execute_result"
    }
   ],
   "source": [
    "len(data.item_name.unique())"
   ]
  },
  {
   "cell_type": "code",
   "execution_count": null,
   "metadata": {},
   "outputs": [],
   "source": []
  }
 ],
 "metadata": {
  "colab": {
   "name": "0-Pandas_TP.ipynb",
   "provenance": []
  },
  "kernelspec": {
   "display_name": "Python 3",
   "language": "python",
   "name": "python3"
  },
  "language_info": {
   "codemirror_mode": {
    "name": "ipython",
    "version": 3
   },
   "file_extension": ".py",
   "mimetype": "text/x-python",
   "name": "python",
   "nbconvert_exporter": "python",
   "pygments_lexer": "ipython3",
   "version": "3.8.3"
  }
 },
 "nbformat": 4,
 "nbformat_minor": 1
}
