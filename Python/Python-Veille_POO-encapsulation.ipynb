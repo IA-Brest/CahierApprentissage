{
 "cells": [
  {
   "cell_type": "markdown",
   "id": "6c816ca9",
   "metadata": {},
   "source": [
    "# <center>Encapsulation et propriétés de la programmation objet\n",
    "</center>"
   ]
  },
  {
   "cell_type": "markdown",
   "id": "30b86240",
   "metadata": {},
   "source": [
    "### Encapsulation\n",
    "\n",
    "L’encapsulation est un mécanisme consistant à rassembler les données et les méthodes au sein d’une structure en cachant l’implémentation de l’objet, c’est-à-dire en empêchant l’accès aux données par un autre moyen que les services proposés. L’encapsulation permet donc de garantir l’intégrité des données contenues dans l’objet. Ainsi, si l’on veut protéger des informations contre une modification inattendue, on doit se référer au principe d’encapsulation. \n"
   ]
  },
  {
   "cell_type": "markdown",
   "id": "2329e6a6",
   "metadata": {},
   "source": [
    "##### Il existe trois niveaux de visibilité : \n",
    "\n",
    "* publique : ex self.name\n",
    "* protégée : l’accès aux données est réservé aux fonctions des classes héritières : on utilise un seul underscore _ : ex self._project\n",
    "* privée : l’accès aux données est limité aux méthodes de la classe elle-même : on utilise deux underscores __ : ex self.__salary\n"
   ]
  },
  {
   "cell_type": "markdown",
   "id": "87e7943b",
   "metadata": {},
   "source": [
    "#### avantage d el'encapsulation\n",
    "\n",
    "* Sécurité : le principal avantage de l'encapsulation est la sécurité des données. L'encapsulation protège un objet d'un accès non autorisé. Il permet des niveaux d'accès privés et protégés pour empêcher la modification accidentelle des données.\n",
    "* Masquage des données : l'utilisateur ne saurait pas ce qui se passe dans les coulisses. Ils sauraient seulement que pour modifier un membre de données, appelez la méthode setter. Pour lire un membre de données, appelez la méthode getter. Ce que font ces méthodes setter et getter leur est caché.\n",
    "* Simplicité : il simplifie la maintenance de l'application en gardant les classes séparées et en les empêchant de se coupler étroitement les unes aux autres.\n",
    "* Esthétique : le regroupement de données et de méthodes au sein d'une classe rend le code plus lisible et maintenable"
   ]
  },
  {
   "cell_type": "markdown",
   "id": "8644ed1a",
   "metadata": {},
   "source": [
    "##### Exemple de code:\n",
    "\n",
    "si notre programme était une machine à café"
   ]
  },
  {
   "cell_type": "code",
   "execution_count": 4,
   "id": "2f7a7b08",
   "metadata": {},
   "outputs": [],
   "source": [
    "class CoffeeMachine():\n",
    "\n",
    "    def start_machine(self):\n",
    "        action = 'Start the machine'\n",
    "\n",
    "    def boil_water(self):\n",
    "        action = 'Boil water'\n",
    "\n",
    "    def make_coffee(self):\n",
    "        action = 'Make a new coffee!'\n"
   ]
  },
  {
   "cell_type": "code",
   "execution_count": 6,
   "id": "02637774",
   "metadata": {},
   "outputs": [
    {
     "name": "stdout",
     "output_type": "stream",
     "text": [
      "boiling...\n",
      "Coffee is ready!\n",
      "boiling...\n",
      "Coffee is ready!\n",
      "boiling...\n",
      "Coffee is ready!\n",
      "boiling...\n",
      "Coffee is ready!\n",
      "Please add water!\n"
     ]
    }
   ],
   "source": [
    "class CoffeeMachine():\n",
    "    WATER_LEVEL = 100\n",
    "\n",
    "    def start_machine(self):\n",
    "        # Start the machine\n",
    "        if self.WATER_LEVEL > 20:\n",
    "            return True\n",
    "        else:\n",
    "            print(\"Please add water!\")\n",
    "            return False\n",
    "\n",
    "    def boil_water(self):\n",
    "        return \"boiling...\"\n",
    "\n",
    "    def make_coffee(self):\n",
    "    # Make a new coffee!\n",
    "        if self.start_machine():\n",
    "            self.WATER_LEVEL -= 20\n",
    "            print(self.boil_water())\n",
    "            print(\"Coffee is ready!\")\n",
    "            \n",
    "            \n",
    "\n",
    "\n",
    "            \n",
    "            \n",
    "machine = CoffeeMachine()\n",
    "for i in range(0, 5):\n",
    "    machine.make_coffee()\n",
    "\n"
   ]
  },
  {
   "cell_type": "markdown",
   "id": "2f1d3697",
   "metadata": {},
   "source": [
    "Vous serez d'accord avec moi pour dire que je ne dois pas pouvoir exécuter la méthode boil_water() hors de la classe. Comment faire ? Nous allons ajouter des underscores pour transformer nos méthodes en méthodes privées ou protégées.\n",
    "\n",
    "> Une méthode protégée est accessible à l'intérieur d'une classe mais ne doit pas être aisément accessible de l'extérieur. Vous ajoutez pour cela un underscore au début du nom."
   ]
  },
  {
   "cell_type": "code",
   "execution_count": 8,
   "id": "428d2c29",
   "metadata": {},
   "outputs": [
    {
     "ename": "AttributeError",
     "evalue": "'CoffeeMachine' object has no attribute 'make_coffee'",
     "output_type": "error",
     "traceback": [
      "\u001b[0;31m---------------------------------------------------------------------------\u001b[0m",
      "\u001b[0;31mAttributeError\u001b[0m                            Traceback (most recent call last)",
      "\u001b[0;32m/tmp/ipykernel_5958/572916934.py\u001b[0m in \u001b[0;36m<module>\u001b[0;34m\u001b[0m\n\u001b[1;32m     27\u001b[0m \u001b[0mmachine\u001b[0m \u001b[0;34m=\u001b[0m \u001b[0mCoffeeMachine\u001b[0m\u001b[0;34m(\u001b[0m\u001b[0;34m)\u001b[0m\u001b[0;34m\u001b[0m\u001b[0;34m\u001b[0m\u001b[0m\n\u001b[1;32m     28\u001b[0m \u001b[0;32mfor\u001b[0m \u001b[0mi\u001b[0m \u001b[0;32min\u001b[0m \u001b[0mrange\u001b[0m\u001b[0;34m(\u001b[0m\u001b[0;36m0\u001b[0m\u001b[0;34m,\u001b[0m \u001b[0;36m5\u001b[0m\u001b[0;34m)\u001b[0m\u001b[0;34m:\u001b[0m\u001b[0;34m\u001b[0m\u001b[0;34m\u001b[0m\u001b[0m\n\u001b[0;32m---> 29\u001b[0;31m     \u001b[0mmachine\u001b[0m\u001b[0;34m.\u001b[0m\u001b[0mmake_coffee\u001b[0m\u001b[0;34m(\u001b[0m\u001b[0;34m)\u001b[0m\u001b[0;34m\u001b[0m\u001b[0;34m\u001b[0m\u001b[0m\n\u001b[0m\u001b[1;32m     30\u001b[0m \u001b[0;34m\u001b[0m\u001b[0m\n\u001b[1;32m     31\u001b[0m \u001b[0;34m\u001b[0m\u001b[0m\n",
      "\u001b[0;31mAttributeError\u001b[0m: 'CoffeeMachine' object has no attribute 'make_coffee'"
     ]
    }
   ],
   "source": [
    "class CoffeeMachine():\n",
    "    WATER_LEVEL = 100\n",
    "\n",
    "    def start_machine(self):\n",
    "        # Start the machine\n",
    "        if self.WATER_LEVEL > 20:\n",
    "            return True\n",
    "        else:\n",
    "            print(\"Please add water!\")\n",
    "            return False\n",
    "\n",
    "    def boil_water(self):\n",
    "        return \"boiling...\"\n",
    "\n",
    "    def _start_machine(self):\n",
    "        # Start the machine. \n",
    "        if self.water_level > 20:\n",
    "            return True\n",
    "        else:\n",
    "            print(\"Please add water!\")\n",
    "            return False\n",
    "            \n",
    "\n",
    "\n",
    "            \n",
    "            \n",
    "machine = CoffeeMachine()\n",
    "for i in range(0, 5):\n",
    "    machine.make_coffee()\n",
    "\n",
    "    \n",
    "#Si vous l'appelez sans le underscore, cela ne fonctionnera plus :"
   ]
  },
  {
   "cell_type": "markdown",
   "id": "4ed4981d",
   "metadata": {},
   "source": [
    "##### Public Member"
   ]
  },
  {
   "cell_type": "code",
   "execution_count": 18,
   "id": "5ab45ff2",
   "metadata": {},
   "outputs": [
    {
     "name": "stdout",
     "output_type": "stream",
     "text": [
      "Name:  Jessa Salary: 10000\n",
      "Name:  Jessa Salary: 10000\n"
     ]
    }
   ],
   "source": [
    "class Employee:\n",
    "    # constructor\n",
    "    def __init__(self, name, salary):\n",
    "        # public data members\n",
    "        self.name = name\n",
    "        self.salary = salary\n",
    "\n",
    "    # public instance methods\n",
    "    def show(self):\n",
    "        # accessing public data member\n",
    "        print(\"Name: \", self.name, 'Salary:', self.salary)\n",
    "\n",
    "# creating object of a class\n",
    "emp = Employee('Jessa', 10000)\n",
    "\n",
    "# accessing public data members\n",
    "print(\"Name: \", emp.name, 'Salary:', emp.salary)\n",
    "\n",
    "# calling public method of the class\n",
    "emp.show()"
   ]
  },
  {
   "cell_type": "markdown",
   "id": "3ee7295c",
   "metadata": {},
   "source": [
    "##### Private Member"
   ]
  },
  {
   "cell_type": "code",
   "execution_count": 19,
   "id": "0420fa78",
   "metadata": {},
   "outputs": [
    {
     "ename": "AttributeError",
     "evalue": "'Employee' object has no attribute '__salary'",
     "output_type": "error",
     "traceback": [
      "\u001b[0;31m---------------------------------------------------------------------------\u001b[0m",
      "\u001b[0;31mAttributeError\u001b[0m                            Traceback (most recent call last)",
      "\u001b[0;32m/tmp/ipykernel_5958/1538202870.py\u001b[0m in \u001b[0;36m<module>\u001b[0;34m\u001b[0m\n\u001b[1;32m     11\u001b[0m \u001b[0;34m\u001b[0m\u001b[0m\n\u001b[1;32m     12\u001b[0m \u001b[0;31m# accessing private data members\u001b[0m\u001b[0;34m\u001b[0m\u001b[0;34m\u001b[0m\u001b[0m\n\u001b[0;32m---> 13\u001b[0;31m \u001b[0mprint\u001b[0m\u001b[0;34m(\u001b[0m\u001b[0;34m'Salary:'\u001b[0m\u001b[0;34m,\u001b[0m \u001b[0memp\u001b[0m\u001b[0;34m.\u001b[0m\u001b[0m__salary\u001b[0m\u001b[0;34m)\u001b[0m\u001b[0;34m\u001b[0m\u001b[0;34m\u001b[0m\u001b[0m\n\u001b[0m",
      "\u001b[0;31mAttributeError\u001b[0m: 'Employee' object has no attribute '__salary'"
     ]
    }
   ],
   "source": [
    "class Employee:\n",
    "    # constructor\n",
    "    def __init__(self, name, salary):\n",
    "        # public data member\n",
    "        self.name = name\n",
    "        # private member\n",
    "        self.__salary = salary\n",
    "\n",
    "# creating object of a class\n",
    "emp = Employee('Jessa', 10000)\n",
    "\n",
    "# accessing private data members\n",
    "print('Salary:', emp.__salary)"
   ]
  },
  {
   "cell_type": "markdown",
   "id": "71e135a1",
   "metadata": {},
   "source": [
    "##### Public method to access private members"
   ]
  },
  {
   "cell_type": "code",
   "execution_count": 20,
   "id": "fcdbec83",
   "metadata": {},
   "outputs": [
    {
     "name": "stdout",
     "output_type": "stream",
     "text": [
      "Name:  Jessa Salary: 10000\n"
     ]
    }
   ],
   "source": [
    "class Employee:\n",
    "    # constructor\n",
    "    def __init__(self, name, salary):\n",
    "        # public data member\n",
    "        self.name = name\n",
    "        # private member\n",
    "        self.__salary = salary\n",
    "\n",
    "    # public instance methods\n",
    "    def show(self):\n",
    "        # private members are accessible from a class\n",
    "        print(\"Name: \", self.name, 'Salary:', self.__salary)\n",
    "\n",
    "# creating object of a class\n",
    "emp = Employee('Jessa', 10000)\n",
    "\n",
    "# calling public method of the class\n",
    "emp.show()"
   ]
  },
  {
   "cell_type": "markdown",
   "id": "81d159eb",
   "metadata": {},
   "source": [
    "##### Example: Access private member"
   ]
  },
  {
   "cell_type": "code",
   "execution_count": 21,
   "id": "bfe6f55a",
   "metadata": {},
   "outputs": [
    {
     "name": "stdout",
     "output_type": "stream",
     "text": [
      "Name: Jessa\n",
      "Salary: 10000\n"
     ]
    }
   ],
   "source": [
    "class Employee:\n",
    "    # constructor\n",
    "    def __init__(self, name, salary):\n",
    "        # public data member\n",
    "        self.name = name\n",
    "        # private member\n",
    "        self.__salary = salary\n",
    "\n",
    "# creating object of a class\n",
    "emp = Employee('Jessa', 10000)\n",
    "\n",
    "print('Name:', emp.name)\n",
    "# direct access to private member using name mangling\n",
    "print('Salary:', emp._Employee__salary)"
   ]
  },
  {
   "cell_type": "markdown",
   "id": "6c60f239",
   "metadata": {},
   "source": [
    "##### Protected Member"
   ]
  },
  {
   "cell_type": "code",
   "execution_count": 22,
   "id": "76f3a5f9",
   "metadata": {},
   "outputs": [
    {
     "name": "stdout",
     "output_type": "stream",
     "text": [
      "Employee name : Jessa\n",
      "Working on project : NLP\n",
      "Project: NLP\n"
     ]
    }
   ],
   "source": [
    "class Company:\n",
    "    def __init__(self):\n",
    "        # Protected member\n",
    "        self._project = \"NLP\"\n",
    "\n",
    "# child class\n",
    "class Employee(Company):\n",
    "    def __init__(self, name):\n",
    "        self.name = name\n",
    "        Company.__init__(self)\n",
    "\n",
    "    def show(self):\n",
    "        print(\"Employee name :\", self.name)\n",
    "        # Accessing protected member in child class\n",
    "        print(\"Working on project :\", self._project)\n",
    "\n",
    "c = Employee(\"Jessa\")\n",
    "c.show()\n",
    "\n",
    "# Direct access protected data member\n",
    "print('Project:', c._project)"
   ]
  },
  {
   "cell_type": "markdown",
   "id": "e0d25762",
   "metadata": {},
   "source": [
    "##### getters and setters"
   ]
  },
  {
   "cell_type": "code",
   "execution_count": 23,
   "id": "ef101e90",
   "metadata": {},
   "outputs": [
    {
     "name": "stdout",
     "output_type": "stream",
     "text": [
      "Name: Jessa 14\n",
      "Name: Jessa 16\n"
     ]
    }
   ],
   "source": [
    "class Student:\n",
    "    def __init__(self, name, age):\n",
    "        # private member\n",
    "        self.name = name\n",
    "        self.__age = age\n",
    "\n",
    "    # getter method\n",
    "    def get_age(self):\n",
    "        return self.__age\n",
    "\n",
    "    # setter method\n",
    "    def set_age(self, age):\n",
    "        self.__age = age\n",
    "\n",
    "stud = Student('Jessa', 14)\n",
    "\n",
    "# retrieving age using getter\n",
    "print('Name:', stud.name, stud.get_age())\n",
    "\n",
    "# changing age using setter\n",
    "stud.set_age(16)\n",
    "\n",
    "# retrieving age using getter\n",
    "print('Name:', stud.name, stud.get_age())"
   ]
  }
 ],
 "metadata": {
  "kernelspec": {
   "display_name": "Python 3 (ipykernel)",
   "language": "python",
   "name": "python3"
  },
  "language_info": {
   "codemirror_mode": {
    "name": "ipython",
    "version": 3
   },
   "file_extension": ".py",
   "mimetype": "text/x-python",
   "name": "python",
   "nbconvert_exporter": "python",
   "pygments_lexer": "ipython3",
   "version": "3.9.7"
  }
 },
 "nbformat": 4,
 "nbformat_minor": 5
}
