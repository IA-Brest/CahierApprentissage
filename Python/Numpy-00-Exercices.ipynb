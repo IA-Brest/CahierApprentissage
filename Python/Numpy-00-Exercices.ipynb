{
 "cells": [
  {
   "cell_type": "markdown",
   "metadata": {},
   "source": [
    "<h1><center> Exercices Numpy </center></h1>\n"
   ]
  },
  {
   "cell_type": "markdown",
   "metadata": {},
   "source": [
    "## 1. Importez le package numpy sous le nom np"
   ]
  },
  {
   "cell_type": "code",
   "execution_count": 2,
   "metadata": {},
   "outputs": [],
   "source": []
  },
  {
   "cell_type": "markdown",
   "metadata": {},
   "source": [
    "## 2. Créer un vecteur des valeurs 0 de taille 100"
   ]
  },
  {
   "cell_type": "code",
   "execution_count": 3,
   "metadata": {},
   "outputs": [
    {
     "name": "stdout",
     "output_type": "stream",
     "text": [
      "[0. 0. 0. 0. 0. 0. 0. 0. 0. 0. 0. 0. 0. 0. 0. 0. 0. 0. 0. 0. 0. 0. 0. 0.\n",
      " 0. 0. 0. 0. 0. 0. 0. 0. 0. 0. 0. 0. 0. 0. 0. 0. 0. 0. 0. 0. 0. 0. 0. 0.\n",
      " 0. 0. 0. 0. 0. 0. 0. 0. 0. 0. 0. 0. 0. 0. 0. 0. 0. 0. 0. 0. 0. 0. 0. 0.\n",
      " 0. 0. 0. 0. 0. 0. 0. 0. 0. 0. 0. 0. 0. 0. 0. 0. 0. 0. 0. 0. 0. 0. 0. 0.\n",
      " 0. 0. 0. 0.]\n"
     ]
    }
   ],
   "source": [
    "# Résultat attendu\n",
    "# [0. 0. 0. 0. 0. 0. 0. 0. 0. 0. 0. 0. 0. 0. 0. 0. 0. 0. 0. 0. 0. 0. 0. 0.\n",
    "#  0. 0. 0. 0. 0. 0. 0. 0. 0. 0. 0. 0. 0. 0. 0. 0. 0. 0. 0. 0. 0. 0. 0. 0.\n",
    "#  0. 0. 0. 0. 0. 0. 0. 0. 0. 0. 0. 0. 0. 0. 0. 0. 0. 0. 0. 0. 0. 0. 0. 0.\n",
    "#  0. 0. 0. 0. 0. 0. 0. 0. 0. 0. 0. 0. 0. 0. 0. 0. 0. 0. 0. 0. 0. 0. 0. 0.\n",
    "#  0. 0. 0. 0.]\n"
   ]
  },
  {
   "cell_type": "markdown",
   "metadata": {},
   "source": [
    "## 3. Créez un vecteur nul de taille 10 mais la cinquième valeur qui est 1"
   ]
  },
  {
   "cell_type": "code",
   "execution_count": 30,
   "metadata": {},
   "outputs": [
    {
     "name": "stdout",
     "output_type": "stream",
     "text": [
      "[0. 0. 0. 0. 1. 0. 0. 0. 0. 0.]\n"
     ]
    }
   ],
   "source": [
    "# Résultat attendu [0. 0. 0. 0. 1. 0. 0. 0. 0. 0.]\n"
   ]
  },
  {
   "cell_type": "markdown",
   "metadata": {},
   "source": [
    "## 4. Créez un vecteur avec des valeurs allant de 10 à 49"
   ]
  },
  {
   "cell_type": "code",
   "execution_count": 31,
   "metadata": {},
   "outputs": [
    {
     "name": "stdout",
     "output_type": "stream",
     "text": [
      "[10 11 12 13 14 15 16 17 18 19 20 21 22 23 24 25 26 27 28 29 30 31 32 33\n",
      " 34 35 36 37 38 39 40 41 42 43 44 45 46 47 48 49]\n"
     ]
    }
   ],
   "source": [
    "# [10 11 12 13 14 15 16 17 18 19 20 21 22 23 24 25 26 27 28 29 30 31 32 33\n",
    "#  34 35 36 37 38 39 40 41 42 43 44 45 46 47 48 49]"
   ]
  },
  {
   "cell_type": "markdown",
   "metadata": {},
   "source": [
    "## 5. Créer et Inverser un vecteur "
   ]
  },
  {
   "cell_type": "code",
   "execution_count": null,
   "metadata": {},
   "outputs": [],
   "source": []
  },
  {
   "cell_type": "markdown",
   "metadata": {},
   "source": [
    "## 6. Créez un vecteur aléatoire de taille 30 et trouvez la valeur moyenne"
   ]
  },
  {
   "cell_type": "code",
   "execution_count": 33,
   "metadata": {},
   "outputs": [
    {
     "name": "stdout",
     "output_type": "stream",
     "text": [
      "0.5213455678774359\n"
     ]
    }
   ],
   "source": []
  },
  {
   "cell_type": "markdown",
   "metadata": {},
   "source": [
    "## 7. Rechercher des indices d'éléments non nuls à partir de [0,3,1,2,0,0,4,0]"
   ]
  },
  {
   "cell_type": "code",
   "execution_count": 4,
   "metadata": {},
   "outputs": [],
   "source": [
    "# Exemple [0,3,1,2,0,0,4,0]==> résultat [1, 2, 3, 6]\n"
   ]
  },
  {
   "cell_type": "markdown",
   "metadata": {},
   "source": [
    "## 8. Étant donné un tableau 1D, négativez tous les éléments qui sont entre 2 et 7."
   ]
  },
  {
   "cell_type": "code",
   "execution_count": 8,
   "metadata": {},
   "outputs": [],
   "source": [
    "#Exemple [ 0  1  2  3  4  5  6  7  8  9 10] ==> résultat [ 0  1  2 -3 -4 -5 -6  7  8  9 10]"
   ]
  },
  {
   "cell_type": "markdown",
   "metadata": {},
   "source": [
    "## 9. Comment extraire tous les nombres entre une intervalle donné d'un tableau numpy?"
   ]
  },
  {
   "cell_type": "code",
   "execution_count": 1,
   "metadata": {},
   "outputs": [],
   "source": [
    "# Exemple [2, 6, 1, 9, 10, 3, 27] ==> résultat  pour l'intervalle ]5,10[  ==>    [6, 9]\n"
   ]
  },
  {
   "cell_type": "markdown",
   "metadata": {},
   "source": [
    "## 10. Comment trouver des valeurs communes entre deux tableaux?"
   ]
  },
  {
   "cell_type": "code",
   "execution_count": 10,
   "metadata": {},
   "outputs": [
    {
     "name": "stdout",
     "output_type": "stream",
     "text": [
      "[8 2 8 4 8 0 9 7 4 2]\n",
      "[1 7 2 3 2 0 1 2 8 7]\n",
      "[0 2 7 8]\n"
     ]
    }
   ],
   "source": [
    "# Exemple T1=[8 2 8 4 8 0 9 7 4 2] et T2 =[1 7 2 3 2 0 1 2 8 7] ==> resultat [0 2 7 8]"
   ]
  },
  {
   "cell_type": "markdown",
   "metadata": {},
   "source": [
    "##  11. Comment concaténer deux tableaux verticalment & horizontalement"
   ]
  },
  {
   "cell_type": "code",
   "execution_count": 38,
   "metadata": {},
   "outputs": [
    {
     "name": "stdout",
     "output_type": "stream",
     "text": [
      "[[0 1 2 3 4]\n",
      " [5 6 7 8 9]]\n",
      "[0 1 2 3 4 5 6 7 8 9]\n"
     ]
    }
   ],
   "source": [
    "# A = [0, 1, 2, 3, 4]        \n",
    "# B = [5, 6, 7, 8, 9]\n",
    "\n",
    "# Vertical\n",
    "# [[0 1 2 3 4]\n",
    "#  [5 6 7 8 9]]\n",
    "\n",
    "# Horizontal\n",
    "# [0 1 2 3 4 5 6 7 8 9]\n"
   ]
  },
  {
   "cell_type": "markdown",
   "metadata": {},
   "source": [
    "## 12. Créer une matrice alétoire de taille (6,4)"
   ]
  },
  {
   "cell_type": "code",
   "execution_count": 40,
   "metadata": {},
   "outputs": [
    {
     "name": "stdout",
     "output_type": "stream",
     "text": [
      "[[-1.68525061  0.21607626 -0.05313988  0.98123196]\n",
      " [-0.313157    0.67834797 -0.29059116 -0.96712921]\n",
      " [ 0.61417629 -2.00567843 -1.54736928 -0.14527849]\n",
      " [-0.07021806 -0.1432564   0.6520584  -0.67120904]\n",
      " [-2.03784325  1.68919082  0.33936085  0.41147549]\n",
      " [ 1.35094909  0.52353919  0.56736121  2.08820535]]\n"
     ]
    }
   ],
   "source": []
  },
  {
   "cell_type": "markdown",
   "metadata": {},
   "source": [
    "## 13. Faire le transposé une matrice "
   ]
  },
  {
   "cell_type": "code",
   "execution_count": 16,
   "metadata": {},
   "outputs": [
    {
     "name": "stdout",
     "output_type": "stream",
     "text": [
      "[[1 4 3 1]\n",
      " [3 3 3 1]]\n",
      "[[1 3]\n",
      " [4 3]\n",
      " [3 3]\n",
      " [1 1]]\n"
     ]
    }
   ],
   "source": [
    "# [[1 4 3 1]\n",
    "#  [3 3 3 1]]\n",
    "\n",
    "\n",
    "#Résultat\n",
    "# [[1 3]\n",
    "#  [4 3]\n",
    "#  [3 3]\n",
    "#  [1 1]]\n"
   ]
  },
  {
   "cell_type": "markdown",
   "metadata": {},
   "source": [
    "## 14. Créer une matrice d'identité de taille 3x3"
   ]
  },
  {
   "cell_type": "code",
   "execution_count": 17,
   "metadata": {},
   "outputs": [],
   "source": [
    "# [[1. 0. 0.]\n",
    "#  [0. 1. 0.]\n",
    "#  [0. 0. 1.]]\n",
    "\n"
   ]
  },
  {
   "cell_type": "markdown",
   "metadata": {},
   "source": [
    "## 15. Créer un tableau 3x5x5 avec des valeurs aléatoires"
   ]
  },
  {
   "cell_type": "code",
   "execution_count": 43,
   "metadata": {},
   "outputs": [
    {
     "name": "stdout",
     "output_type": "stream",
     "text": [
      "[[[0.11809942 0.59425674 0.59217049 0.23565535 0.29571788]\n",
      "  [0.04294196 0.0603795  0.16138301 0.61656553 0.53924384]\n",
      "  [0.12026426 0.73707485 0.17229268 0.97773171 0.86595787]\n",
      "  [0.90672925 0.00945237 0.88927931 0.11843568 0.69035624]\n",
      "  [0.75650736 0.46141008 0.62214368 0.94990351 0.98780218]]\n",
      "\n",
      " [[0.83384142 0.21869916 0.66269336 0.08613035 0.53563584]\n",
      "  [0.87054127 0.47995801 0.79945659 0.15638151 0.40816557]\n",
      "  [0.20750269 0.4447351  0.16391486 0.58217283 0.5653036 ]\n",
      "  [0.40097872 0.64684125 0.06754157 0.16877554 0.54630037]\n",
      "  [0.60580556 0.73756266 0.4613242  0.6981884  0.62241682]]\n",
      "\n",
      " [[0.05642842 0.26668163 0.6587946  0.67295584 0.71870731]\n",
      "  [0.66855914 0.93600913 0.8840649  0.82927194 0.63922029]\n",
      "  [0.43079509 0.76046033 0.45787309 0.21059526 0.60079728]\n",
      "  [0.7648703  0.61321301 0.57638005 0.68978209 0.64319506]\n",
      "  [0.30831427 0.53404256 0.00501522 0.14746457 0.68286349]]]\n"
     ]
    }
   ],
   "source": []
  },
  {
   "cell_type": "markdown",
   "metadata": {},
   "source": [
    "## 16. Créez un tableau 10x10 avec des valeurs aléatoires et trouvez les valeurs minimum et maximum"
   ]
  },
  {
   "cell_type": "code",
   "execution_count": 19,
   "metadata": {},
   "outputs": [
    {
     "name": "stdout",
     "output_type": "stream",
     "text": [
      "[[0.49677183 0.49940828 0.64146659 0.84778245 0.40520151 0.42573171\n",
      "  0.14679371 0.47816947 0.01753026 0.56387831]\n",
      " [0.91221519 0.45513531 0.06864129 0.19142809 0.42709047 0.00793861\n",
      "  0.06939069 0.47371159 0.24600911 0.97541308]\n",
      " [0.81517785 0.05830421 0.41913328 0.78495015 0.23948683 0.69748899\n",
      "  0.57919443 0.5770237  0.16253808 0.73477162]\n",
      " [0.30063464 0.33819836 0.77883092 0.69265544 0.65546204 0.84208957\n",
      "  0.58787329 0.02249087 0.50189725 0.13507233]\n",
      " [0.52603588 0.64474401 0.39581214 0.89659627 0.9500797  0.06774922\n",
      "  0.05715077 0.32412532 0.51421026 0.3722204 ]\n",
      " [0.95505986 0.69907022 0.64452902 0.96389433 0.46356153 0.48342106\n",
      "  0.04503206 0.44598882 0.65384142 0.76693476]\n",
      " [0.74704325 0.77913646 0.36622108 0.25517577 0.5150306  0.07472963\n",
      "  0.62646234 0.51913603 0.44129949 0.1125081 ]\n",
      " [0.16578263 0.94336836 0.80199882 0.19614389 0.78873628 0.84758081\n",
      "  0.95276267 0.01014709 0.69320889 0.95959288]\n",
      " [0.74347295 0.79217052 0.09443532 0.54124878 0.25597202 0.01340477\n",
      "  0.18030643 0.78083064 0.33355605 0.7757373 ]\n",
      " [0.94612252 0.22554561 0.41464069 0.95665192 0.05458103 0.52294318\n",
      "  0.59932454 0.94988961 0.14382458 0.27220517]]\n",
      "Min, Max\n",
      "0.007938608489153731 0.9754130838711838\n"
     ]
    }
   ],
   "source": []
  },
  {
   "cell_type": "markdown",
   "metadata": {},
   "source": [
    "## 17. Créez un tableau 2D avec 1 sur les extrémités et 0 à l'intérieur"
   ]
  },
  {
   "cell_type": "code",
   "execution_count": 45,
   "metadata": {},
   "outputs": [
    {
     "name": "stdout",
     "output_type": "stream",
     "text": [
      "[[1. 1. 1. 1. 1. 1. 1. 1. 1. 1.]\n",
      " [1. 0. 0. 0. 0. 0. 0. 0. 0. 1.]\n",
      " [1. 0. 0. 0. 0. 0. 0. 0. 0. 1.]\n",
      " [1. 0. 0. 0. 0. 0. 0. 0. 0. 1.]\n",
      " [1. 0. 0. 0. 0. 0. 0. 0. 0. 1.]\n",
      " [1. 0. 0. 0. 0. 0. 0. 0. 0. 1.]\n",
      " [1. 0. 0. 0. 0. 0. 0. 0. 0. 1.]\n",
      " [1. 0. 0. 0. 0. 0. 0. 0. 0. 1.]\n",
      " [1. 0. 0. 0. 0. 0. 0. 0. 0. 1.]\n",
      " [1. 1. 1. 1. 1. 1. 1. 1. 1. 1.]]\n"
     ]
    }
   ],
   "source": []
  },
  {
   "cell_type": "markdown",
   "metadata": {},
   "source": [
    "## 18. Créer une matrice 5x5 avec des valeurs 1,2,3,4 juste en dessous de la diagonale"
   ]
  },
  {
   "cell_type": "code",
   "execution_count": 46,
   "metadata": {},
   "outputs": [
    {
     "name": "stdout",
     "output_type": "stream",
     "text": [
      "[[0 0 0 0 0]\n",
      " [1 0 0 0 0]\n",
      " [0 2 0 0 0]\n",
      " [0 0 3 0 0]\n",
      " [0 0 0 4 0]]\n"
     ]
    }
   ],
   "source": []
  },
  {
   "cell_type": "markdown",
   "metadata": {},
   "source": [
    "## 19. Normaliser une matrice aléatoire 5x5"
   ]
  },
  {
   "cell_type": "code",
   "execution_count": 20,
   "metadata": {},
   "outputs": [
    {
     "name": "stdout",
     "output_type": "stream",
     "text": [
      "[[0.0650945  0.20525857 0.11716133 0.67087742 0.57168485]\n",
      " [0.14735448 0.34220235 0.65276007 0.87120328 0.23425354]\n",
      " [0.3776236  0.92831673 0.73831609 0.81550111 0.5012641 ]\n",
      " [0.07843377 0.60976242 0.50814382 0.56183294 0.29286659]\n",
      " [0.06238211 0.71709572 0.67913708 0.23247665 0.24750943]]\n",
      "================\n",
      "[[-1.44307345 -0.91639946 -1.24742954  0.83318839  0.46046696]\n",
      " [-1.13397717 -0.40182586  0.76511145  1.58592353 -0.8074493 ]\n",
      " [-0.26872859  1.8005304   1.08659278  1.37661965  0.19585721]\n",
      " [-1.39295044  0.60354549  0.22170814  0.42344789 -0.58720761]\n",
      " [-1.45326542  1.0068561   0.86422447 -0.81412605 -0.75763956]]\n"
     ]
    }
   ],
   "source": []
  },
  {
   "cell_type": "markdown",
   "metadata": {},
   "source": [
    "## 20. Multiplier une matrice 5x3 par une matrice 3x2"
   ]
  },
  {
   "cell_type": "code",
   "execution_count": 21,
   "metadata": {},
   "outputs": [
    {
     "name": "stdout",
     "output_type": "stream",
     "text": [
      "Matrice 1\n",
      "[[1. 1. 1.]\n",
      " [1. 1. 1.]\n",
      " [1. 1. 1.]\n",
      " [1. 1. 1.]\n",
      " [1. 1. 1.]]\n",
      "============\n",
      "Matrice 2\n",
      "[[1. 1.]\n",
      " [1. 1.]\n",
      " [1. 1.]]\n",
      "=====Résultat=====\n",
      "[[3. 3.]\n",
      " [3. 3.]\n",
      " [3. 3.]\n",
      " [3. 3.]\n",
      " [3. 3.]]\n"
     ]
    }
   ],
   "source": []
  },
  {
   "cell_type": "markdown",
   "metadata": {},
   "source": [
    "## 21. Comment obtenir les positions où on a les même éléments dans les deux tableaux ?"
   ]
  },
  {
   "cell_type": "code",
   "execution_count": 22,
   "metadata": {},
   "outputs": [
    {
     "name": "stdout",
     "output_type": "stream",
     "text": [
      "Tableau 1\n",
      "[1 2 3 2 3 4 3 4 5 6]\n",
      "=================\n",
      "Tableau 2\n",
      "[ 7  2 10  2  7  4  9  4  9  8]\n",
      "=====Résultat=====\n",
      "(array([1, 3, 5, 7], dtype=int64),)\n"
     ]
    }
   ],
   "source": []
  },
  {
   "cell_type": "markdown",
   "metadata": {},
   "source": [
    "## 22. Comment trouver l'index de la n ième répétition d'un élément dans un tableau 1D"
   ]
  },
  {
   "cell_type": "code",
   "execution_count": 23,
   "metadata": {},
   "outputs": [],
   "source": [
    "#n=5\n"
   ]
  },
  {
   "cell_type": "markdown",
   "metadata": {},
   "source": [
    "## 23. Comment soustraire un tableau 1d d'un tableau 2d, où chaque élément du tableau 1d soustrait de la ligne respective?"
   ]
  },
  {
   "cell_type": "code",
   "execution_count": 24,
   "metadata": {},
   "outputs": [],
   "source": [
    "# exemple matrice = [[[4,4,4],[5,5,5],[6,6,6]]]  vecteur=[2,3,4] \n",
    "\n",
    "#  resultat  \n",
    "# [[2 2 2]\n",
    "# [2 2 2]\n",
    "# [2 2 2]]\n",
    "\n"
   ]
  },
  {
   "cell_type": "markdown",
   "metadata": {},
   "source": [
    "## 24. Comment supprimer toutes les valeurs manquantes d'un tableau numpy? (avec for)"
   ]
  },
  {
   "cell_type": "code",
   "execution_count": 52,
   "metadata": {},
   "outputs": [
    {
     "name": "stdout",
     "output_type": "stream",
     "text": [
      "[ 1.  2.  3. nan  5.  6.  7. nan]\n"
     ]
    },
    {
     "data": {
      "text/plain": [
       "array([1., 2., 3., 5., 6., 7.])"
      ]
     },
     "execution_count": 52,
     "metadata": {},
     "output_type": "execute_result"
    }
   ],
   "source": []
  }
 ],
 "metadata": {
  "kernelspec": {
   "display_name": "Python 3",
   "language": "python",
   "name": "python3"
  },
  "language_info": {
   "codemirror_mode": {
    "name": "ipython",
    "version": 3
   },
   "file_extension": ".py",
   "mimetype": "text/x-python",
   "name": "python",
   "nbconvert_exporter": "python",
   "pygments_lexer": "ipython3",
   "version": "3.7.7"
  }
 },
 "nbformat": 4,
 "nbformat_minor": 1
}
