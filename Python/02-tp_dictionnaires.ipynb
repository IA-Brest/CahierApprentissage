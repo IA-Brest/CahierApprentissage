{
 "cells": [
  {
   "cell_type": "markdown",
   "metadata": {},
   "source": [
    "# TP sur les dictionnaires et les sets\n",
    "\n",
    "## TP : Magasin en ligne\n",
    "\n",
    "Dans cet exercice, nous nous familiarisons avec les manipulations de dictionnaires sur une thématique de magasin en ligne.\n",
    "«Chez Geek and sons tout ce qui est inutile peut s'acheter, et tout ce qui peut s’acheter est un peu trop cher.»\n",
    "\n",
    "La base de prix des produits de Geek and sons est représentée en Python par un dictionnaire avec :\n",
    "\n",
    "- les noms de produits, de type `str`, comme clés.\n",
    "- les prix des produits, de type `float`, comme valeurs associées.\n",
    "\n",
    "**Attention : bien respecter l'ordre de présentation du code :**\n",
    "\n",
    "1. Les imports\n",
    "2. Les fonctions\n",
    "3. Le programme principal\n",
    "\n",
    "N'écrire aucun code entre les fonctions !\n"
   ]
  },
  {
   "cell_type": "markdown",
   "metadata": {},
   "source": [
    "### Question 1\n",
    "Donner une expression Python pour construire la base des produits correspondant à la\n",
    "table suivante :\n",
    "    \n",
    "```\n",
    "| Nom du produit     | Prix TTC |\n",
    "| Sabre Laser        | 229      |\n",
    "| Mitendo DX         | 127.30   |\n",
    "| Coussin Linux      |  74.50   |\n",
    "| Slip Goldorak      |  29.90   |\n",
    "| Station Nextpresso | 184.60   |\n",
    "```"
   ]
  },
  {
   "cell_type": "code",
   "execution_count": 2,
   "metadata": {
    "tags": [
     "remove-cell"
    ]
   },
   "outputs": [
    {
     "name": "stdout",
     "output_type": "stream",
     "text": [
      "{'Sabre Laser': 229, 'Mitendo DX': 127.3, 'Coussin Linux': 74.5, 'Slip Goldorak': 29.9, 'Station Nextpresso': 184.6}\n",
      "74.5\n"
     ]
    }
   ],
   "source": [
    "#produits = [\n",
    "#{ 'Nom du produit': 'Sabre Laser',        'Prix TTC': 229 },\n",
    "#{ 'Nom du produit': 'Mitendo DX',         'Prix TTC': 127.30 },\n",
    "#{ 'Nom du produit': 'Coussin Linux',      'Prix TTC':  74.50 },\n",
    "#{ 'Nom du produit': 'Slip Goldorak',      'Prix TTC':  29.90 },\n",
    "#{ 'Nom du produit': 'Station Nextpresso', 'Prix TTC': 184.60 }\n",
    "#]\n",
    "\n",
    "produits = {\n",
    "    'Sabre Laser': 229,\n",
    "    'Mitendo DX': 127.30,\n",
    "    'Coussin Linux':  74.50,\n",
    "    'Slip Goldorak':  29.90,\n",
    "    'Station Nextpresso': 184.60\n",
    "}\n",
    "\n",
    "print(produits)\n",
    "print(produits['Coussin Linux'])"
   ]
  },
  {
   "cell_type": "markdown",
   "metadata": {},
   "source": [
    "### Question 2\n",
    "Écrire la fonction `disponibilite` qui étant donnés un nom de produit\n",
    "et une base de produits, retourne `True` si le produit est présent dans la base, ou `False` sinon.\n",
    "\n",
    "```python\n",
    "def disponibilite(nom_prod, base_prod):\n",
    "    ...\n",
    "```"
   ]
  },
  {
   "cell_type": "code",
   "execution_count": 25,
   "metadata": {},
   "outputs": [
    {
     "name": "stdout",
     "output_type": "stream",
     "text": [
      "True\n",
      "True\n",
      "False\n"
     ]
    }
   ],
   "source": [
    "def disponibilite(nom_prod, base_prod):\n",
    "    return nom_prod in base_prod\n",
    "    ## en interrogant la clé\n",
    "    #return base_prod[nom_prod] != none\n",
    "    ## en parcourant toutes les clés\n",
    "    #for prod in base_prod.keys():\n",
    "    #    if prod == nom_prod:\n",
    "    #        return True\n",
    "    #return False\n",
    "\n",
    "inventaire = {\n",
    "    'Sabre Laser': 0,\n",
    "    'Mitendo DX': 5,\n",
    "    'Coussin Linux':  42,\n",
    "    'Slip Goldorak':  1,\n",
    "    'Station Nextpresso': 123\n",
    "}\n",
    "\n",
    "\n",
    "print(disponibilite('Coussin Linux', inventaire))\n",
    "print(disponibilite('Sabre Laser', inventaire))\n",
    "print(disponibilite('Un truc indisponnible', inventaire))\n",
    "\n",
    "assert disponibilite('toto', inventaire) == False\n",
    "assert disponibilite('Coussin Linux', inventaire) == True"
   ]
  },
  {
   "cell_type": "markdown",
   "metadata": {},
   "source": [
    "### Question 3\n",
    "Écrire la fonction `prix_moyen` qui, étant donnée une base de produits (contenant\n",
    "au moins un produit), retourne le prix moyen des produits disponibles.\n",
    "\n",
    "```python\n",
    "def prix_moyen(base_prod):\n",
    "    ...\n",
    "```"
   ]
  },
  {
   "cell_type": "code",
   "execution_count": 34,
   "metadata": {},
   "outputs": [
    {
     "name": "stdout",
     "output_type": "stream",
     "text": [
      "129.06\n",
      "129.06\n"
     ]
    }
   ],
   "source": [
    "def prix_moyen(base_prod) -> float:\n",
    "    '''Somme des prix / nombre de prix'''\n",
    "    total = 0\n",
    "    nb_produits = 0\n",
    "    for produit in base_prod:\n",
    "        #print(produit)\n",
    "        total += produits[produit]\n",
    "        nb_produits += 1\n",
    "    return total / nb_produits\n",
    "\n",
    "def prix_moyen2(base_prod) -> float:\n",
    "    return sum(base_prod.values()) / len(base_prod.keys())\n",
    "\n",
    "print(prix_moyen(produits))\n",
    "\n",
    "print(prix_moyen2(produits))\n"
   ]
  },
  {
   "cell_type": "markdown",
   "metadata": {},
   "source": [
    "### Question 4\n",
    "Écrire la fonction `fourchette_prix` qui, étant donnés un prix minimum\n",
    "mini, un prix maximum maxi et une base de produits, retourne l'ensemble des noms de produits\n",
    "disponibles dans cette fourchette de prix.\n",
    "\n",
    "```python\n",
    "def fourchette_prix(prix_min, prix_max, base_prod):\n",
    "    ...\n",
    "```"
   ]
  },
  {
   "cell_type": "code",
   "execution_count": 39,
   "metadata": {},
   "outputs": [
    {
     "name": "stdout",
     "output_type": "stream",
     "text": [
      "['Coussin Linux', 'Slip Goldorak']\n",
      "{'Sabre Laser': 229, 'Mitendo DX': 127.3, 'Coussin Linux': 74.5, 'Slip Goldorak': 29.9, 'Station Nextpresso': 184.6}\n"
     ]
    }
   ],
   "source": [
    "def fourchette_prix(prix_min, prix_max, base_prod):\n",
    "    produits = []\n",
    "    for produit in base_prod:\n",
    "        pp = base_prod[produit]\n",
    "        if prix_min <= pp and prix_max >= pp:\n",
    "            produits.append(produit)\n",
    "    return produits\n",
    "\n",
    "pmin = 5\n",
    "pmax = 100\n",
    "print(fourchette_prix(pmin, pmax, produits))\n",
    "print(produits)\n",
    "assert fourchette_prix(20, 75, produits) == ['Coussin Linux', 'Slip Goldorak']\n",
    "assert fourchette_prix(250, 750, produits) == []"
   ]
  },
  {
   "cell_type": "markdown",
   "metadata": {},
   "source": [
    "### Question 5\n",
    "Le panier est un concept omniprésent dans les sites marchands, Geeks and sons n’échappe pas à la règle. En Python, le panier du client sera représenté par un dictionnaire, avec :\n",
    "\n",
    "- les noms de produits comme clés.\n",
    "- une quantité d'achat comme valeurs associées.\n",
    "\n",
    "Donner une expression Python correspondant à l'achat de 3 sabres lasers, de 2 coussins Linux\n",
    "et de 1 slip Goldorak."
   ]
  },
  {
   "cell_type": "code",
   "execution_count": 40,
   "metadata": {},
   "outputs": [],
   "source": [
    "panier = {\n",
    "    \"Sabre Laser\" : 3,\n",
    "    \"Coussin Linux\": 2,\n",
    "    \"Slip Goldorak\": 1\n",
    "}"
   ]
  },
  {
   "cell_type": "markdown",
   "metadata": {},
   "source": [
    "### Question 6\n",
    "Écrire la fonction `tous_disponibles` qui, étant donnés un panier d'achat et une base de produits, retourne `True` si tous les produits demandés sont disponibles, ou `False` sinon.\n",
    "\n",
    "```python\n",
    "def tous_disponibles(panier_achat, base_prod):\n",
    "    ...\n",
    "```"
   ]
  },
  {
   "cell_type": "code",
   "execution_count": 44,
   "metadata": {},
   "outputs": [
    {
     "name": "stdout",
     "output_type": "stream",
     "text": [
      "True\n",
      "False\n"
     ]
    }
   ],
   "source": [
    "def tous_disponibles(panier_achat, base_prod):\n",
    "    rsp = True\n",
    "    for achat in panier_achat:\n",
    "        if not disponibilite(achat, base_prod):\n",
    "            rsp = False\n",
    "            break\n",
    "    return rsp\n",
    "\n",
    "print(tous_disponibles(panier, produits))\n",
    "assert tous_disponibles(panier, produits) == True\n",
    "\n",
    "test_panier_faux = {\n",
    "    \"Sabre Laser\" : 3,\n",
    "    \"Coussin Linux\": 0,\n",
    "    \"Un truc qui n'existe pas\": 1\n",
    "}\n",
    "print(tous_disponibles(test_panier_faux, produits))\n",
    "assert tous_disponibles(test_panier_faux, produits) == False\n"
   ]
  },
  {
   "cell_type": "markdown",
   "metadata": {},
   "source": [
    "### Question 7\n",
    "Écrire la fonction `prix_achats` qui, étant donnés un panier d'achat et une base de produits, retourne le prix total correspondant.\n",
    "\n",
    "- Faire une version qui suppose que tous les articles du panier sont disponibles dans la base des produits.\n",
    "- Proposer une version qui renvoie une erreur si l'article du panier ne peut être trouvé dans la base.\n",
    "\n",
    "```python\n",
    "def prix_achats(panier_achat, base_prod):\n",
    "    ...\n",
    "```"
   ]
  },
  {
   "cell_type": "code",
   "execution_count": 50,
   "metadata": {},
   "outputs": [
    {
     "name": "stdout",
     "output_type": "stream",
     "text": [
      "865.9\n",
      "{'Sabre Laser': 3, 'Coussin Linux': 2, 'Slip Goldorak': 1}\n",
      "{'Sabre Laser': 229, 'Mitendo DX': 127.3, 'Coussin Linux': 74.5, 'Slip Goldorak': 29.9, 'Station Nextpresso': 184.6}\n",
      "[-1, 'Article [Sabre Laser] non disponnible']\n"
     ]
    }
   ],
   "source": [
    "def prix_achats(panier_achat, base_prod):\n",
    "    total = 0\n",
    "    for achat, nombre in panier_achat.items():\n",
    "        if tous_disponibles(panier_achat, base_prod):\n",
    "            total += produits[achat]*nombre\n",
    "        else:\n",
    "            total = [-1, f\"Article [{ achat }] non disponnible\"]\n",
    "            break\n",
    "    return total\n",
    "\n",
    "print(prix_achats(panier, produits))\n",
    "print(panier)\n",
    "print(produits)\n",
    "assert prix_achats(panier, produits) == 3*229 + 2*74.5 + 29.9\n",
    "\n",
    "print(prix_achats(test_panier_faux, produits))"
   ]
  },
  {
   "cell_type": "markdown",
   "metadata": {},
   "source": [
    "## TP : recettes de cuisine\n",
    "Dans cet exercice, on s'intéresse à la définition de fonctions permettant de manipuler un livre\n",
    "de recettes de cuisine. Comme tout bon livre de recettes qui se respecte, chaque recette décrit\n",
    "notamment l'ensemble des ingrédients qui la composent. À titre d’exemple, un livre de\n",
    "recettes de desserts pourrait contenir les informations suivantes :\n",
    "\n",
    "```\n",
    "|--------------------|----------------------------------------|\n",
    "| Recette            | Ingrédients                            |\n",
    "|--------------------|-----------------------------------------\n",
    "| Gâteau au chocolat | chocolat, oeufs, farine, sucre, beurre |\n",
    "| Gâteau au yaourt   | yaourt, oeufs, farine, sucre           |\n",
    "| Crêpes             | oeufs, farine, lait                    |\n",
    "| Quatre-quarts      | oeufs, farine, sucre, beurre           |\n",
    "| Kouign Amann       | farine, sucre, beurre                  |\n",
    "```\n",
    "\n",
    "Un livre de recettes est donc représenté en Python par un dictionnaire avec :\n",
    "\n",
    "- les noms des recettes, de type `str`, comme clés.\n",
    "- l'ensemble des ingrédients, de type `set` (chaque ingrédient du `set` étant un `str`)."
   ]
  },
  {
   "cell_type": "markdown",
   "metadata": {},
   "source": [
    "### Présentation des sets\n",
    "\n",
    "Inspiration : https://python.sdv.univ-paris-diderot.fr/13_dictionnaires_tuples_sets/\n",
    "\n",
    "Les variables de type `set` représentent un autre type d'objet séquentiel qui peut se révéler très pratique. Ils ont la particularité d'être **non modifiables**, **non ordonnés** et de ne contenir que des éléments ont la **valeur est unique**. Pour créer un nouveau set on peut utiliser les accolades :\n",
    "\n",
    "```python\n",
    ">>> s = {1, 2, 3, 3}\n",
    ">>> s\n",
    "{1, 2, 3}\n",
    ">>> type(s)\n",
    "<class 'set'>\n",
    "```\n",
    "\n",
    "Notez que :\n",
    "\n",
    "- La répétition du 3 dans la définition du set en ligne 1 donne au final un seul 3 car chaque élément ne peut être présent qu'une seule fois. \n",
    "\n",
    "- Les set et et les dictionnaires utilisent tous les deux des accolades. Cependant, le set sera défini seulement par des valeurs comme `{val1, val2, ...}` alors que le dictionnaire aura toujours des couples clé/valeur `{clé1: val1, clé2: val2, ...}`.\n",
    "\n",
    "```python\n",
    "s1 = {1, 2, 3}\n",
    ">>> type(s1)\n",
    "<class 'set'>\n",
    "d1 = {'a1': 1, 'a2': 2}\n",
    ">>> type(d1)\n",
    "<class 'dict'>\n",
    "```\n",
    "\n",
    "Pour initialiser un set vide, on ne peut pas utiliser `{}` car il y a confusion avec les dictionnaires. Ainsi on utilisera simplement la fonction `set()`.\n",
    "\n",
    "```python\n",
    "s = set()\n",
    "```\n",
    "\n",
    "De plus la fonction `set()` peut prendre en argument n'importe quel objet itérable (c'est à dire qu'on peut parcourir) et le convertit en set (opération de casting), par exemple :\n",
    "\n",
    "```python\n",
    ">>> set([1, 2, 4, 1])  # Conversion d'une liste en set\n",
    "{1, 2, 4}\n",
    ">>> set((2, 2, 2, 1))  # Conversion d'un tuple en set\n",
    "{1, 2}\n",
    ">>> set(range(5))\n",
    "{0, 1, 2, 3, 4}\n",
    ">>> set({\"clé1\": 1, \"clé2\": 2})\n",
    "{'clé1', 'clé2'}\n",
    ">>> set([\"ti\", \"to\", \"to\"])\n",
    "{'ti', 'to'}\n",
    ">>> set(\"Maître corbeau sur un arbre perché\")\n",
    "{'h', 'u', 'o', 'b', ' ', 'M', 'a', 'p', 'n', 'e', 'é', 'c', 'î', 's', 't', 'r'}\n",
    "```\n",
    "\n",
    "Nous avons dit plus haut que les sets ne sont pas ordonnés :\n",
    "\n",
    "```python\n",
    ">>> s1 = {1, 2, 3}\n",
    ">>> s2 = {2, 1, 3}\n",
    ">>> s1 == s2\n",
    "True\n",
    "```\n",
    "\n",
    "Par conséquent, il est impossible de récupérer un élément par sa position. Il est également impossible de modifier un de ses éléments.\n",
    "\n",
    "```python\n",
    ">>> s = set([1, 2, 4, 1])\n",
    ">>> s[1]\n",
    "Traceback (most recent call last):\n",
    "  File \"<stdin>\", line 1, in <module>\n",
    "TypeError: 'set' object is not subscriptable\n",
    "```\n",
    "\n",
    "Par contre, les sets sont itérables :\n",
    "\n",
    "```python\n",
    ">>> for elt in s:\n",
    "...     print(elt)\n",
    "...\n",
    "1\n",
    "2\n",
    "4\n",
    "```\n",
    "\n",
    "Si on ne peut pas modifier le contenu directement, on peut ajouter ou supprimer des éléments :\n",
    "\n",
    "```python\n",
    ">>> s = {1, 2, 3}\n",
    ">>> s.remove(1)\n",
    ">>> s\n",
    "{2, 3}\n",
    ">>> s.add(1)\n",
    ">>> s\n",
    "{1, 2, 3}\n",
    "```\n",
    "\n",
    "Les variables de type `set` sont très utiles pour rechercher les éléments uniques d'une suite d'éléments. Cela revient à éliminer tous les doublons. Par exemple :\n",
    "\n",
    "```python\n",
    ">>> lst = [1, 2, 2, 3, 3]\n",
    ">>> s = set(lst)\n",
    ">>> s\n",
    "{1, 2, 3}\n",
    ">>> lst2 = list(s)\n",
    ">>> lst2\n",
    "[1, 2, 3]\n",
    "```"
   ]
  },
  {
   "cell_type": "markdown",
   "metadata": {},
   "source": [
    "### Question 1\n",
    "Donner une représentation en Python de la base des recettes."
   ]
  },
  {
   "cell_type": "code",
   "execution_count": 52,
   "metadata": {},
   "outputs": [
    {
     "name": "stdout",
     "output_type": "stream",
     "text": [
      "{'Gâteau au chocolat': {'farine', 'sucre', 'beurre', 'chocolat', 'oeufs'}, 'Gâteau au yaourt': {'farine', 'sucre', 'yaourt', 'oeufs'}, 'Crêpes': {'farine', 'lait', 'oeufs'}, 'Quatre-quarts': {'farine', 'sucre', 'beurre', 'oeufs'}, 'Kouign Amann': {'farine', 'sucre', 'beurre'}}\n"
     ]
    }
   ],
   "source": [
    "# | Recette | Ingrédients |\n",
    "livre_recettes = {\n",
    "\t\"Gâteau au chocolat\": {\"chocolat\", \"oeufs\", \"farine\", \"sucre\", \"beurre\"},\n",
    "\t\"Gâteau au yaourt\":   {\"yaourt\", \"oeufs\", \"farine\", \"sucre\"},\n",
    "\t\"Crêpes\":             {\"oeufs\", \"farine\", \"lait\"},\n",
    "\t\"Quatre-quarts\":      {\"oeufs\", \"farine\", \"sucre\", \"beurre\"},\n",
    "\t\"Kouign Amann\":       {\"farine\", \"sucre\", \"beurre\"},\n",
    "}\n",
    "\n",
    "print(livre_recettes)"
   ]
  },
  {
   "cell_type": "markdown",
   "metadata": {},
   "source": [
    "### Question 2\n",
    "Écrire la fonction `nb_ingredients` qui, étant donné un livre de recettes et\n",
    "le nom d'une recette contenue dans le livre, renvoie le nombre d'ingrédients nécessaires à la\n",
    "recette."
   ]
  },
  {
   "cell_type": "code",
   "execution_count": 60,
   "metadata": {},
   "outputs": [
    {
     "name": "stdout",
     "output_type": "stream",
     "text": [
      "3\n",
      "0\n",
      "Gâteau au chocolat :  5\n",
      "Gâteau au yaourt :  4\n",
      "Crêpes :  3\n",
      "Quatre-quarts :  4\n",
      "Kouign Amann :  3\n"
     ]
    }
   ],
   "source": [
    "def nb_ingredients(livre, recette):\n",
    "    total = 0\n",
    "#    ingredients = livre[recette] ## .get()\n",
    "    ingredients = livre.get(recette)\n",
    "    if ingredients is not None :\n",
    "        total = len(ingredients)\n",
    "    return total\n",
    "\n",
    "\n",
    "print(nb_ingredients(livre_recettes, 'Crêpes'))\n",
    "print(nb_ingredients(livre_recettes, 'Sabre Laser'))\n",
    "\n",
    "assert nb_ingredients(livre_recettes, 'Crêpes') == 3\n",
    "assert nb_ingredients(livre_recettes, 'Tiramisu') == 0\n",
    "\n",
    "for recette in livre_recettes:\n",
    "    print(recette, \": \", nb_ingredients(livre_recettes, recette))"
   ]
  },
  {
   "cell_type": "markdown",
   "metadata": {},
   "source": [
    "### Question 3\n",
    "Écrire la fonction `recette_avec` qui, étant donnés un livre de recettes et le\n",
    "nom d'un ingrédient, renvoie l'ensemble des recettes qui utilisent cet ingrédient."
   ]
  },
  {
   "cell_type": "code",
   "execution_count": 78,
   "metadata": {},
   "outputs": [
    {
     "name": "stdout",
     "output_type": "stream",
     "text": [
      "{'Gâteau au chocolat', 'Gâteau au yaourt', 'Crêpes', 'Quatre-quarts'}\n",
      "{'Gâteau au chocolat'}\n",
      "set()\n"
     ]
    }
   ],
   "source": [
    "def recette_avec(livre, ingredient):\n",
    "    recettes = set()\n",
    "    for recette, ingredients in livre.items():\n",
    "        if ingredient in ingredients:\n",
    "            recettes.add(recette)\n",
    "    return recettes\n",
    "\n",
    "recettes_avec = recette_avec\n",
    "\n",
    "print(recette_avec(livre_recettes, \"oeufs\"))\n",
    "print(recette_avec(livre_recettes, \"chocolat\"))\n",
    "print(recette_avec(livre_recettes, \"Sabre Laser\"))\n",
    "#print(livre_recettes)\n",
    "assert recette_avec(livre_recettes, 'oeufs') == {'Gâteau au chocolat', 'Gâteau au yaourt',\n",
    "                                                 'Crêpes', 'Quatre-quarts'}\n",
    "assert recette_avec(livre_recettes, 'café') == set()\n"
   ]
  },
  {
   "cell_type": "markdown",
   "metadata": {},
   "source": [
    "### Question 4\n",
    "Écrire la fonction `tous_ingredients` qui, étant donné un livre de recettes renvoie l'ensemble des ingrédients (sans doublons)."
   ]
  },
  {
   "cell_type": "code",
   "execution_count": 82,
   "metadata": {},
   "outputs": [
    {
     "name": "stdout",
     "output_type": "stream",
     "text": [
      "{'farine', 'sucre', 'beurre', 'yaourt', 'lait', 'chocolat', 'oeufs'}\n"
     ]
    },
    {
     "ename": "AssertionError",
     "evalue": "",
     "output_type": "error",
     "traceback": [
      "\u001b[1;31m---------------------------------------------------------------------------\u001b[0m",
      "\u001b[1;31mAssertionError\u001b[0m                            Traceback (most recent call last)",
      "\u001b[1;32m<ipython-input-82-3df3908c7fd2>\u001b[0m in \u001b[0;36m<module>\u001b[1;34m\u001b[0m\n\u001b[0;32m     11\u001b[0m \u001b[0mprint\u001b[0m\u001b[1;33m(\u001b[0m\u001b[0mtous_ingredients\u001b[0m\u001b[1;33m(\u001b[0m\u001b[0mlivre_recettes\u001b[0m\u001b[1;33m)\u001b[0m\u001b[1;33m)\u001b[0m\u001b[1;33m\u001b[0m\u001b[1;33m\u001b[0m\u001b[0m\n\u001b[0;32m     12\u001b[0m \u001b[1;32massert\u001b[0m \u001b[0mtous_ingredients\u001b[0m\u001b[1;33m(\u001b[0m\u001b[0mlivre_recettes\u001b[0m\u001b[1;33m)\u001b[0m \u001b[1;33m==\u001b[0m \u001b[1;33m{\u001b[0m\u001b[1;34m'farine'\u001b[0m\u001b[1;33m,\u001b[0m \u001b[1;34m'sucre'\u001b[0m\u001b[1;33m,\u001b[0m \u001b[1;34m'beurre'\u001b[0m\u001b[1;33m,\u001b[0m \u001b[1;34m'yaourt'\u001b[0m\u001b[1;33m,\u001b[0m \u001b[1;34m'lait'\u001b[0m\u001b[1;33m,\u001b[0m \u001b[1;34m'chocolat'\u001b[0m\u001b[1;33m,\u001b[0m \u001b[1;34m'oeufs'\u001b[0m\u001b[1;33m}\u001b[0m\u001b[1;33m\u001b[0m\u001b[1;33m\u001b[0m\u001b[0m\n\u001b[1;32m---> 13\u001b[1;33m \u001b[1;32massert\u001b[0m \u001b[0mtous_ingredients\u001b[0m\u001b[1;33m(\u001b[0m\u001b[0mlivre_recettes\u001b[0m\u001b[1;33m)\u001b[0m \u001b[1;33m==\u001b[0m \u001b[1;33m{\u001b[0m\u001b[1;34m'beurre'\u001b[0m\u001b[1;33m,\u001b[0m \u001b[1;34m'farine'\u001b[0m\u001b[1;33m,\u001b[0m \u001b[1;34m'sucre'\u001b[0m\u001b[1;33m,\u001b[0m \u001b[1;34m'chocolat'\u001b[0m\u001b[1;33m,\u001b[0m \u001b[1;34m'yaourt'\u001b[0m\u001b[1;33m,\u001b[0m \u001b[1;34m'oeufs'\u001b[0m\u001b[1;33m}\u001b[0m\u001b[1;33m\u001b[0m\u001b[1;33m\u001b[0m\u001b[0m\n\u001b[0m",
      "\u001b[1;31mAssertionError\u001b[0m: "
     ]
    }
   ],
   "source": [
    "def tous_ingredients(livre):\n",
    "    rst = set()\n",
    "    #for recette, ingredients in livre.items():\n",
    "    #    for ingredient in livre[recette]:\n",
    "    #        rst.add(ingredient)\n",
    "    for ingredients in livre.values():\n",
    "        for ingredient in ingredients:\n",
    "            rst.add(ingredient)\n",
    "    return rst\n",
    "\n",
    "print(tous_ingredients(livre_recettes))\n",
    "assert tous_ingredients(livre_recettes) == {'farine', 'sucre', 'beurre', 'yaourt', 'lait', 'chocolat', 'oeufs'}\n",
    "assert tous_ingredients(livre_recettes) == {'beurre', 'farine', 'sucre', 'chocolat', 'yaourt', 'oeufs'}"
   ]
  },
  {
   "cell_type": "markdown",
   "metadata": {},
   "source": [
    "### Question 5\n",
    "Tout livre de recettes contient une table des ingrédients (index) permettant d'associer à chaque ingrédient l'ensemble des recettes qui l'utilisent. On peut représenter en Python une telle table par un dictionnaire dans lequel une clé est un ingrédient et la valeur associée est l'ensemble des recettes qui l’utilisent.\n",
    "Écrire la fonction `table_ingredients` qui, étant donné un livre de recettes, renvoie la table des ingrédients associée.\n",
    "\n",
    "Exemple :\n",
    "```python\n",
    "{\n",
    "    'chocolat': {'gâteau chocolat'},\n",
    "    'oeufs': {'crêpes', 'gâteau chocolat', 'gâteau yaourt', 'quatre-quarts'},\n",
    "    ...\n",
    "}\n",
    "```"
   ]
  },
  {
   "cell_type": "code",
   "execution_count": 30,
   "metadata": {},
   "outputs": [
    {
     "name": "stdout",
     "output_type": "stream",
     "text": [
      "{'farine': {'Quatre-quarts', 'Gâteau au yaourt', 'Gâteau au chocolat', 'Kouign Amann', 'Crêpes'}, 'chocolat': {'Gâteau au chocolat'}, 'oeufs': {'Gâteau au chocolat', 'Crêpes', 'Quatre-quarts', 'Gâteau au yaourt'}, 'yaourt': {'Gâteau au yaourt'}, 'lait': {'Crêpes'}, 'sucre': {'Gâteau au chocolat', 'Kouign Amann', 'Quatre-quarts', 'Gâteau au yaourt'}, 'beurre': {'Gâteau au chocolat', 'Quatre-quarts', 'Kouign Amann'}}\n",
      "{'farine': {'Crêpes', 'Quatre-quarts', 'Kouign Amann', 'Gâteau au chocolat', 'Gâteau au yaourt'}, 'chocolat': {'Gâteau au chocolat'}, 'oeufs': {'Gâteau au chocolat', 'Crêpes', 'Quatre-quarts', 'Gâteau au yaourt'}, 'sucre': {'Gâteau au chocolat', 'Kouign Amann', 'Quatre-quarts', 'Gâteau au yaourt'}, 'beurre': {'Gâteau au chocolat', 'Quatre-quarts', 'Kouign Amann'}, 'yaourt': {'Gâteau au yaourt'}, 'lait': {'Crêpes'}}\n"
     ]
    }
   ],
   "source": [
    "def table_ingredients(livre):\n",
    "    table = dict() # {}\n",
    "    # Onrécupère la liste de tout les ingrédients du livre de recettes\n",
    "    for ingredient in tous_ingredients(livre):\n",
    "        #print(\"INGREDIENT : \", ingredient)\n",
    "        # On récupère la liste des recettes contant l'ingrédient\n",
    "        for recettes in recettes_avec(livre, ingredient):\n",
    "            #print(\"RECETTES : \", recettes)\n",
    "            recettes_ingredients = {recettes}\n",
    "            # Si l'ingrédient n'est pas dans la table on l'ajoute\n",
    "            if ingredient not in table:\n",
    "                #print('Add -> ', ingredient)\n",
    "                table[ingredient] = recettes_ingredients\n",
    "            else:\n",
    "                #print('Update ~> ', ingredient, table[ingredient])\n",
    "                table[ingredient].update(recettes_ingredients)\n",
    "    #print(\"---------\")\n",
    "    return table\n",
    "\n",
    "def table_ingredients_cor(livre):\n",
    "    table = {}\n",
    "    for recette, ingredients in livre.items():\n",
    "        for ingredient in ingredients:\n",
    "            recettes_existantes = table.get(ingredient)\n",
    "            if recettes_existantes is None:\n",
    "                table[ingredient] = {recette}\n",
    "            else:\n",
    "                recettes_existantes.add(recette)\n",
    "    return table\n",
    "\n",
    "print(table_ingredients(livre_recettes))\n",
    "print(table_ingredients_cor(livre_recettes))"
   ]
  },
  {
   "cell_type": "markdown",
   "metadata": {},
   "source": [
    "\n",
    "### Question 6\n",
    "Écrire la fonction `ingredient_principal` qui, étant donné un livre de recettes, renvoie le nom de l'ingrédient utilisé par le plus grand nombre de recettes."
   ]
  },
  {
   "cell_type": "code",
   "execution_count": 31,
   "metadata": {},
   "outputs": [
    {
     "name": "stdout",
     "output_type": "stream",
     "text": [
      "farine\n"
     ]
    }
   ],
   "source": [
    "def ingredient_principal(livre):\n",
    "    max = 0\n",
    "    rsp = \"\"\n",
    "    for ingredient, recettes in table_ingredients(livre).items():\n",
    "        #print(ingredient, recettes)\n",
    "        if max < len(recettes):\n",
    "            max = len(recettes)\n",
    "            rsp = ingredient\n",
    "    return rsp\n",
    "\n",
    "print(ingredient_principal(livre_recettes))"
   ]
  },
  {
   "cell_type": "markdown",
   "metadata": {},
   "source": [
    "### Question 7\n",
    "Certaines personnes sont allergiques à certains ingrédients. On aimerait donc pouvoir ne\n",
    "conserver d'un livre de recettes que celles qui n'utilisent pas un ingrédient donné.\n",
    "\n",
    "Écrire la fonction `recettes_sans` qui, étant donné un livre de recettes et un ingrédient, renvoie un nouveau livre de recettes ne contenant que des recettes n'utilisant pas l’ingrédient."
   ]
  },
  {
   "cell_type": "code",
   "execution_count": 214,
   "metadata": {},
   "outputs": [
    {
     "name": "stdout",
     "output_type": "stream",
     "text": [
      "{'Kouign Amann': {'beurre', 'sucre', 'farine'}}\n"
     ]
    }
   ],
   "source": [
    "def recettes_sans(livre, ingredient):\n",
    "    rsp = dict(livre)\n",
    "    allergenes = recettes_avec(livre, ingredient)\n",
    "    for recette in livre:\n",
    "        if recette in allergenes:\n",
    "            rsp.pop(recette)\n",
    "    return rsp\n",
    "\n",
    "#print(recettes_sans(livre_recettes, 'chocolat'))\n",
    "print(recettes_sans(livre_recettes, 'oeufs'))\n",
    "#print(recettes_sans(livre_recettes, 'farine'))"
   ]
  },
  {
   "cell_type": "markdown",
   "metadata": {},
   "source": [
    "## TP : Gestion de bibliothèque\n",
    "\n",
    "Dans cet exercice, nous illustrons la manipulation des dictionnaires en travaillant sur une \"base de données\" de livres empruntables dans une bibliothèque.\n",
    "\n",
    "La base permet de rechercher rapidement un livre à partir de son titre (clé du dictionnaire). On\n",
    "obtient alors l'auteur du livre ainsi que le nombre d’exemplaire(s) empruntable(s) en stock.\n",
    "\n",
    "Par exemple :"
   ]
  },
  {
   "cell_type": "code",
   "execution_count": null,
   "metadata": {},
   "outputs": [],
   "source": []
  },
  {
   "cell_type": "markdown",
   "metadata": {},
   "source": [
    "L'auteur du livre *Notre-Dame de Paris* est *Victor Hugo* et il est disponible en *4* exemplaires.\n",
    "\n",
    "**Question** : quel est le *type* de variable des valeurs des clés du dictionnaire ?"
   ]
  },
  {
   "cell_type": "markdown",
   "metadata": {},
   "source": [
    "### Question 1\n",
    "\n",
    "Écrire la fonction `auteurs` qui, étant donnée une base de livres, retourne l'ensemble des auteurs de cette base."
   ]
  },
  {
   "cell_type": "code",
   "execution_count": null,
   "metadata": {},
   "outputs": [],
   "source": []
  },
  {
   "cell_type": "code",
   "execution_count": null,
   "metadata": {},
   "outputs": [],
   "source": []
  },
  {
   "cell_type": "markdown",
   "metadata": {},
   "source": [
    "### Question 2\n",
    "\n",
    "\n",
    "Écrire la fonction `nb_exemplaires_total` qui, étant donnée une base de livres, retourne le nombre total d'exemplaires disponibles."
   ]
  },
  {
   "cell_type": "code",
   "execution_count": null,
   "metadata": {},
   "outputs": [],
   "source": []
  },
  {
   "cell_type": "code",
   "execution_count": null,
   "metadata": {},
   "outputs": [],
   "source": []
  },
  {
   "cell_type": "markdown",
   "metadata": {},
   "source": [
    "### Question 3\n",
    "\n",
    "Écrire la fonction `est_disponible` qui, étant donnée une base de livres, un titre et un auteur, indique si le livre est disponible (la fonction renverra `True` ou `False`. Si le livre et l'auteur correspondant n'existent pas, la fonction renverra `None`."
   ]
  },
  {
   "cell_type": "code",
   "execution_count": null,
   "metadata": {},
   "outputs": [],
   "source": []
  },
  {
   "cell_type": "markdown",
   "metadata": {},
   "source": [
    "### Question 4\n",
    "\n",
    "Écrire la fonction `titres_empruntables` qui, étant donné unee base de livres, retourne l'ensemble des livres empruntables."
   ]
  },
  {
   "cell_type": "code",
   "execution_count": null,
   "metadata": {},
   "outputs": [],
   "source": []
  },
  {
   "cell_type": "markdown",
   "metadata": {},
   "source": [
    "### Question 5\n",
    "\n",
    "Écrire la fonction `titres_auteur` qui, étant donnés un nom d'auteur et une base de livres, retourne l'ensemble des titres de livres écrits par cet auteur."
   ]
  },
  {
   "cell_type": "code",
   "execution_count": 23,
   "metadata": {},
   "outputs": [
    {
     "name": "stdout",
     "output_type": "stream",
     "text": [
      "[[1, 2, 3], [4, 5, 6]]\n",
      "[1,2,3]\n"
     ]
    }
   ],
   "source": [
    "liste = list([[1,2,3], [4,5,6],])\n",
    "print(liste)\n",
    "\n",
    "class maliste(list):\n",
    "    def __str__(self):\n",
    "        return \"[1,2,3]\"\n",
    "        \n",
    "lst = maliste([[1,2,3], [4,5,6],])\n",
    "\n",
    "print(lst)\n"
   ]
  },
  {
   "cell_type": "code",
   "execution_count": 18,
   "metadata": {},
   "outputs": [
    {
     "name": "stdout",
     "output_type": "stream",
     "text": [
      "Waf !\n"
     ]
    }
   ],
   "source": [
    "class dog:\n",
    "    def __str__(self):\n",
    "        return \"Waf !\"\n",
    "    \n",
    "milord = dog()\n",
    "print(milord)"
   ]
  },
  {
   "cell_type": "code",
   "execution_count": null,
   "metadata": {},
   "outputs": [],
   "source": []
  },
  {
   "cell_type": "code",
   "execution_count": null,
   "metadata": {},
   "outputs": [],
   "source": []
  }
 ],
 "metadata": {
  "celltoolbar": "Tags",
  "jupytext": {
   "formats": "ipynb,md"
  },
  "kernelspec": {
   "display_name": "Python 3",
   "language": "python",
   "name": "python3"
  },
  "language_info": {
   "codemirror_mode": {
    "name": "ipython",
    "version": 3
   },
   "file_extension": ".py",
   "mimetype": "text/x-python",
   "name": "python",
   "nbconvert_exporter": "python",
   "pygments_lexer": "ipython3",
   "version": "3.8.3"
  }
 },
 "nbformat": 4,
 "nbformat_minor": 4
}
