{
 "cells": [
  {
   "cell_type": "markdown",
   "metadata": {},
   "source": [
    "# Manipulation de tableaux\n",
    "\n",
    "## 1 - Exercice : la moyenne\n",
    "\n",
    "Soit la liste `lst_temperatures = [12, 13, 14, 28]`, écrire un programme qui permet de calculer la moyenne de ces valeurs :\n",
    "\n",
    "- Avec une boucle `for`\n",
    "- Avec une boucle `while`"
   ]
  },
  {
   "cell_type": "code",
   "execution_count": 1,
   "metadata": {
    "slideshow": {
     "slide_type": "subslide"
    }
   },
   "outputs": [
    {
     "name": "stdout",
     "output_type": "stream",
     "text": [
      "16.75\n",
      "16.75\n"
     ]
    }
   ],
   "source": [
    "lst_temperatures = [12, 13, 14, 28]\n",
    "\n",
    "total = 0\n",
    "nb_values = 0\n",
    "for tmp in lst_temperatures :\n",
    "    total += tmp\n",
    "    nb_values += 1\n",
    "print(total / nb_values)\n",
    "\n",
    "total = 0\n",
    "nb_values = 0\n",
    "while nb_values < len(lst_temperatures):\n",
    "    total += lst_temperatures[nb_values]\n",
    "    nb_values += 1\n",
    "print(total / nb_values)"
   ]
  },
  {
   "cell_type": "markdown",
   "metadata": {},
   "source": [
    "## 2 - Exercice : les jours de la semaine\n",
    "\n",
    "Constituer une liste contenant le nom des sept jours de la semaine. À partir de cette liste comment peut-on récupérer :\n",
    "\n",
    "- Les 5 premiers jours de la semaine\n",
    "- Ceux du week-end\n",
    "- Uniquement le dernier élément\n",
    "- Tous les éléments sauf le dernier \n",
    "\n",
    "Indications :\n",
    "\n",
    "- Tester vos propositions\n",
    "- Quel est le type des éléments renvoyés ?"
   ]
  },
  {
   "cell_type": "code",
   "execution_count": 2,
   "metadata": {},
   "outputs": [
    {
     "name": "stdout",
     "output_type": "stream",
     "text": [
      "<class 'list'> ['Lundi', 'Mardi', 'Mercredi', 'Jeudi', 'Vendredi']\n",
      "<class 'list'> ['Samedi', 'Dimanche']\n",
      "<class 'str'> Dimanche\n",
      "<class 'list'> ['Lundi', 'Mardi', 'Mercredi', 'Jeudi', 'Vendredi', 'Samedi']\n"
     ]
    }
   ],
   "source": [
    "semaine = [\"Lundi\", \"Mardi\", \"Mercredi\", \"Jeudi\", \"Vendredi\", \"Samedi\", \"Dimanche\"]\n",
    "\n",
    "print(type(semaine[:5]), semaine[:5])\n",
    "print(type(semaine[-2:]), semaine[-2:])\n",
    "print(type(semaine[-1]), semaine[-1])\n",
    "print(type(semaine[:-1]), semaine[:-1])"
   ]
  },
  {
   "cell_type": "markdown",
   "metadata": {},
   "source": [
    "## 3 - Exercice : inversion de l'ordre d'une liste\n",
    "\n",
    "Soit une liste quelconque d'éléments, écrire un programme qui en inverse l'ordre.\n",
    "\n",
    "On utilisera une seule liste pour effectuer l'opération."
   ]
  },
  {
   "cell_type": "code",
   "execution_count": 3,
   "metadata": {},
   "outputs": [
    {
     "name": "stdout",
     "output_type": "stream",
     "text": [
      "['Dimanche', 'Samedi', 'Vendredi', 'Jeudi', 'Mercredi', 'Mardi', 'Lundi']\n"
     ]
    }
   ],
   "source": [
    "print(semaine[::-1])"
   ]
  },
  {
   "cell_type": "markdown",
   "metadata": {},
   "source": [
    "## 4 - Exercice : nombres pairs et impairs dans des listes\n",
    "\n",
    "On souhaite stocker dans deux listes différentes les nombres saisis par l'utilisateur selon s'il s'agit d'un nombre pair ou d'un nombre impair.\n",
    "\n",
    "Le programme se terminera lorsque l'utilisateur aura entré la valeur `-1`."
   ]
  },
  {
   "cell_type": "code",
   "execution_count": 41,
   "metadata": {
    "scrolled": true
   },
   "outputs": [
    {
     "name": "stdout",
     "output_type": "stream",
     "text": [
      "1\n",
      "2\n",
      "\"\n"
     ]
    },
    {
     "ename": "ValueError",
     "evalue": "invalid literal for int() with base 10: '\"'",
     "output_type": "error",
     "traceback": [
      "\u001b[1;31m---------------------------------------------------------------------------\u001b[0m",
      "\u001b[1;31mValueError\u001b[0m                                Traceback (most recent call last)",
      "\u001b[1;32m<ipython-input-41-561700a407bb>\u001b[0m in \u001b[0;36m<module>\u001b[1;34m\u001b[0m\n\u001b[0;32m      9\u001b[0m     \u001b[1;32melse\u001b[0m\u001b[1;33m:\u001b[0m\u001b[1;33m\u001b[0m\u001b[1;33m\u001b[0m\u001b[0m\n\u001b[0;32m     10\u001b[0m         \u001b[0mimpair\u001b[0m\u001b[1;33m[\u001b[0m\u001b[1;33m-\u001b[0m\u001b[1;36m1\u001b[0m\u001b[1;33m:\u001b[0m\u001b[1;33m-\u001b[0m\u001b[1;36m1\u001b[0m\u001b[1;33m]\u001b[0m \u001b[1;33m=\u001b[0m \u001b[1;33m[\u001b[0m\u001b[0msaisie\u001b[0m\u001b[1;33m]\u001b[0m\u001b[1;33m\u001b[0m\u001b[1;33m\u001b[0m\u001b[0m\n\u001b[1;32m---> 11\u001b[1;33m     \u001b[0msaisie\u001b[0m \u001b[1;33m=\u001b[0m \u001b[0mint\u001b[0m\u001b[1;33m(\u001b[0m\u001b[0minput\u001b[0m\u001b[1;33m(\u001b[0m\u001b[1;33m)\u001b[0m\u001b[1;33m)\u001b[0m\u001b[1;33m\u001b[0m\u001b[1;33m\u001b[0m\u001b[0m\n\u001b[0m\u001b[0;32m     12\u001b[0m \u001b[0mprint\u001b[0m\u001b[1;33m(\u001b[0m\u001b[0mpair\u001b[0m\u001b[1;33m)\u001b[0m\u001b[1;33m\u001b[0m\u001b[1;33m\u001b[0m\u001b[0m\n\u001b[0;32m     13\u001b[0m \u001b[0mprint\u001b[0m\u001b[1;33m(\u001b[0m\u001b[0mimpair\u001b[0m\u001b[1;33m)\u001b[0m\u001b[1;33m\u001b[0m\u001b[1;33m\u001b[0m\u001b[0m\n",
      "\u001b[1;31mValueError\u001b[0m: invalid literal for int() with base 10: '\"'"
     ]
    }
   ],
   "source": [
    "pair = list()\n",
    "impair = list()\n",
    "\n",
    "saisie = int(input())\n",
    "\n",
    "while saisie != -1:\n",
    "    if saisie %2 == 0:\n",
    "        pair[-1:-1] = [saisie]\n",
    "    else:\n",
    "        impair[-1:-1] = [saisie]\n",
    "    saisie = int(input())\n",
    "print(pair)\n",
    "print(impair)"
   ]
  },
  {
   "cell_type": "markdown",
   "metadata": {},
   "source": [
    "Le programme ci-dessus fonctionne, mais il ne gère pas les erreurs de saisie.\n",
    "\n",
    "En effet si l'utilisateur ne saisit pas un nombre, le programme s'interrompt brutalement (erreur Python).\n",
    "En Python, on peut contrôler si une valeur est numérique avec la **méthode** `isnumeric()` qui s'applique (uniquement) sur une chaîne de caractères et qui renvoie `True` ou `False`.\n",
    "\n",
    "Exemples :\n",
    "\n",
    "```python\n",
    "valeur = \"1\"\n",
    "valeur.isnumeric()  # True\n",
    "valeur = \"a\"\n",
    "valeur.isnumeric()  # False\n",
    "valeur = \"-1\"\n",
    "valeur.isnumeric()  # False\n",
    "valeur = 1\n",
    "valeur.isnumeric()  # Erreur !\n",
    "```\n",
    "\n",
    "En utilisant `isnumeric()`, modifier le programme ci-dessus afin d'afficher un message d'erreur à l'utilisateur s'il saisit une valeur non numérique."
   ]
  },
  {
   "cell_type": "code",
   "execution_count": 49,
   "metadata": {},
   "outputs": [
    {
     "name": "stdout",
     "output_type": "stream",
     "text": [
      "1\n",
      "1\n",
      "2\n",
      "3\n",
      "az\n",
      "La valeur az n'est pas une valeur numérique\n",
      "12\n",
      "-1\n",
      "[12, 2]\n",
      "[3, 1]\n"
     ]
    }
   ],
   "source": [
    "def saisir():\n",
    "    saisie = input()\n",
    "    if saisie.isnumeric():\n",
    "        saisie = int(saisie)\n",
    "    elif saisie == \"-1\":\n",
    "        saisie = -1\n",
    "    else:\n",
    "        print(\"La valeur \" + saisie + \" n'est pas une valeur numérique\")\n",
    "        return(saisir())\n",
    "    return saisie\n",
    "\n",
    "pair = list()\n",
    "impair = list()\n",
    "\n",
    "nombre = saisir()\n",
    "\n",
    "print(nombre)\n",
    "\n",
    "while nombre != -1:\n",
    "    if nombre %2 == 0:\n",
    "        pair[-1:-1] = [nombre]\n",
    "    else:\n",
    "        impair[-1:-1] = [nombre]\n",
    "    nombre = saisir()\n",
    "\n",
    "print(pair)\n",
    "print(impair)"
   ]
  },
  {
   "cell_type": "markdown",
   "metadata": {},
   "source": [
    "## 5 - Exercice : des étoiles\n",
    "\n",
    "Ecrire un programme qui permet d'afficher un \"graphique\" de ce type :\n",
    "```\n",
    "*\n",
    "**\n",
    "***\n",
    "****\n",
    "*****\n",
    "```\n",
    "\n",
    "- Le nombre d'étoiles sera défini au préalable dans une variable.\n",
    "- Faire une version avec une boucle `for` et une version avec avec une boucle `while`."
   ]
  },
  {
   "cell_type": "code",
   "execution_count": 54,
   "metadata": {},
   "outputs": [
    {
     "name": "stdout",
     "output_type": "stream",
     "text": [
      "\n",
      "*\n",
      "**\n",
      "***\n",
      "****\n",
      "*****\n",
      "\n",
      "*\n",
      "**\n",
      "***\n",
      "****\n",
      "*****\n"
     ]
    }
   ],
   "source": [
    "nb_etoiles = 6\n",
    "\n",
    "for star in range(nb_etoiles):\n",
    "    print(\"*\" * star)\n",
    "\n",
    "star = 0\n",
    "while star < nb_etoiles:\n",
    "    print(\"*\" * star)\n",
    "    star += 1"
   ]
  },
  {
   "cell_type": "markdown",
   "metadata": {},
   "source": [
    "## 6 - Exercice : copie de listes\n",
    "\n",
    "Etant données deux listes, on souhaite copier la première dans la deuxième et ainsi pouvoir modifier une valeur dans la deuxième liste sans que cela ne modifie la première.\n",
    "\n",
    "- `lst1 = [1, 2, 3]`.\n",
    "- On copie `lst1` dans `lst2`.\n",
    "- On modifie le premier élément de `lst2` en mettant la valeur `4`.\n",
    "- On doit obtenir :\n",
    "  - `lst1` : `[1, 2, 3]` (inchangée)\n",
    "  - `lst2` : `[4, 2, 3]`\n",
    "\n",
    "Le programme suivant a été écrit :\n",
    "\n",
    "```python\n",
    "lst1 = [1, 2, 3]\n",
    "lst2 = lst1\n",
    "lst2[0] = 4\n",
    "print(lst2)\n",
    "print(lst1)\n",
    "```\n",
    "- Que remarquez-vous ?\n"
   ]
  },
  {
   "cell_type": "code",
   "execution_count": 12,
   "metadata": {},
   "outputs": [
    {
     "name": "stdout",
     "output_type": "stream",
     "text": [
      "[4, 2, 3]\n",
      "[4, 2, 3]\n"
     ]
    }
   ],
   "source": [
    "lst1 = [1, 2, 3]\n",
    "lst2 = lst1\n",
    "lst2[0] = 4\n",
    "print(lst2)\n",
    "print(lst1)\n",
    "### Les deux listes ont été modifiées"
   ]
  },
  {
   "cell_type": "markdown",
   "metadata": {},
   "source": [
    "- Modifiez le pour qu'il réponde au problème posé."
   ]
  },
  {
   "cell_type": "code",
   "execution_count": 61,
   "metadata": {},
   "outputs": [
    {
     "name": "stdout",
     "output_type": "stream",
     "text": [
      "[1, 2, 3]\n",
      "[4, 2, 3]\n"
     ]
    }
   ],
   "source": [
    "lst1 = [1, 2, 3]\n",
    "lst2 = list(lst1)\n",
    "lst2[0] = 4\n",
    "print(lst1)\n",
    "print(lst2)\n"
   ]
  },
  {
   "cell_type": "markdown",
   "metadata": {},
   "source": [
    "## 7 - Exercice : le jeu du + ou du -\n",
    "\n",
    "L'ordinateur choisit un nombre au hasard entre 1 et 100 et l'utilisateur doit deviner ce nombre mystère en respectant la règle suivante :\n",
    "\n",
    "- Version 1\n",
    "  - L'utilisateur propose un nombre.\n",
    "  - Le programme lui dit s'il est trop petit ou trop grand.\n",
    "  - Et ainsi de suite tant que l'utilisateur n'a pas trouvé le nombre mystère.\n",
    "- Version 2\n",
    "  - Ajouter une gestion d'erreur si l'utilisateur ne rentre pas un nombre entre 1 et 100 ou s'il rentre autre chose qu'un nombre.\n",
    "- Version 3\n",
    "  - Indiquer à l'utilisateur en combien de coups il a trouvé le nombre mystère."
   ]
  },
  {
   "cell_type": "code",
   "execution_count": 71,
   "metadata": {
    "scrolled": true
   },
   "outputs": [
    {
     "name": "stdout",
     "output_type": "stream",
     "text": [
      "Trouvez un nombre compris entre 1 et 100 :50\n",
      "Trop petit !\n",
      "Trouvez un nombre compris entre 1 et 100 :75\n",
      "Trop petit !\n",
      "Trouvez un nombre compris entre 1 et 100 :83\n",
      "Trop petit !\n",
      "Trouvez un nombre compris entre 1 et 100 :90\n",
      "Trop grand !\n",
      "Trouvez un nombre compris entre 1 et 100 :86\n",
      "Trop petit !\n",
      "Trouvez un nombre compris entre 1 et 100 :88\n",
      "Bravo !\n",
      "Trouvé en 6 coups.\n"
     ]
    }
   ],
   "source": [
    "from random import randint\n",
    "\n",
    "# Valeur minimale à trouver\n",
    "min = 1\n",
    "# Valeur maximale à trouver\n",
    "max = 100\n",
    "\n",
    "# Une valeur au hasard\n",
    "cible = randint(min, max)\n",
    "# Nombre de coups joués\n",
    "coups = 0\n",
    "# Proposition du joueur\n",
    "proposition = 0\n",
    "\n",
    "while proposition != cible:\n",
    "    # On saisie un essai et on incrémente le nombre de coups joués\n",
    "    proposition = input(f'Trouvez un nombre compris entre {min} et {max} :')\n",
    "    coups += 1\n",
    "    \n",
    "    # On vérifie que la valeur saisie est un nombre\n",
    "    if not proposition.isnumeric():\n",
    "        print(str(proposition) + \" n'est pas un nombre !\")\n",
    "        continue\n",
    "    else:\n",
    "        proposition = int(proposition)\n",
    "    \n",
    "    # On regarde si on a la solution\n",
    "    if proposition == cible:\n",
    "        print(\"Bravo !\")\n",
    "        break\n",
    "    elif proposition < cible:\n",
    "        print(f\"Trop petit !\")\n",
    "    elif proposition > cible:\n",
    "        print(\"Trop grand !\")\n",
    "    else:\n",
    "        print(f\"le nombre {proposition} n'est pas entre {min} et {max}...\")\n",
    "print(f\"Trouvé en {coups} coups.\")"
   ]
  },
  {
   "cell_type": "markdown",
   "metadata": {},
   "source": [
    "## 8 - Exercice : des étoiles (avec fonction)\n",
    "\n",
    "Reprendre [l'exercice sur les étoiles](#exercice-des-etoiles), mais en l'intégrant dans une fonction `affiche_etoiles` qui prend en paramètres le nombre d'étoiles."
   ]
  },
  {
   "cell_type": "code",
   "execution_count": 72,
   "metadata": {},
   "outputs": [
    {
     "name": "stdout",
     "output_type": "stream",
     "text": [
      "\n",
      "*\n",
      "**\n",
      "***\n",
      "****\n",
      "*****\n"
     ]
    }
   ],
   "source": [
    "def affiche_etoiles(nb_etoiles):\n",
    "    for star in range(nb_etoiles):\n",
    "        print(\"*\" * star)\n",
    "\n",
    "affiche_etoiles(6)\n"
   ]
  },
  {
   "cell_type": "markdown",
   "metadata": {},
   "source": [
    "## 9 - Exercice : `print` ou `return` ?\n",
    "\n",
    "### Version 1\n",
    "\n",
    "Dans un programme principal, on a écrit la commande suivante : `print(function1(5))`.\n",
    "\n",
    "Écrire la fonction `function1` de telle sorte que l'exécution de la commande précédente affiche comme résultat **6** dans l'interpréteur Python.\n",
    "\n",
    "### Version 2\n",
    "\n",
    "Dans un programme principal, on a écrit la commande suivante : `function2(5)`.\n",
    "\n",
    "Écrire la fonction `function2` de telle sorte que l’exécution de la commande précédente affiche comme résultat **6** dans l’interpréteur Python."
   ]
  },
  {
   "cell_type": "code",
   "execution_count": 74,
   "metadata": {},
   "outputs": [
    {
     "name": "stdout",
     "output_type": "stream",
     "text": [
      "6\n",
      "6\n"
     ]
    }
   ],
   "source": [
    "def function1(nb):\n",
    "    return(6)\n",
    "\n",
    "def function2(nb):\n",
    "    print(function1(nb))\n",
    "    \n",
    "print(function1(5))\n",
    "function2(5)"
   ]
  },
  {
   "cell_type": "markdown",
   "metadata": {},
   "source": [
    "## 10 - Exercice : fonction du maximum\n",
    "\n",
    "Ecrire une fonction `mon_maximum` qui prend en entrée une liste de valeurs et qui renvoie le maximum ainsi que son indice dans la liste."
   ]
  },
  {
   "cell_type": "code",
   "execution_count": 80,
   "metadata": {},
   "outputs": [
    {
     "name": "stdout",
     "output_type": "stream",
     "text": [
      "[6, 5]\n",
      "[6, 0]\n",
      "[6, 3]\n"
     ]
    }
   ],
   "source": [
    "def mon_maximum(lst):\n",
    "    max = -1\n",
    "    indice = -1\n",
    "    for i, l in enumerate(lst):\n",
    "        if l > max:\n",
    "            max = l\n",
    "            indice = i\n",
    "    return [max, indice]\n",
    "\n",
    "liste = [1,2,3,4,5,6]\n",
    "\n",
    "result = mon_maximum(liste)\n",
    "print(result)\n",
    "\n",
    "liste = liste[::-1]\n",
    "result = mon_maximum(liste)\n",
    "print(result)\n",
    "\n",
    "liste = [3,2,1,6,5,6]\n",
    "result = mon_maximum(liste)\n",
    "print(result)"
   ]
  },
  {
   "cell_type": "markdown",
   "metadata": {
    "lines_to_next_cell": 2
   },
   "source": [
    "## 11 - Exercice : que fait ce programme (1) ?\n",
    "\n",
    "**Sans écrire** ce programme indiquez ce que produit le programme suivant à l'écran :\n",
    "\n",
    "```python\n",
    "def compute1(a, b):\n",
    "    add1 = a + b\n",
    "    return add1\n",
    "\n",
    "def compute2(a, b):\n",
    "    add2 = a + b\n",
    "\n",
    "res1 = compute1(4, 5)\n",
    "print(res1)\n",
    "\n",
    "res2 = compute2(5, 6)\n",
    "print(res2)\n",
    "\n",
    "print(add2)\n",
    "```"
   ]
  },
  {
   "cell_type": "markdown",
   "metadata": {},
   "source": [
    "    9\n",
    "    \n",
    "    Une erreur pour `print(add2) qui n'existe que dans le scope de la fonction `compute2`\n",
    "\n",
    "\n",
    "\n",
    "## 12 - Exercice : la balance\n",
    "\n",
    "Ecrire un programme qui en fonction du poids d'un coli, nous donne le prix de l'envoi.\n",
    "\n",
    "- Ecrire une fonction `lit_poids` qui renvoie le poids du coli (dans notre cas on simulera la pesée en demandant le poids à l'utilisateur).\n",
    "- Ecrire une fonction `donne_prix` qui renvoie le prix du coli en fonction de son poids :\n",
    "  - poids inférieur à 100 g : 2 €\n",
    "  - poids compris entre 100 et 500 g : 5 €\n",
    "  - poids compris entre 500 et 1000 g : 10 €\n",
    "  - poids compris entre 1000 et 30000 g : 30 €\n",
    "\n",
    "- Au-delà de 30 kg, on indiquera une erreur à l'utilisateur. Ce n'est pas la fonction `donne_prix` qui effectuera l'affichage de l'erreur, mais le programme principal."
   ]
  },
  {
   "cell_type": "code",
   "execution_count": 97,
   "metadata": {},
   "outputs": [
    {
     "name": "stdout",
     "output_type": "stream",
     "text": [
      "Quel est le poids du coli (en grammes) ?30001\n",
      "Erreur : 30001 n'est pas compris entre 1g et 3Kg !\n"
     ]
    }
   ],
   "source": [
    "def lit_poids():\n",
    "    p = input(\"Quel est le poids du coli (en grammes) ?\")\n",
    "    if not p.isnumeric():\n",
    "        print(str(p) + \" n'est pas un nombre\")\n",
    "        p = 0\n",
    "    else:\n",
    "        p = int(p)\n",
    "    return p\n",
    "\n",
    "def donne_prix(masse):\n",
    "    p = 0\n",
    "    if masse <= 0:\n",
    "        p = 0\n",
    "    elif masse < 100:\n",
    "        p = 2\n",
    "    elif masse < 500:\n",
    "        p = 5\n",
    "    elif masse < 1000:\n",
    "        p = 10\n",
    "    elif masse <= 30000:\n",
    "        p = 30\n",
    "    else:\n",
    "        p = -1            \n",
    "    return p\n",
    "\n",
    "saisie = lit_poids()\n",
    "prix = donne_prix(saisie)\n",
    "\n",
    "if prix <= 0:\n",
    "    print(f\"Erreur : {saisie} n'est pas compris entre 1g et 3Kg !\")\n",
    "else:\n",
    "    print(f\"Prix à payer : {prix} €.\")"
   ]
  },
  {
   "cell_type": "markdown",
   "metadata": {},
   "source": [
    "## 13 - Exercice : le palindrome\n",
    "\n",
    "Le palindrome est une figure de style désignant un texte ou un mot dont l'ordre des lettres reste le même qu'on le lise de gauche à droite ou de droite à gauche (plus d'informations sur [Wikipédia](https://fr.wikipedia.org/wiki/Palindrome)). Exemples de mots : \"ici\", \"kayak\", \"Laval\", ...\n",
    "\n",
    "Ecrire une fonction `est_palindrome` qui prend en paramètre une chaîne de caractères et qui renvoie `True` ou `False`.\n",
    "\n",
    "- Faire un jeu de tests dans le programme principal avec une liste de mots.\n",
    "- Penser à ignorer les majuscules / minuscules."
   ]
  },
  {
   "cell_type": "code",
   "execution_count": 105,
   "metadata": {},
   "outputs": [
    {
     "name": "stdout",
     "output_type": "stream",
     "text": [
      "Palindrome : False\n",
      "ici : True\n",
      "là : False\n",
      "12345 : False\n",
      "kayak : True\n",
      "12321 : True\n",
      "Laval : True\n",
      "12345 : False\n",
      "12321 : True\n"
     ]
    }
   ],
   "source": [
    "def est_palindrome(mot):\n",
    "    '''\n",
    "    >>> \"Palindrome\"\n",
    "    False\n",
    "    >>> \"kayak\"\n",
    "    True\n",
    "    >>> \"Laval\"\n",
    "    True\n",
    "    '''\n",
    "    endroit = str(mot).lower()\n",
    "    envers = endroit[::-1]\n",
    "    return endroit == envers\n",
    "\n",
    "tests = [\"Palindrome\", \"ici\", \"là\", \"12345\", \"kayak\", \"12321\", \"Laval\", 12345, 12321]\n",
    "for m in tests:\n",
    "    print(f\"{m} : {est_palindrome(m)}\")\n",
    "\n"
   ]
  },
  {
   "cell_type": "markdown",
   "metadata": {},
   "source": [
    "## 14 - Exercice : tri de mots\n",
    "\n",
    "Soit la chaîne de cararactères contenant les mots suivants : \"python physique maths anglais\".\n",
    "\n",
    "Ecrire une fonction `tri_mots` qui prend en paramètre une chaîne contenant des mots dans un ordre quelconque et qui retourne une chaîne avec des mots triés par ordre alphabétique."
   ]
  },
  {
   "cell_type": "code",
   "execution_count": 126,
   "metadata": {},
   "outputs": [
    {
     "name": "stdout",
     "output_type": "stream",
     "text": [
      "['anglais', 'maths', 'physique', 'python']\n"
     ]
    }
   ],
   "source": [
    "tests = \"python physique maths anglais\"\n",
    "\n",
    "def tri_mots(chaine):\n",
    "    '''\n",
    "    >>> \"python physique maths anglais\"\n",
    "    ['anglais', 'maths', 'physique', 'python']\n",
    "    '''\n",
    "    liste = []\n",
    "    nb_mots = chaine.count(\" \")\n",
    "    #print(nb_mots)\n",
    "    # indices de début et fin de chaque chaîne à extraire\n",
    "    i_deb = 0\n",
    "    i_fin = len(chaine)\n",
    "    \n",
    "    for indice in range(nb_mots):\n",
    "    #    while i_deb < i_fin :\n",
    "        # indices de début et fin de la chaîne à extraire\n",
    "        min = i_deb\n",
    "        max = chaine.find(\" \", min)\n",
    "        #print(f\"[{min}:{max}]\")\n",
    "        liste.append(str(chaine[min : max]))\n",
    "        # la chaine suivante commence après le prochain espace\n",
    "        i_deb = max + 1\n",
    "    # On ajoute le dernier mot (qui ne fini pas par un espace)\n",
    "    liste.append(chaine[i_deb:i_fin])\n",
    "    \n",
    "    # On trie la liste par ordre alphabéthique\n",
    "    liste.sort()\n",
    "    \n",
    "    return liste\n",
    "\n",
    "\n",
    "print(tri_mots(tests))"
   ]
  },
  {
   "cell_type": "markdown",
   "metadata": {},
   "source": [
    "## 15 - Introduction aux tests unitaires : l'instruction `assert`\n",
    "\n",
    "Un des principaux problèmes de la programmation informatique est la détection de dysfonctionnements (bugs). Pour pallier à cela, on peut écrire des tests qui \"garantissent\" que le programme fonctionne conformément à nos attentes et qu'il fonctionne toujours même après si des modifications ont été apportées (par exemple des améliorations).\n",
    "\n",
    "Pour effectuer ces vérifications, on peut insérer des `print`.\n",
    "Cependant cela requiert que le programmeur vérifie à l'écran ce qui se passe, ce qui n'est ni commode ni très fiable.\n",
    "\n",
    "Une alternative (rudimentaire) est d'utiliser l'instruction `assert <condition_booléenne>`.\n",
    "Si la condition boolénne est fausse, le programme s'interrompera en provoquant une erreur.\n",
    "\n",
    "Exemple :\n",
    "```python\n",
    "a, b, c = True, False, True\n",
    "assert a  # Ok\n",
    "assert b  # Erreur et interruption du programme\n",
    "assert c  # Jamais exécutée car le programme a été interrompu\n",
    "```\n",
    "\n",
    "Autre exemple :\n",
    "```python\n",
    "mot = \"bonjour\"\n",
    "assert len(mot) == 7  # Ok\n",
    "```"
   ]
  },
  {
   "cell_type": "markdown",
   "metadata": {},
   "source": [
    "## 16 - Exercice : assert avec le palindrome\n",
    "\n",
    "Reprendre [l'exercice sur le palindrome](#exercice-le-palindrome) et dans le programme principal, utiliser l'instruction `assert` pour valider le bon résultat de la fonction `est_palindrome`.\n",
    "\n",
    "- Faire une version avec des listes\n",
    "- Faire une version avec des dictionnaires"
   ]
  },
  {
   "cell_type": "code",
   "execution_count": 158,
   "metadata": {},
   "outputs": [
    {
     "name": "stdout",
     "output_type": "stream",
     "text": [
      "Palindrome : False\n",
      "ici : True\n",
      "là : False\n",
      "12345 : False\n",
      "kayak : True\n",
      "12321 : True\n",
      "Laval : True\n",
      "12345 : False\n",
      "12321 : True\n",
      "Palindrome : False\n",
      "ici : True\n",
      "là : False\n",
      "12345 : False\n",
      "kayak : True\n"
     ]
    },
    {
     "ename": "AssertionError",
     "evalue": "Erreur : 'kayak' : False != True",
     "output_type": "error",
     "traceback": [
      "\u001b[1;31m---------------------------------------------------------------------------\u001b[0m",
      "\u001b[1;31mAssertionError\u001b[0m                            Traceback (most recent call last)",
      "\u001b[1;32m<ipython-input-158-1b30586b788b>\u001b[0m in \u001b[0;36m<module>\u001b[1;34m\u001b[0m\n\u001b[0;32m     45\u001b[0m     \u001b[0mpal\u001b[0m \u001b[1;33m=\u001b[0m \u001b[0mest_palindrome\u001b[0m\u001b[1;33m(\u001b[0m\u001b[0mmot\u001b[0m\u001b[1;33m)\u001b[0m\u001b[1;33m\u001b[0m\u001b[1;33m\u001b[0m\u001b[0m\n\u001b[0;32m     46\u001b[0m     \u001b[0mprint\u001b[0m\u001b[1;33m(\u001b[0m\u001b[1;34mf\"{mot} : {pal}\"\u001b[0m\u001b[1;33m)\u001b[0m\u001b[1;33m\u001b[0m\u001b[1;33m\u001b[0m\u001b[0m\n\u001b[1;32m---> 47\u001b[1;33m     \u001b[1;32massert\u001b[0m \u001b[0mverif\u001b[0m \u001b[1;33m==\u001b[0m \u001b[0mpal\u001b[0m\u001b[1;33m,\u001b[0m \u001b[1;34mf\"Erreur : '{mot}' : {verif} != {pal}\"\u001b[0m\u001b[1;33m\u001b[0m\u001b[1;33m\u001b[0m\u001b[0m\n\u001b[0m",
      "\u001b[1;31mAssertionError\u001b[0m: Erreur : 'kayak' : False != True"
     ]
    }
   ],
   "source": [
    "def est_palindrome(mot):\n",
    "    '''\n",
    "    >>> \"Palindrome\"\n",
    "    False\n",
    "    >>> \"kayak\"\n",
    "    True\n",
    "    >>> \"Laval\"\n",
    "    True\n",
    "    '''\n",
    "    endroit = str(mot).lower()\n",
    "    envers = endroit[::-1]\n",
    "    return endroit == envers\n",
    "\n",
    "'''\n",
    "Avec une liste\n",
    "''' \n",
    "tests = [\"Palindrome\", \"ici\", \"là\", \"12345\", \"kayak\", \"12321\", \"Laval\", 12345, 12321]\n",
    "verif = [False, True, False, False, True, True, True, False, True]\n",
    "# Test cassant l'assertion (kayak)\n",
    "#verif = [False, True, False, False, False, True, True, False, True]\n",
    "\n",
    "for indice, m in enumerate(tests):\n",
    "    pal = est_palindrome(m)\n",
    "    print(f\"{m} : {pal}\")\n",
    "    assert verif[indice] == pal\n",
    "\n",
    "'''\n",
    "Avec un dictionnaire\n",
    "'''\n",
    "dico = {\n",
    "    'Palindrome': False,\n",
    "    'ici': True,\n",
    "    'là': False,\n",
    "    '12345': False,\n",
    "    'kayak': True,\n",
    "    '12321': True,\n",
    "    'Laval': True,\n",
    "    12345: False,\n",
    "    12321: True,\n",
    "}\n",
    "# Test cassant l'assertion (kayak)\n",
    "dico = {'Palindrome': False, 'ici': True, 'là': False, '12345': False, 'kayak': False, '12321': True, 'Laval': True, 12345: False, 12321: True}\n",
    "\n",
    "for mot, verif in dico.items():\n",
    "    pal = est_palindrome(mot)\n",
    "    print(f\"{mot} : {pal}\")\n",
    "    assert verif == pal, f\"Erreur : '{mot}' : {verif} != {pal}\"\n"
   ]
  }
 ],
 "metadata": {
  "celltoolbar": "Tags",
  "jupytext": {
   "formats": "ipynb,md"
  },
  "kernelspec": {
   "display_name": "Python 3",
   "language": "python",
   "name": "python3"
  },
  "language_info": {
   "codemirror_mode": {
    "name": "ipython",
    "version": 3
   },
   "file_extension": ".py",
   "mimetype": "text/x-python",
   "name": "python",
   "nbconvert_exporter": "python",
   "pygments_lexer": "ipython3",
   "version": "3.8.3"
  }
 },
 "nbformat": 4,
 "nbformat_minor": 2
}
