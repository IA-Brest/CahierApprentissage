{
 "cells": [
  {
   "cell_type": "markdown",
   "metadata": {},
   "source": [
    "# Arbres décisionnels\n",
    "\n",
    "Apprentissage supervisé - Regression, DecisionTreeRegressor\n",
    "\n",
    "## Préparation des données\n",
    "\n",
    "### Téléchargement de données\n",
    "Téléchargez le jeu de données housing.csv.\n",
    "Placez le dans le même répertoire de votre fichier (Python ou Notebook).\n"
   ]
  },
  {
   "cell_type": "markdown",
   "metadata": {},
   "source": [
    "### Information sur les données\n",
    "1. Créez un code qui lit le fichier \"housing.csv\"\n",
    "et affiche ses premières lignes.\n",
    "Pour ce faire, utilisez les fonctions \"read_csv\" et \"head\" de la bibliothèque pandas.\n"
   ]
  },
  {
   "cell_type": "code",
   "execution_count": 361,
   "metadata": {},
   "outputs": [
    {
     "data": {
      "text/html": [
       "<div>\n",
       "<style scoped>\n",
       "    .dataframe tbody tr th:only-of-type {\n",
       "        vertical-align: middle;\n",
       "    }\n",
       "\n",
       "    .dataframe tbody tr th {\n",
       "        vertical-align: top;\n",
       "    }\n",
       "\n",
       "    .dataframe thead th {\n",
       "        text-align: right;\n",
       "    }\n",
       "</style>\n",
       "<table border=\"1\" class=\"dataframe\">\n",
       "  <thead>\n",
       "    <tr style=\"text-align: right;\">\n",
       "      <th></th>\n",
       "      <th>longitude</th>\n",
       "      <th>latitude</th>\n",
       "      <th>housing_median_age</th>\n",
       "      <th>total_rooms</th>\n",
       "      <th>total_bedrooms</th>\n",
       "      <th>population</th>\n",
       "      <th>households</th>\n",
       "      <th>median_income</th>\n",
       "      <th>median_house_value</th>\n",
       "      <th>ocean_proximity</th>\n",
       "    </tr>\n",
       "  </thead>\n",
       "  <tbody>\n",
       "    <tr>\n",
       "      <th>0</th>\n",
       "      <td>-122.23</td>\n",
       "      <td>37.88</td>\n",
       "      <td>41.0</td>\n",
       "      <td>880.0</td>\n",
       "      <td>129.0</td>\n",
       "      <td>322.0</td>\n",
       "      <td>126.0</td>\n",
       "      <td>8.3252</td>\n",
       "      <td>452600.0</td>\n",
       "      <td>NEAR BAY</td>\n",
       "    </tr>\n",
       "    <tr>\n",
       "      <th>1</th>\n",
       "      <td>-122.22</td>\n",
       "      <td>37.86</td>\n",
       "      <td>21.0</td>\n",
       "      <td>7099.0</td>\n",
       "      <td>1106.0</td>\n",
       "      <td>2401.0</td>\n",
       "      <td>1138.0</td>\n",
       "      <td>8.3014</td>\n",
       "      <td>358500.0</td>\n",
       "      <td>NEAR BAY</td>\n",
       "    </tr>\n",
       "    <tr>\n",
       "      <th>2</th>\n",
       "      <td>-122.24</td>\n",
       "      <td>37.85</td>\n",
       "      <td>52.0</td>\n",
       "      <td>1467.0</td>\n",
       "      <td>190.0</td>\n",
       "      <td>496.0</td>\n",
       "      <td>177.0</td>\n",
       "      <td>7.2574</td>\n",
       "      <td>352100.0</td>\n",
       "      <td>NEAR BAY</td>\n",
       "    </tr>\n",
       "    <tr>\n",
       "      <th>3</th>\n",
       "      <td>-122.25</td>\n",
       "      <td>37.85</td>\n",
       "      <td>52.0</td>\n",
       "      <td>1274.0</td>\n",
       "      <td>235.0</td>\n",
       "      <td>558.0</td>\n",
       "      <td>219.0</td>\n",
       "      <td>5.6431</td>\n",
       "      <td>341300.0</td>\n",
       "      <td>NEAR BAY</td>\n",
       "    </tr>\n",
       "    <tr>\n",
       "      <th>4</th>\n",
       "      <td>-122.25</td>\n",
       "      <td>37.85</td>\n",
       "      <td>52.0</td>\n",
       "      <td>1627.0</td>\n",
       "      <td>280.0</td>\n",
       "      <td>565.0</td>\n",
       "      <td>259.0</td>\n",
       "      <td>3.8462</td>\n",
       "      <td>342200.0</td>\n",
       "      <td>NEAR BAY</td>\n",
       "    </tr>\n",
       "  </tbody>\n",
       "</table>\n",
       "</div>"
      ],
      "text/plain": [
       "   longitude  latitude  housing_median_age  total_rooms  total_bedrooms  \\\n",
       "0    -122.23     37.88                41.0        880.0           129.0   \n",
       "1    -122.22     37.86                21.0       7099.0          1106.0   \n",
       "2    -122.24     37.85                52.0       1467.0           190.0   \n",
       "3    -122.25     37.85                52.0       1274.0           235.0   \n",
       "4    -122.25     37.85                52.0       1627.0           280.0   \n",
       "\n",
       "   population  households  median_income  median_house_value ocean_proximity  \n",
       "0       322.0       126.0         8.3252            452600.0        NEAR BAY  \n",
       "1      2401.0      1138.0         8.3014            358500.0        NEAR BAY  \n",
       "2       496.0       177.0         7.2574            352100.0        NEAR BAY  \n",
       "3       558.0       219.0         5.6431            341300.0        NEAR BAY  \n",
       "4       565.0       259.0         3.8462            342200.0        NEAR BAY  "
      ]
     },
     "execution_count": 361,
     "metadata": {},
     "output_type": "execute_result"
    }
   ],
   "source": [
    "import pandas as pd\n",
    "\n",
    "df = pd.read_csv(\"housing.csv\")\n",
    "\n",
    "df.head()"
   ]
  },
  {
   "cell_type": "markdown",
   "metadata": {},
   "source": [
    "Sachant que la valeur cible est \"median_house_value\", traitons-nous un problème de classification ou de régression ?"
   ]
  },
  {
   "cell_type": "code",
   "execution_count": 362,
   "metadata": {},
   "outputs": [
    {
     "data": {
      "text/plain": [
       "dtype('float64')"
      ]
     },
     "execution_count": 362,
     "metadata": {},
     "output_type": "execute_result"
    }
   ],
   "source": [
    "df.median_house_value.dtype\n",
    "# Valeurs continues -> Régression"
   ]
  },
  {
   "cell_type": "markdown",
   "metadata": {},
   "source": [
    "2. Créez un code qui affiche le nombre de lignes et de colonnes des données, le type des attributs et le nombre de valeurs non nulles.\n"
   ]
  },
  {
   "cell_type": "code",
   "execution_count": 363,
   "metadata": {},
   "outputs": [
    {
     "name": "stdout",
     "output_type": "stream",
     "text": [
      "<class 'pandas.core.frame.DataFrame'>\n",
      "RangeIndex: 20640 entries, 0 to 20639\n",
      "Data columns (total 10 columns):\n",
      " #   Column              Non-Null Count  Dtype  \n",
      "---  ------              --------------  -----  \n",
      " 0   longitude           20640 non-null  float64\n",
      " 1   latitude            20640 non-null  float64\n",
      " 2   housing_median_age  20640 non-null  float64\n",
      " 3   total_rooms         20640 non-null  float64\n",
      " 4   total_bedrooms      20433 non-null  float64\n",
      " 5   population          20640 non-null  float64\n",
      " 6   households          20640 non-null  float64\n",
      " 7   median_income       20640 non-null  float64\n",
      " 8   median_house_value  20640 non-null  float64\n",
      " 9   ocean_proximity     20640 non-null  object \n",
      "dtypes: float64(9), object(1)\n",
      "memory usage: 1.6+ MB\n"
     ]
    }
   ],
   "source": [
    "df.info()"
   ]
  },
  {
   "cell_type": "markdown",
   "metadata": {},
   "source": [
    "Quelle remarque sur l’attribut \"total_bedrooms\" par rapport aux autres attributs ?\n"
   ]
  },
  {
   "cell_type": "markdown",
   "metadata": {},
   "source": [
    "    C'est une colonne qui contient moins de valeurs que les autres."
   ]
  },
  {
   "cell_type": "code",
   "execution_count": 340,
   "metadata": {},
   "outputs": [
    {
     "data": {
      "text/plain": [
       "207"
      ]
     },
     "execution_count": 340,
     "metadata": {},
     "output_type": "execute_result"
    }
   ],
   "source": [
    "df.total_bedrooms.isnull().sum()"
   ]
  },
  {
   "cell_type": "markdown",
   "metadata": {},
   "source": [
    "\n",
    "3. A travers la question précédente, vous avez du remarquez que le type dans valeurs utilisées dans l’attribut \"ocean_proximity\" est un objet (forcément un texte vu qu’on manipule un fichier CSV).\n",
    "Il est intéressant de connaître ses valeurs.\n",
    "Pour cette finalité, créez un code qui affiche l’occurrence des valeurs utilisées dans cet attribut."
   ]
  },
  {
   "cell_type": "code",
   "execution_count": 341,
   "metadata": {},
   "outputs": [
    {
     "data": {
      "text/plain": [
       "<1H OCEAN     9136\n",
       "INLAND        6551\n",
       "NEAR OCEAN    2658\n",
       "NEAR BAY      2290\n",
       "ISLAND           5\n",
       "Name: ocean_proximity, dtype: int64"
      ]
     },
     "execution_count": 341,
     "metadata": {},
     "output_type": "execute_result"
    }
   ],
   "source": [
    "df.ocean_proximity.value_counts()"
   ]
  },
  {
   "cell_type": "markdown",
   "metadata": {},
   "source": [
    "\n",
    "4. Créez un code qui affiche des statistiques sur les attributs de ton jeu de données."
   ]
  },
  {
   "cell_type": "code",
   "execution_count": 342,
   "metadata": {},
   "outputs": [
    {
     "data": {
      "text/html": [
       "<div>\n",
       "<style scoped>\n",
       "    .dataframe tbody tr th:only-of-type {\n",
       "        vertical-align: middle;\n",
       "    }\n",
       "\n",
       "    .dataframe tbody tr th {\n",
       "        vertical-align: top;\n",
       "    }\n",
       "\n",
       "    .dataframe thead th {\n",
       "        text-align: right;\n",
       "    }\n",
       "</style>\n",
       "<table border=\"1\" class=\"dataframe\">\n",
       "  <thead>\n",
       "    <tr style=\"text-align: right;\">\n",
       "      <th></th>\n",
       "      <th>longitude</th>\n",
       "      <th>latitude</th>\n",
       "      <th>housing_median_age</th>\n",
       "      <th>total_rooms</th>\n",
       "      <th>total_bedrooms</th>\n",
       "      <th>population</th>\n",
       "      <th>households</th>\n",
       "      <th>median_income</th>\n",
       "      <th>median_house_value</th>\n",
       "    </tr>\n",
       "  </thead>\n",
       "  <tbody>\n",
       "    <tr>\n",
       "      <th>count</th>\n",
       "      <td>20640.000000</td>\n",
       "      <td>20640.000000</td>\n",
       "      <td>20640.000000</td>\n",
       "      <td>20640.000000</td>\n",
       "      <td>20433.000000</td>\n",
       "      <td>20640.000000</td>\n",
       "      <td>20640.000000</td>\n",
       "      <td>20640.000000</td>\n",
       "      <td>20640.000000</td>\n",
       "    </tr>\n",
       "    <tr>\n",
       "      <th>mean</th>\n",
       "      <td>-119.569704</td>\n",
       "      <td>35.631861</td>\n",
       "      <td>28.639486</td>\n",
       "      <td>2635.763081</td>\n",
       "      <td>537.870553</td>\n",
       "      <td>1425.476744</td>\n",
       "      <td>499.539680</td>\n",
       "      <td>3.870671</td>\n",
       "      <td>206855.816909</td>\n",
       "    </tr>\n",
       "    <tr>\n",
       "      <th>std</th>\n",
       "      <td>2.003532</td>\n",
       "      <td>2.135952</td>\n",
       "      <td>12.585558</td>\n",
       "      <td>2181.615252</td>\n",
       "      <td>421.385070</td>\n",
       "      <td>1132.462122</td>\n",
       "      <td>382.329753</td>\n",
       "      <td>1.899822</td>\n",
       "      <td>115395.615874</td>\n",
       "    </tr>\n",
       "    <tr>\n",
       "      <th>min</th>\n",
       "      <td>-124.350000</td>\n",
       "      <td>32.540000</td>\n",
       "      <td>1.000000</td>\n",
       "      <td>2.000000</td>\n",
       "      <td>1.000000</td>\n",
       "      <td>3.000000</td>\n",
       "      <td>1.000000</td>\n",
       "      <td>0.499900</td>\n",
       "      <td>14999.000000</td>\n",
       "    </tr>\n",
       "    <tr>\n",
       "      <th>25%</th>\n",
       "      <td>-121.800000</td>\n",
       "      <td>33.930000</td>\n",
       "      <td>18.000000</td>\n",
       "      <td>1447.750000</td>\n",
       "      <td>296.000000</td>\n",
       "      <td>787.000000</td>\n",
       "      <td>280.000000</td>\n",
       "      <td>2.563400</td>\n",
       "      <td>119600.000000</td>\n",
       "    </tr>\n",
       "    <tr>\n",
       "      <th>50%</th>\n",
       "      <td>-118.490000</td>\n",
       "      <td>34.260000</td>\n",
       "      <td>29.000000</td>\n",
       "      <td>2127.000000</td>\n",
       "      <td>435.000000</td>\n",
       "      <td>1166.000000</td>\n",
       "      <td>409.000000</td>\n",
       "      <td>3.534800</td>\n",
       "      <td>179700.000000</td>\n",
       "    </tr>\n",
       "    <tr>\n",
       "      <th>75%</th>\n",
       "      <td>-118.010000</td>\n",
       "      <td>37.710000</td>\n",
       "      <td>37.000000</td>\n",
       "      <td>3148.000000</td>\n",
       "      <td>647.000000</td>\n",
       "      <td>1725.000000</td>\n",
       "      <td>605.000000</td>\n",
       "      <td>4.743250</td>\n",
       "      <td>264725.000000</td>\n",
       "    </tr>\n",
       "    <tr>\n",
       "      <th>max</th>\n",
       "      <td>-114.310000</td>\n",
       "      <td>41.950000</td>\n",
       "      <td>52.000000</td>\n",
       "      <td>39320.000000</td>\n",
       "      <td>6445.000000</td>\n",
       "      <td>35682.000000</td>\n",
       "      <td>6082.000000</td>\n",
       "      <td>15.000100</td>\n",
       "      <td>500001.000000</td>\n",
       "    </tr>\n",
       "  </tbody>\n",
       "</table>\n",
       "</div>"
      ],
      "text/plain": [
       "          longitude      latitude  housing_median_age   total_rooms  \\\n",
       "count  20640.000000  20640.000000        20640.000000  20640.000000   \n",
       "mean    -119.569704     35.631861           28.639486   2635.763081   \n",
       "std        2.003532      2.135952           12.585558   2181.615252   \n",
       "min     -124.350000     32.540000            1.000000      2.000000   \n",
       "25%     -121.800000     33.930000           18.000000   1447.750000   \n",
       "50%     -118.490000     34.260000           29.000000   2127.000000   \n",
       "75%     -118.010000     37.710000           37.000000   3148.000000   \n",
       "max     -114.310000     41.950000           52.000000  39320.000000   \n",
       "\n",
       "       total_bedrooms    population    households  median_income  \\\n",
       "count    20433.000000  20640.000000  20640.000000   20640.000000   \n",
       "mean       537.870553   1425.476744    499.539680       3.870671   \n",
       "std        421.385070   1132.462122    382.329753       1.899822   \n",
       "min          1.000000      3.000000      1.000000       0.499900   \n",
       "25%        296.000000    787.000000    280.000000       2.563400   \n",
       "50%        435.000000   1166.000000    409.000000       3.534800   \n",
       "75%        647.000000   1725.000000    605.000000       4.743250   \n",
       "max       6445.000000  35682.000000   6082.000000      15.000100   \n",
       "\n",
       "       median_house_value  \n",
       "count        20640.000000  \n",
       "mean        206855.816909  \n",
       "std         115395.615874  \n",
       "min          14999.000000  \n",
       "25%         119600.000000  \n",
       "50%         179700.000000  \n",
       "75%         264725.000000  \n",
       "max         500001.000000  "
      ]
     },
     "execution_count": 342,
     "metadata": {},
     "output_type": "execute_result"
    }
   ],
   "source": [
    "df.describe()"
   ]
  },
  {
   "cell_type": "markdown",
   "metadata": {},
   "source": [
    "\n",
    "5. Créez un code qui affiche les histogrammes des différents attributs.\n",
    "Le nombre de \"bins\" à saisir est 50 et la taille de chaque histogramme \"figsize=(20,15)\"."
   ]
  },
  {
   "cell_type": "code",
   "execution_count": 366,
   "metadata": {},
   "outputs": [
    {
     "data": {
      "text/plain": [
       "array([[<matplotlib.axes._subplots.AxesSubplot object at 0x000001B855183820>,\n",
       "        <matplotlib.axes._subplots.AxesSubplot object at 0x000001B8551737F0>,\n",
       "        <matplotlib.axes._subplots.AxesSubplot object at 0x000001B8551C3220>],\n",
       "       [<matplotlib.axes._subplots.AxesSubplot object at 0x000001B8551ED9A0>,\n",
       "        <matplotlib.axes._subplots.AxesSubplot object at 0x000001B855222160>,\n",
       "        <matplotlib.axes._subplots.AxesSubplot object at 0x000001B85524A820>],\n",
       "       [<matplotlib.axes._subplots.AxesSubplot object at 0x000001B85524A910>,\n",
       "        <matplotlib.axes._subplots.AxesSubplot object at 0x000001B855280130>,\n",
       "        <matplotlib.axes._subplots.AxesSubplot object at 0x000001B856B22FA0>]],\n",
       "      dtype=object)"
      ]
     },
     "execution_count": 366,
     "metadata": {},
     "output_type": "execute_result"
    },
    {
     "data": {
      "image/png": "[encoded data removed]",
      "text/plain": [
       "<Figure size 1440x1080 with 9 Axes>"
      ]
     },
     "metadata": {
      "needs_background": "light"
     },
     "output_type": "display_data"
    }
   ],
   "source": [
    "df.hist(bins=50, figsize=(20, 15))"
   ]
  },
  {
   "cell_type": "markdown",
   "metadata": {},
   "source": [
    "\n",
    "### Répartition des données\n",
    "\n",
    "1. Créez un code qui partitionne les données en base d’apprentissage et base de test. Optez pour 80% pour l’apprentissage et 20% pour le test."
   ]
  },
  {
   "cell_type": "code",
   "execution_count": 368,
   "metadata": {},
   "outputs": [
    {
     "data": {
      "text/plain": [
       "((16512, 9), (4128, 9), (16512,), (4128,))"
      ]
     },
     "execution_count": 368,
     "metadata": {},
     "output_type": "execute_result"
    }
   ],
   "source": [
    "from sklearn.model_selection import train_test_split\n",
    "\n",
    "train_set, test_set = train_test_split(df, test_size = 20/100, random_state = 42)\n",
    "\n",
    "y = df.median_house_value\n",
    "X = df.drop(\"median_house_value\", axis=1)\n",
    "\n",
    "X_train, X_test, y_train, y_test = train_test_split(X, y, test_size = 20/100, random_state = 42)\n",
    "\n",
    "X_train.shape, X_test.shape, y_train.shape, y_test.shape"
   ]
  },
  {
   "cell_type": "markdown",
   "metadata": {},
   "source": [
    "\n",
    "2. Affichez l’en-tête de la base de test"
   ]
  },
  {
   "cell_type": "code",
   "execution_count": 370,
   "metadata": {},
   "outputs": [
    {
     "data": {
      "text/html": [
       "<div>\n",
       "<style scoped>\n",
       "    .dataframe tbody tr th:only-of-type {\n",
       "        vertical-align: middle;\n",
       "    }\n",
       "\n",
       "    .dataframe tbody tr th {\n",
       "        vertical-align: top;\n",
       "    }\n",
       "\n",
       "    .dataframe thead th {\n",
       "        text-align: right;\n",
       "    }\n",
       "</style>\n",
       "<table border=\"1\" class=\"dataframe\">\n",
       "  <thead>\n",
       "    <tr style=\"text-align: right;\">\n",
       "      <th></th>\n",
       "      <th>longitude</th>\n",
       "      <th>latitude</th>\n",
       "      <th>housing_median_age</th>\n",
       "      <th>total_rooms</th>\n",
       "      <th>total_bedrooms</th>\n",
       "      <th>population</th>\n",
       "      <th>households</th>\n",
       "      <th>median_income</th>\n",
       "      <th>median_house_value</th>\n",
       "      <th>ocean_proximity</th>\n",
       "    </tr>\n",
       "  </thead>\n",
       "  <tbody>\n",
       "    <tr>\n",
       "      <th>20046</th>\n",
       "      <td>-119.01</td>\n",
       "      <td>36.06</td>\n",
       "      <td>25.0</td>\n",
       "      <td>1505.0</td>\n",
       "      <td>NaN</td>\n",
       "      <td>1392.0</td>\n",
       "      <td>359.0</td>\n",
       "      <td>1.6812</td>\n",
       "      <td>47700.0</td>\n",
       "      <td>INLAND</td>\n",
       "    </tr>\n",
       "    <tr>\n",
       "      <th>3024</th>\n",
       "      <td>-119.46</td>\n",
       "      <td>35.14</td>\n",
       "      <td>30.0</td>\n",
       "      <td>2943.0</td>\n",
       "      <td>NaN</td>\n",
       "      <td>1565.0</td>\n",
       "      <td>584.0</td>\n",
       "      <td>2.5313</td>\n",
       "      <td>45800.0</td>\n",
       "      <td>INLAND</td>\n",
       "    </tr>\n",
       "    <tr>\n",
       "      <th>15663</th>\n",
       "      <td>-122.44</td>\n",
       "      <td>37.80</td>\n",
       "      <td>52.0</td>\n",
       "      <td>3830.0</td>\n",
       "      <td>NaN</td>\n",
       "      <td>1310.0</td>\n",
       "      <td>963.0</td>\n",
       "      <td>3.4801</td>\n",
       "      <td>500001.0</td>\n",
       "      <td>NEAR BAY</td>\n",
       "    </tr>\n",
       "    <tr>\n",
       "      <th>20484</th>\n",
       "      <td>-118.72</td>\n",
       "      <td>34.28</td>\n",
       "      <td>17.0</td>\n",
       "      <td>3051.0</td>\n",
       "      <td>NaN</td>\n",
       "      <td>1705.0</td>\n",
       "      <td>495.0</td>\n",
       "      <td>5.7376</td>\n",
       "      <td>218600.0</td>\n",
       "      <td>&lt;1H OCEAN</td>\n",
       "    </tr>\n",
       "    <tr>\n",
       "      <th>9814</th>\n",
       "      <td>-121.93</td>\n",
       "      <td>36.62</td>\n",
       "      <td>34.0</td>\n",
       "      <td>2351.0</td>\n",
       "      <td>NaN</td>\n",
       "      <td>1063.0</td>\n",
       "      <td>428.0</td>\n",
       "      <td>3.7250</td>\n",
       "      <td>278000.0</td>\n",
       "      <td>NEAR OCEAN</td>\n",
       "    </tr>\n",
       "  </tbody>\n",
       "</table>\n",
       "</div>"
      ],
      "text/plain": [
       "       longitude  latitude  housing_median_age  total_rooms  total_bedrooms  \\\n",
       "20046    -119.01     36.06                25.0       1505.0             NaN   \n",
       "3024     -119.46     35.14                30.0       2943.0             NaN   \n",
       "15663    -122.44     37.80                52.0       3830.0             NaN   \n",
       "20484    -118.72     34.28                17.0       3051.0             NaN   \n",
       "9814     -121.93     36.62                34.0       2351.0             NaN   \n",
       "\n",
       "       population  households  median_income  median_house_value  \\\n",
       "20046      1392.0       359.0         1.6812             47700.0   \n",
       "3024       1565.0       584.0         2.5313             45800.0   \n",
       "15663      1310.0       963.0         3.4801            500001.0   \n",
       "20484      1705.0       495.0         5.7376            218600.0   \n",
       "9814       1063.0       428.0         3.7250            278000.0   \n",
       "\n",
       "      ocean_proximity  \n",
       "20046          INLAND  \n",
       "3024           INLAND  \n",
       "15663        NEAR BAY  \n",
       "20484       <1H OCEAN  \n",
       "9814       NEAR OCEAN  "
      ]
     },
     "execution_count": 370,
     "metadata": {},
     "output_type": "execute_result"
    }
   ],
   "source": [
    "test_set.head()"
   ]
  },
  {
   "cell_type": "markdown",
   "metadata": {},
   "source": [
    "Nous nous intéresserons par la suite uniquement à la base d’apprentissage.\n",
    "Pour cette raison, le terme données fera référence à la base d’apprentissage."
   ]
  },
  {
   "cell_type": "markdown",
   "metadata": {},
   "source": [
    "### Découverte et visualisation des données\n",
    "L’information géographique (latitude et longitude) existe dans la base de données, il est intéressant de créer des graphes illustrant une visualisation géographique des données."
   ]
  },
  {
   "cell_type": "markdown",
   "metadata": {},
   "source": [
    "1. Créez un code qui affiche en abscisse la longitude et en ordonnée la latitude.\n",
    "Optez pour le type scatter dans la fonction plot pour l’affichage et une valeur d’alpha (c’est un paramètre qui joue sur la transparence de la courbe) de 0.1 pour un affichage plus clair."
   ]
  },
  {
   "cell_type": "code",
   "execution_count": 371,
   "metadata": {},
   "outputs": [
    {
     "data": {
      "text/plain": [
       "<matplotlib.axes._subplots.AxesSubplot at 0x1b857dc5250>"
      ]
     },
     "execution_count": 371,
     "metadata": {},
     "output_type": "execute_result"
    },
    {
     "data": {
      "image/png": "[encoded data removed]",
      "text/plain": [
       "<Figure size 432x288 with 1 Axes>"
      ]
     },
     "metadata": {
      "needs_background": "light"
     },
     "output_type": "display_data"
    }
   ],
   "source": [
    "df.plot.scatter(x='longitude',\n",
    "                y='latitude',\n",
    "                label=\"Population\",\n",
    "                alpha=0.1,\n",
    "                c='DarkBlue')"
   ]
  },
  {
   "cell_type": "markdown",
   "metadata": {},
   "source": [
    "2. Créez un code qui permet d’avoir une idée sur le lien entre la position géographique et le prix des maisons (target).Optez pour une valeur égale à False de \"sharex\"."
   ]
  },
  {
   "cell_type": "code",
   "execution_count": 347,
   "metadata": {},
   "outputs": [
    {
     "data": {
      "text/plain": [
       "longitude   -0.045967\n",
       "latitude    -0.144160\n",
       "dtype: float64"
      ]
     },
     "execution_count": 347,
     "metadata": {},
     "output_type": "execute_result"
    }
   ],
   "source": [
    "df[['longitude', 'latitude', ]].corrwith(df['median_house_value'])"
   ]
  },
  {
   "cell_type": "code",
   "execution_count": 373,
   "metadata": {
    "lines_to_next_cell": 2
   },
   "outputs": [
    {
     "data": {
      "text/plain": [
       "<matplotlib.axes._subplots.AxesSubplot at 0x1b850a50e80>"
      ]
     },
     "execution_count": 373,
     "metadata": {},
     "output_type": "execute_result"
    },
    {
     "data": {
      "image/png": "[encoded data removed]",
      "text/plain": [
       "<Figure size 432x288 with 2 Axes>"
      ]
     },
     "metadata": {
      "needs_background": "light"
     },
     "output_type": "display_data"
    }
   ],
   "source": [
    "df.plot.scatter(x='longitude',\n",
    "                y='latitude',\n",
    "                c='median_house_value',\n",
    "                alpha=0.1,\n",
    "                sharex=False,\n",
    "                title='California',\n",
    "                label=\"Population\",\n",
    "                cmap='gist_rainbow')\n",
    "                #cmap='Accent')"
   ]
  },
  {
   "cell_type": "markdown",
   "metadata": {},
   "source": [
    "3. Modifiez le graphe de la question précédente pour savoir la raison du prix élevé de quelques maisons.\n",
    "\n",
    "Pour ce faire :\n",
    "- Téléchargez l’image de la californie\n",
    "- Utilisez la fonction imread du sous-module image du module matplotlib\n",
    "- Utilisez la fonction imshow du sous-module pyplot du module matplotlib"
   ]
  },
  {
   "cell_type": "code",
   "execution_count": 376,
   "metadata": {
    "scrolled": false
   },
   "outputs": [
    {
     "data": {
      "image/png": "[encoded data removed]",
      "text/plain": [
       "<Figure size 432x288 with 1 Axes>"
      ]
     },
     "metadata": {
      "needs_background": "light"
     },
     "output_type": "display_data"
    }
   ],
   "source": [
    "import matplotlib.pyplot as plt \n",
    "\n",
    "img_array=plt.imread(\"california.png\")  #[0:300,0:300]\n",
    "plt.imshow(img_array)\n",
    "plt.title('Californication')\n",
    "plt.axis('off')\n",
    "plt.show()"
   ]
  },
  {
   "cell_type": "code",
   "execution_count": 383,
   "metadata": {},
   "outputs": [
    {
     "data": {
      "text/plain": [
       "<matplotlib.image.AxesImage at 0x1b85bbf0700>"
      ]
     },
     "execution_count": 383,
     "metadata": {},
     "output_type": "execute_result"
    },
    {
     "data": {
      "image/png": "[encoded data removed]",
      "text/plain": [
       "<Figure size 432x288 with 1 Axes>"
      ]
     },
     "metadata": {
      "needs_background": "light"
     },
     "output_type": "display_data"
    }
   ],
   "source": [
    "img_array.shape\n",
    "# (674, 594, 3) : Taille : 674*594 en 3 couleurs (RGB)\n",
    "\n",
    "#plt.imshow(img_array[1,:,:])\n",
    "#plt.imshow(img_array[:,1,:])\n",
    "plt.imshow(img_array[:,:,1])"
   ]
  },
  {
   "cell_type": "code",
   "execution_count": 374,
   "metadata": {},
   "outputs": [
    {
     "data": {
      "image/png": "[encoded data removed]",
      "text/plain": [
       "<Figure size 432x288 with 1 Axes>"
      ]
     },
     "metadata": {
      "needs_background": "light"
     },
     "output_type": "display_data"
    }
   ],
   "source": [
    "img_california=plt.imread(\"california.png\")\n",
    "\n",
    "plt.title('California')\n",
    "\n",
    "plt.imshow(img_california, zorder=0, extent=[df.longitude.min(), df.longitude.max(), df.latitude.min(), df.latitude.max()])\n",
    "aspect=img_california.shape[0]/float(img_california.shape[1])*((df.longitude.max() - df.longitude.min())/(df.latitude.max() - df.latitude.min()))\n",
    "plt.gca().set_aspect(aspect)\n",
    "\n",
    "plt.scatter(x=df.longitude,\n",
    "            y=df.latitude,\n",
    "            zorder=1,\n",
    "            c=df.median_house_value,\n",
    "            alpha=0.1,\n",
    "            label=\"Population\",\n",
    "            cmap='gist_rainbow')\n",
    "            #cmap='Accent')\n",
    "\n",
    "plt.show()\n",
    "\n"
   ]
  },
  {
   "cell_type": "markdown",
   "metadata": {},
   "source": [
    "4. Une pratique très intéressante dans l’analyse de données est l’étude des corrélation entre les variables.\n",
    "\n",
    "Créez un code qui affiche, en valeur, la corrélation de l’attribut \"median_house_value\" avec les autres attributs.\n",
    "\n",
    "Qu’est ce que vous remarquez ?"
   ]
  },
  {
   "cell_type": "code",
   "execution_count": 351,
   "metadata": {},
   "outputs": [
    {
     "data": {
      "text/plain": [
       "longitude            -0.045967\n",
       "latitude             -0.144160\n",
       "housing_median_age    0.105623\n",
       "total_rooms           0.134153\n",
       "total_bedrooms        0.049686\n",
       "population           -0.024650\n",
       "households            0.065843\n",
       "median_income         0.688075\n",
       "median_house_value    1.000000\n",
       "dtype: float64"
      ]
     },
     "execution_count": 351,
     "metadata": {},
     "output_type": "execute_result"
    }
   ],
   "source": [
    "df.corrwith(df.median_house_value)"
   ]
  },
  {
   "cell_type": "code",
   "execution_count": 352,
   "metadata": {},
   "outputs": [],
   "source": [
    "# La valeur du bien est corrélé avec le revenu moyen de leur propriétaire"
   ]
  },
  {
   "cell_type": "markdown",
   "metadata": {},
   "source": [
    "## Nettoyage des données\n",
    "Avant d’intégrer les données dans un algorithme d’apprentissage automatique, il est indispensable de séparer le \"features\" et la valeur cible (target).\n",
    "\n",
    "1. Créez un code permettant de créer deux variables :\n",
    "\n",
    " - Une première contenant que les input. Utilisez la fonction drop du module pandas\n",
    " - Une deuxième contenant que les labels. Utilisez la fonction copy du module pandas"
   ]
  },
  {
   "cell_type": "code",
   "execution_count": 384,
   "metadata": {},
   "outputs": [
    {
     "data": {
      "text/plain": [
       "14196    103000.0\n",
       "8267     382100.0\n",
       "17445    172600.0\n",
       "14265     93400.0\n",
       "2271      96500.0\n",
       "Name: median_house_value, dtype: float64"
      ]
     },
     "execution_count": 384,
     "metadata": {},
     "output_type": "execute_result"
    }
   ],
   "source": [
    "inputs = train_set.drop(\"median_house_value\", axis=1)\n",
    "\n",
    "labels = train_set.median_house_value.copy()\n",
    "\n",
    "inputs.head()\n",
    "labels.head()"
   ]
  },
  {
   "cell_type": "markdown",
   "metadata": {},
   "source": [
    "\n",
    "2. Dans la question 8, vous avez dû remarquer que l’attribut \"total_bedrooms\" a des valeurs manquantes (NaN).\n",
    "\n",
    "Pour remédier à ceci, il existes trois options :\n",
    "- Supprimer les valeurs manquantes (NaN)\n",
    "- Supprimer l’attribut \"total_bedrooms\"\n",
    "- Remplacer les valeurs manquantes par une autre valeur (0, la moyenne, la médiane, ...)\n",
    "Nous optons pour cette méthode.\n",
    "\n",
    "Ecrivez un code qui remplace les valeurs manquantes par la médiane."
   ]
  },
  {
   "cell_type": "code",
   "execution_count": 354,
   "metadata": {},
   "outputs": [
    {
     "name": "stdout",
     "output_type": "stream",
     "text": [
      "<class 'pandas.core.frame.DataFrame'>\n",
      "RangeIndex: 20640 entries, 0 to 20639\n",
      "Data columns (total 9 columns):\n",
      " #   Column              Non-Null Count  Dtype  \n",
      "---  ------              --------------  -----  \n",
      " 0   longitude           20640 non-null  float64\n",
      " 1   latitude            20640 non-null  float64\n",
      " 2   housing_median_age  20640 non-null  float64\n",
      " 3   total_rooms         20640 non-null  float64\n",
      " 4   total_bedrooms      20433 non-null  float64\n",
      " 5   population          20640 non-null  float64\n",
      " 6   households          20640 non-null  float64\n",
      " 7   median_income       20640 non-null  float64\n",
      " 8   ocean_proximity     20640 non-null  object \n",
      "dtypes: float64(8), object(1)\n",
      "memory usage: 1.4+ MB\n"
     ]
    },
    {
     "data": {
      "text/plain": [
       "207"
      ]
     },
     "execution_count": 354,
     "metadata": {},
     "output_type": "execute_result"
    }
   ],
   "source": [
    "inputs.info()\n",
    "inputs.total_bedrooms.isna().sum()"
   ]
  },
  {
   "cell_type": "markdown",
   "metadata": {},
   "source": [
    "Utilisez les fonctions median et fillna du module Pandas."
   ]
  },
  {
   "cell_type": "code",
   "execution_count": 355,
   "metadata": {},
   "outputs": [],
   "source": [
    "# df[df.columns] = df[df.columns].apply(pd.to_numeric, errors='coerce')\n",
    "\n",
    "inputs.total_bedrooms = inputs.total_bedrooms.fillna(inputs.total_bedrooms.median())  # works"
   ]
  },
  {
   "cell_type": "markdown",
   "metadata": {},
   "source": [
    "Vérifiez avec la fonction \"info\" si le problème a été résolu."
   ]
  },
  {
   "cell_type": "code",
   "execution_count": 356,
   "metadata": {},
   "outputs": [
    {
     "name": "stdout",
     "output_type": "stream",
     "text": [
      "<class 'pandas.core.frame.DataFrame'>\n",
      "RangeIndex: 20640 entries, 0 to 20639\n",
      "Data columns (total 9 columns):\n",
      " #   Column              Non-Null Count  Dtype  \n",
      "---  ------              --------------  -----  \n",
      " 0   longitude           20640 non-null  float64\n",
      " 1   latitude            20640 non-null  float64\n",
      " 2   housing_median_age  20640 non-null  float64\n",
      " 3   total_rooms         20640 non-null  float64\n",
      " 4   total_bedrooms      20640 non-null  float64\n",
      " 5   population          20640 non-null  float64\n",
      " 6   households          20640 non-null  float64\n",
      " 7   median_income       20640 non-null  float64\n",
      " 8   ocean_proximity     20640 non-null  object \n",
      "dtypes: float64(8), object(1)\n",
      "memory usage: 1.4+ MB\n"
     ]
    },
    {
     "data": {
      "text/plain": [
       "0"
      ]
     },
     "execution_count": 356,
     "metadata": {},
     "output_type": "execute_result"
    }
   ],
   "source": [
    "inputs.info()\n",
    "inputs.total_bedrooms.isna().sum()"
   ]
  },
  {
   "cell_type": "markdown",
   "metadata": {},
   "source": [
    "\n",
    "3. Les algorithmes d’apprentissage profond préfèrent travailler avec des données numériques.\n",
    "Ceci est valable pour tous les attributs sauf \"ocean_proximity\".\n",
    "Vérifiez ceci en affichant 10 de ces valeurs."
   ]
  },
  {
   "cell_type": "code",
   "execution_count": 357,
   "metadata": {},
   "outputs": [
    {
     "data": {
      "text/plain": [
       "16609     <1H OCEAN\n",
       "478        NEAR BAY\n",
       "3885      <1H OCEAN\n",
       "11285     <1H OCEAN\n",
       "7138      <1H OCEAN\n",
       "            ...    \n",
       "20298    NEAR OCEAN\n",
       "2661      <1H OCEAN\n",
       "1887         INLAND\n",
       "17646     <1H OCEAN\n",
       "3194         INLAND\n",
       "Name: ocean_proximity, Length: 8669, dtype: object"
      ]
     },
     "execution_count": 357,
     "metadata": {},
     "output_type": "execute_result"
    }
   ],
   "source": [
    "df.ocean_proximity.sample(frac=0.42)"
   ]
  },
  {
   "cell_type": "markdown",
   "metadata": {},
   "source": [
    "Transformer les valeurs qualitatives en des valeurs numériques."
   ]
  },
  {
   "cell_type": "code",
   "execution_count": 385,
   "metadata": {},
   "outputs": [
    {
     "data": {
      "text/plain": [
       "['<1H OCEAN', 'INLAND', 'ISLAND', 'NEAR BAY', 'NEAR OCEAN']"
      ]
     },
     "execution_count": 385,
     "metadata": {},
     "output_type": "execute_result"
    }
   ],
   "source": [
    "from sklearn.preprocessing import LabelEncoder\n",
    "\n",
    "le = LabelEncoder()\n",
    "le.fit(df.ocean_proximity)\n",
    "list(le.classes_)"
   ]
  },
  {
   "cell_type": "markdown",
   "metadata": {},
   "source": [
    "\n",
    "4. Affichez les données pour vérifier le résultat."
   ]
  },
  {
   "cell_type": "code",
   "execution_count": 386,
   "metadata": {},
   "outputs": [
    {
     "data": {
      "text/plain": [
       "14196    4\n",
       "8267     4\n",
       "17445    4\n",
       "14265    4\n",
       "2271     1\n",
       "Name: ocean_proximity, dtype: int32"
      ]
     },
     "execution_count": 386,
     "metadata": {},
     "output_type": "execute_result"
    }
   ],
   "source": [
    "inputs.ocean_proximity = le.transform(inputs.ocean_proximity)\n",
    "\n",
    "inputs.ocean_proximity.head()"
   ]
  },
  {
   "cell_type": "code",
   "execution_count": 387,
   "metadata": {},
   "outputs": [
    {
     "data": {
      "text/plain": [
       "['NEAR OCEAN',\n",
       " 'NEAR OCEAN',\n",
       " 'NEAR OCEAN',\n",
       " 'NEAR OCEAN',\n",
       " 'INLAND',\n",
       " '<1H OCEAN',\n",
       " '<1H OCEAN',\n",
       " 'NEAR BAY',\n",
       " '<1H OCEAN',\n",
       " '<1H OCEAN',\n",
       " 'NEAR BAY',\n",
       " '<1H OCEAN',\n",
       " 'INLAND',\n",
       " '<1H OCEAN',\n",
       " '<1H OCEAN',\n",
       " '<1H OCEAN',\n",
       " '<1H OCEAN',\n",
       " 'INLAND',\n",
       " '<1H OCEAN',\n",
       " '<1H OCEAN',\n",
       " 'INLAND',\n",
       " '<1H OCEAN',\n",
       " '<1H OCEAN',\n",
       " '<1H OCEAN',\n",
       " 'INLAND',\n",
       " 'NEAR BAY',\n",
       " 'INLAND',\n",
       " '<1H OCEAN',\n",
       " '<1H OCEAN',\n",
       " '<1H OCEAN',\n",
       " '<1H OCEAN',\n",
       " 'INLAND',\n",
       " '<1H OCEAN',\n",
       " '<1H OCEAN',\n",
       " '<1H OCEAN',\n",
       " '<1H OCEAN',\n",
       " 'INLAND',\n",
       " '<1H OCEAN',\n",
       " '<1H OCEAN',\n",
       " '<1H OCEAN',\n",
       " '<1H OCEAN',\n",
       " 'INLAND',\n",
       " 'INLAND',\n",
       " '<1H OCEAN',\n",
       " '<1H OCEAN',\n",
       " '<1H OCEAN',\n",
       " 'INLAND',\n",
       " '<1H OCEAN',\n",
       " '<1H OCEAN',\n",
       " '<1H OCEAN',\n",
       " '<1H OCEAN',\n",
       " 'NEAR BAY',\n",
       " 'INLAND',\n",
       " '<1H OCEAN',\n",
       " '<1H OCEAN',\n",
       " '<1H OCEAN',\n",
       " 'NEAR BAY',\n",
       " '<1H OCEAN',\n",
       " '<1H OCEAN',\n",
       " 'NEAR OCEAN',\n",
       " 'NEAR OCEAN',\n",
       " '<1H OCEAN',\n",
       " 'INLAND',\n",
       " 'INLAND',\n",
       " 'NEAR BAY',\n",
       " '<1H OCEAN',\n",
       " '<1H OCEAN',\n",
       " '<1H OCEAN',\n",
       " 'NEAR OCEAN',\n",
       " 'INLAND',\n",
       " 'NEAR OCEAN',\n",
       " 'NEAR OCEAN',\n",
       " 'NEAR OCEAN',\n",
       " '<1H OCEAN',\n",
       " 'INLAND',\n",
       " 'INLAND',\n",
       " '<1H OCEAN',\n",
       " 'INLAND',\n",
       " '<1H OCEAN',\n",
       " 'NEAR OCEAN',\n",
       " '<1H OCEAN',\n",
       " 'NEAR BAY',\n",
       " '<1H OCEAN',\n",
       " 'INLAND',\n",
       " 'INLAND',\n",
       " '<1H OCEAN',\n",
       " 'NEAR OCEAN',\n",
       " '<1H OCEAN',\n",
       " '<1H OCEAN',\n",
       " '<1H OCEAN',\n",
       " '<1H OCEAN',\n",
       " 'INLAND',\n",
       " 'INLAND',\n",
       " '<1H OCEAN',\n",
       " '<1H OCEAN',\n",
       " '<1H OCEAN',\n",
       " 'INLAND',\n",
       " 'INLAND',\n",
       " 'INLAND',\n",
       " 'NEAR OCEAN',\n",
       " 'NEAR OCEAN',\n",
       " 'INLAND',\n",
       " 'NEAR OCEAN',\n",
       " '<1H OCEAN',\n",
       " 'NEAR BAY',\n",
       " '<1H OCEAN',\n",
       " 'INLAND',\n",
       " '<1H OCEAN',\n",
       " 'NEAR OCEAN',\n",
       " '<1H OCEAN',\n",
       " '<1H OCEAN',\n",
       " '<1H OCEAN',\n",
       " 'NEAR OCEAN',\n",
       " 'NEAR OCEAN',\n",
       " 'INLAND',\n",
       " 'INLAND',\n",
       " '<1H OCEAN',\n",
       " 'NEAR BAY',\n",
       " '<1H OCEAN',\n",
       " 'INLAND',\n",
       " '<1H OCEAN',\n",
       " '<1H OCEAN',\n",
       " 'NEAR BAY',\n",
       " '<1H OCEAN',\n",
       " 'INLAND',\n",
       " '<1H OCEAN',\n",
       " 'INLAND',\n",
       " '<1H OCEAN',\n",
       " '<1H OCEAN',\n",
       " 'NEAR BAY',\n",
       " 'INLAND',\n",
       " '<1H OCEAN',\n",
       " '<1H OCEAN',\n",
       " 'NEAR BAY',\n",
       " 'NEAR OCEAN',\n",
       " '<1H OCEAN',\n",
       " 'INLAND',\n",
       " 'INLAND',\n",
       " '<1H OCEAN',\n",
       " '<1H OCEAN',\n",
       " 'NEAR OCEAN',\n",
       " 'NEAR BAY',\n",
       " 'INLAND',\n",
       " 'NEAR BAY',\n",
       " 'INLAND',\n",
       " 'NEAR OCEAN',\n",
       " 'NEAR OCEAN',\n",
       " '<1H OCEAN',\n",
       " '<1H OCEAN',\n",
       " '<1H OCEAN',\n",
       " 'INLAND',\n",
       " '<1H OCEAN',\n",
       " '<1H OCEAN',\n",
       " 'NEAR OCEAN',\n",
       " '<1H OCEAN',\n",
       " 'NEAR OCEAN',\n",
       " '<1H OCEAN',\n",
       " 'NEAR BAY',\n",
       " 'INLAND',\n",
       " '<1H OCEAN',\n",
       " '<1H OCEAN',\n",
       " 'NEAR OCEAN',\n",
       " 'INLAND',\n",
       " '<1H OCEAN',\n",
       " 'NEAR BAY',\n",
       " 'INLAND',\n",
       " '<1H OCEAN',\n",
       " '<1H OCEAN',\n",
       " '<1H OCEAN',\n",
       " 'NEAR OCEAN',\n",
       " '<1H OCEAN',\n",
       " 'NEAR BAY',\n",
       " '<1H OCEAN',\n",
       " '<1H OCEAN',\n",
       " '<1H OCEAN',\n",
       " 'INLAND',\n",
       " 'INLAND',\n",
       " 'NEAR OCEAN',\n",
       " '<1H OCEAN',\n",
       " 'INLAND',\n",
       " 'INLAND',\n",
       " '<1H OCEAN',\n",
       " '<1H OCEAN',\n",
       " 'NEAR OCEAN',\n",
       " '<1H OCEAN',\n",
       " 'NEAR BAY',\n",
       " 'NEAR BAY',\n",
       " '<1H OCEAN',\n",
       " 'INLAND',\n",
       " '<1H OCEAN',\n",
       " 'INLAND',\n",
       " '<1H OCEAN',\n",
       " '<1H OCEAN',\n",
       " 'NEAR BAY',\n",
       " '<1H OCEAN',\n",
       " 'INLAND',\n",
       " 'INLAND',\n",
       " 'INLAND',\n",
       " 'NEAR BAY',\n",
       " 'INLAND',\n",
       " '<1H OCEAN',\n",
       " 'INLAND',\n",
       " '<1H OCEAN',\n",
       " 'NEAR OCEAN',\n",
       " '<1H OCEAN',\n",
       " '<1H OCEAN',\n",
       " '<1H OCEAN',\n",
       " '<1H OCEAN',\n",
       " 'INLAND',\n",
       " '<1H OCEAN',\n",
       " '<1H OCEAN',\n",
       " 'INLAND',\n",
       " '<1H OCEAN',\n",
       " 'NEAR OCEAN',\n",
       " '<1H OCEAN',\n",
       " '<1H OCEAN',\n",
       " '<1H OCEAN',\n",
       " '<1H OCEAN',\n",
       " 'NEAR BAY',\n",
       " '<1H OCEAN',\n",
       " 'NEAR OCEAN',\n",
       " 'INLAND',\n",
       " 'NEAR OCEAN',\n",
       " '<1H OCEAN',\n",
       " 'INLAND',\n",
       " 'NEAR BAY',\n",
       " 'INLAND',\n",
       " 'NEAR BAY',\n",
       " 'INLAND',\n",
       " 'INLAND',\n",
       " '<1H OCEAN',\n",
       " 'NEAR OCEAN',\n",
       " '<1H OCEAN',\n",
       " 'NEAR OCEAN',\n",
       " '<1H OCEAN',\n",
       " 'INLAND',\n",
       " 'INLAND',\n",
       " '<1H OCEAN',\n",
       " '<1H OCEAN',\n",
       " 'NEAR BAY',\n",
       " '<1H OCEAN',\n",
       " 'NEAR BAY',\n",
       " 'NEAR OCEAN',\n",
       " '<1H OCEAN',\n",
       " '<1H OCEAN',\n",
       " 'INLAND',\n",
       " 'NEAR OCEAN',\n",
       " '<1H OCEAN',\n",
       " 'INLAND',\n",
       " 'NEAR OCEAN',\n",
       " '<1H OCEAN',\n",
       " '<1H OCEAN',\n",
       " 'INLAND',\n",
       " 'INLAND',\n",
       " '<1H OCEAN',\n",
       " '<1H OCEAN',\n",
       " 'INLAND',\n",
       " '<1H OCEAN',\n",
       " 'NEAR BAY',\n",
       " 'INLAND',\n",
       " '<1H OCEAN',\n",
       " '<1H OCEAN',\n",
       " 'INLAND',\n",
       " 'INLAND',\n",
       " '<1H OCEAN',\n",
       " 'INLAND',\n",
       " '<1H OCEAN',\n",
       " 'INLAND',\n",
       " '<1H OCEAN',\n",
       " '<1H OCEAN',\n",
       " '<1H OCEAN',\n",
       " '<1H OCEAN',\n",
       " 'NEAR OCEAN',\n",
       " 'NEAR OCEAN',\n",
       " '<1H OCEAN',\n",
       " '<1H OCEAN',\n",
       " '<1H OCEAN',\n",
       " '<1H OCEAN',\n",
       " 'INLAND',\n",
       " 'INLAND',\n",
       " 'INLAND',\n",
       " '<1H OCEAN',\n",
       " 'NEAR OCEAN',\n",
       " 'NEAR OCEAN',\n",
       " 'INLAND',\n",
       " 'INLAND',\n",
       " 'NEAR BAY',\n",
       " '<1H OCEAN',\n",
       " '<1H OCEAN',\n",
       " '<1H OCEAN',\n",
       " 'NEAR OCEAN',\n",
       " 'INLAND',\n",
       " '<1H OCEAN',\n",
       " '<1H OCEAN',\n",
       " 'NEAR OCEAN',\n",
       " '<1H OCEAN',\n",
       " 'INLAND',\n",
       " 'NEAR OCEAN',\n",
       " '<1H OCEAN',\n",
       " 'INLAND',\n",
       " 'INLAND',\n",
       " 'INLAND',\n",
       " 'NEAR BAY',\n",
       " 'NEAR OCEAN',\n",
       " 'NEAR OCEAN',\n",
       " 'NEAR OCEAN',\n",
       " 'INLAND',\n",
       " 'INLAND',\n",
       " '<1H OCEAN',\n",
       " '<1H OCEAN',\n",
       " '<1H OCEAN',\n",
       " '<1H OCEAN',\n",
       " 'INLAND',\n",
       " '<1H OCEAN',\n",
       " '<1H OCEAN',\n",
       " '<1H OCEAN',\n",
       " '<1H OCEAN',\n",
       " '<1H OCEAN',\n",
       " '<1H OCEAN',\n",
       " 'NEAR BAY',\n",
       " '<1H OCEAN',\n",
       " '<1H OCEAN',\n",
       " 'NEAR BAY',\n",
       " 'INLAND',\n",
       " 'INLAND',\n",
       " 'NEAR BAY',\n",
       " '<1H OCEAN',\n",
       " '<1H OCEAN',\n",
       " '<1H OCEAN',\n",
       " 'INLAND',\n",
       " 'INLAND',\n",
       " 'INLAND',\n",
       " 'INLAND',\n",
       " 'NEAR BAY',\n",
       " 'INLAND',\n",
       " '<1H OCEAN',\n",
       " '<1H OCEAN',\n",
       " '<1H OCEAN',\n",
       " 'NEAR OCEAN',\n",
       " 'INLAND',\n",
       " '<1H OCEAN',\n",
       " '<1H OCEAN',\n",
       " '<1H OCEAN',\n",
       " 'NEAR OCEAN',\n",
       " 'INLAND',\n",
       " '<1H OCEAN',\n",
       " '<1H OCEAN',\n",
       " '<1H OCEAN',\n",
       " 'NEAR BAY',\n",
       " 'NEAR OCEAN',\n",
       " '<1H OCEAN',\n",
       " 'NEAR BAY',\n",
       " '<1H OCEAN',\n",
       " '<1H OCEAN',\n",
       " '<1H OCEAN',\n",
       " '<1H OCEAN',\n",
       " '<1H OCEAN',\n",
       " '<1H OCEAN',\n",
       " '<1H OCEAN',\n",
       " '<1H OCEAN',\n",
       " '<1H OCEAN',\n",
       " '<1H OCEAN',\n",
       " '<1H OCEAN',\n",
       " '<1H OCEAN',\n",
       " '<1H OCEAN',\n",
       " 'INLAND',\n",
       " 'INLAND',\n",
       " 'INLAND',\n",
       " '<1H OCEAN',\n",
       " '<1H OCEAN',\n",
       " 'INLAND',\n",
       " 'INLAND',\n",
       " 'NEAR OCEAN',\n",
       " '<1H OCEAN',\n",
       " '<1H OCEAN',\n",
       " '<1H OCEAN',\n",
       " 'INLAND',\n",
       " 'NEAR BAY',\n",
       " '<1H OCEAN',\n",
       " 'NEAR OCEAN',\n",
       " 'NEAR OCEAN',\n",
       " 'INLAND',\n",
       " 'NEAR BAY',\n",
       " 'NEAR BAY',\n",
       " 'INLAND',\n",
       " '<1H OCEAN',\n",
       " 'NEAR BAY',\n",
       " 'INLAND',\n",
       " '<1H OCEAN',\n",
       " 'INLAND',\n",
       " 'INLAND',\n",
       " '<1H OCEAN',\n",
       " 'NEAR BAY',\n",
       " 'NEAR OCEAN',\n",
       " '<1H OCEAN',\n",
       " '<1H OCEAN',\n",
       " 'NEAR BAY',\n",
       " 'INLAND',\n",
       " '<1H OCEAN',\n",
       " 'INLAND',\n",
       " 'NEAR OCEAN',\n",
       " 'INLAND',\n",
       " '<1H OCEAN',\n",
       " 'NEAR BAY',\n",
       " 'INLAND',\n",
       " 'INLAND',\n",
       " '<1H OCEAN',\n",
       " '<1H OCEAN',\n",
       " 'INLAND',\n",
       " '<1H OCEAN',\n",
       " 'NEAR OCEAN',\n",
       " 'NEAR OCEAN',\n",
       " 'INLAND',\n",
       " '<1H OCEAN',\n",
       " 'INLAND',\n",
       " 'NEAR OCEAN',\n",
       " 'INLAND',\n",
       " 'INLAND',\n",
       " '<1H OCEAN',\n",
       " 'INLAND',\n",
       " 'INLAND',\n",
       " 'INLAND',\n",
       " 'INLAND',\n",
       " 'NEAR OCEAN',\n",
       " 'NEAR OCEAN',\n",
       " '<1H OCEAN',\n",
       " 'INLAND',\n",
       " '<1H OCEAN',\n",
       " '<1H OCEAN',\n",
       " '<1H OCEAN',\n",
       " 'INLAND',\n",
       " 'NEAR BAY',\n",
       " '<1H OCEAN',\n",
       " 'NEAR OCEAN',\n",
       " '<1H OCEAN',\n",
       " '<1H OCEAN',\n",
       " '<1H OCEAN',\n",
       " 'NEAR BAY',\n",
       " 'NEAR OCEAN',\n",
       " 'NEAR OCEAN',\n",
       " '<1H OCEAN',\n",
       " 'NEAR OCEAN',\n",
       " 'INLAND',\n",
       " 'NEAR OCEAN',\n",
       " 'NEAR BAY',\n",
       " 'INLAND',\n",
       " '<1H OCEAN',\n",
       " '<1H OCEAN',\n",
       " '<1H OCEAN',\n",
       " '<1H OCEAN',\n",
       " '<1H OCEAN',\n",
       " '<1H OCEAN',\n",
       " 'INLAND',\n",
       " '<1H OCEAN',\n",
       " 'INLAND',\n",
       " 'INLAND',\n",
       " 'NEAR BAY',\n",
       " '<1H OCEAN',\n",
       " '<1H OCEAN',\n",
       " '<1H OCEAN',\n",
       " '<1H OCEAN',\n",
       " 'INLAND',\n",
       " 'INLAND',\n",
       " 'INLAND',\n",
       " '<1H OCEAN',\n",
       " '<1H OCEAN',\n",
       " '<1H OCEAN',\n",
       " 'INLAND',\n",
       " 'NEAR OCEAN',\n",
       " '<1H OCEAN',\n",
       " 'INLAND',\n",
       " '<1H OCEAN',\n",
       " '<1H OCEAN',\n",
       " 'NEAR OCEAN',\n",
       " 'NEAR BAY',\n",
       " 'INLAND',\n",
       " 'NEAR OCEAN',\n",
       " 'INLAND',\n",
       " '<1H OCEAN',\n",
       " '<1H OCEAN',\n",
       " '<1H OCEAN',\n",
       " 'INLAND',\n",
       " 'NEAR BAY',\n",
       " '<1H OCEAN',\n",
       " 'INLAND',\n",
       " 'NEAR BAY',\n",
       " '<1H OCEAN',\n",
       " '<1H OCEAN',\n",
       " '<1H OCEAN',\n",
       " 'INLAND',\n",
       " '<1H OCEAN',\n",
       " 'INLAND',\n",
       " 'INLAND',\n",
       " '<1H OCEAN',\n",
       " 'NEAR BAY',\n",
       " '<1H OCEAN',\n",
       " 'NEAR OCEAN',\n",
       " '<1H OCEAN',\n",
       " 'INLAND',\n",
       " 'NEAR OCEAN',\n",
       " 'INLAND',\n",
       " 'INLAND',\n",
       " 'NEAR OCEAN',\n",
       " '<1H OCEAN',\n",
       " 'NEAR BAY',\n",
       " '<1H OCEAN',\n",
       " 'INLAND',\n",
       " 'INLAND',\n",
       " '<1H OCEAN',\n",
       " 'NEAR BAY',\n",
       " 'NEAR OCEAN',\n",
       " 'INLAND',\n",
       " '<1H OCEAN',\n",
       " 'NEAR OCEAN',\n",
       " 'INLAND',\n",
       " 'NEAR BAY',\n",
       " '<1H OCEAN',\n",
       " 'NEAR BAY',\n",
       " '<1H OCEAN',\n",
       " '<1H OCEAN',\n",
       " 'INLAND',\n",
       " 'NEAR BAY',\n",
       " 'NEAR BAY',\n",
       " 'NEAR BAY',\n",
       " 'INLAND',\n",
       " '<1H OCEAN',\n",
       " 'INLAND',\n",
       " '<1H OCEAN',\n",
       " '<1H OCEAN',\n",
       " '<1H OCEAN',\n",
       " 'INLAND',\n",
       " 'NEAR OCEAN',\n",
       " '<1H OCEAN',\n",
       " '<1H OCEAN',\n",
       " 'INLAND',\n",
       " 'NEAR BAY',\n",
       " '<1H OCEAN',\n",
       " 'INLAND',\n",
       " '<1H OCEAN',\n",
       " 'INLAND',\n",
       " '<1H OCEAN',\n",
       " 'INLAND',\n",
       " 'INLAND',\n",
       " '<1H OCEAN',\n",
       " 'INLAND',\n",
       " 'NEAR OCEAN',\n",
       " 'INLAND',\n",
       " 'INLAND',\n",
       " '<1H OCEAN',\n",
       " 'INLAND',\n",
       " 'INLAND',\n",
       " 'NEAR OCEAN',\n",
       " 'NEAR OCEAN',\n",
       " '<1H OCEAN',\n",
       " 'INLAND',\n",
       " 'INLAND',\n",
       " '<1H OCEAN',\n",
       " '<1H OCEAN',\n",
       " '<1H OCEAN',\n",
       " '<1H OCEAN',\n",
       " 'INLAND',\n",
       " '<1H OCEAN',\n",
       " 'INLAND',\n",
       " 'INLAND',\n",
       " 'NEAR BAY',\n",
       " '<1H OCEAN',\n",
       " 'INLAND',\n",
       " 'INLAND',\n",
       " '<1H OCEAN',\n",
       " '<1H OCEAN',\n",
       " '<1H OCEAN',\n",
       " 'NEAR OCEAN',\n",
       " 'NEAR BAY',\n",
       " '<1H OCEAN',\n",
       " '<1H OCEAN',\n",
       " 'NEAR BAY',\n",
       " 'INLAND',\n",
       " 'INLAND',\n",
       " '<1H OCEAN',\n",
       " 'INLAND',\n",
       " '<1H OCEAN',\n",
       " 'INLAND',\n",
       " 'NEAR OCEAN',\n",
       " 'INLAND',\n",
       " '<1H OCEAN',\n",
       " '<1H OCEAN',\n",
       " 'INLAND',\n",
       " '<1H OCEAN',\n",
       " 'INLAND',\n",
       " 'NEAR OCEAN',\n",
       " 'INLAND',\n",
       " 'NEAR OCEAN',\n",
       " 'NEAR BAY',\n",
       " 'INLAND',\n",
       " 'INLAND',\n",
       " 'NEAR BAY',\n",
       " 'NEAR OCEAN',\n",
       " '<1H OCEAN',\n",
       " '<1H OCEAN',\n",
       " '<1H OCEAN',\n",
       " 'NEAR OCEAN',\n",
       " '<1H OCEAN',\n",
       " '<1H OCEAN',\n",
       " '<1H OCEAN',\n",
       " 'INLAND',\n",
       " 'NEAR BAY',\n",
       " 'INLAND',\n",
       " '<1H OCEAN',\n",
       " 'NEAR BAY',\n",
       " 'NEAR BAY',\n",
       " 'INLAND',\n",
       " '<1H OCEAN',\n",
       " '<1H OCEAN',\n",
       " '<1H OCEAN',\n",
       " '<1H OCEAN',\n",
       " 'NEAR OCEAN',\n",
       " 'NEAR OCEAN',\n",
       " 'INLAND',\n",
       " 'NEAR BAY',\n",
       " '<1H OCEAN',\n",
       " 'INLAND',\n",
       " 'NEAR BAY',\n",
       " '<1H OCEAN',\n",
       " 'INLAND',\n",
       " '<1H OCEAN',\n",
       " 'INLAND',\n",
       " '<1H OCEAN',\n",
       " '<1H OCEAN',\n",
       " 'INLAND',\n",
       " 'NEAR OCEAN',\n",
       " 'NEAR OCEAN',\n",
       " '<1H OCEAN',\n",
       " 'INLAND',\n",
       " 'NEAR OCEAN',\n",
       " '<1H OCEAN',\n",
       " 'INLAND',\n",
       " 'NEAR OCEAN',\n",
       " '<1H OCEAN',\n",
       " 'NEAR OCEAN',\n",
       " 'INLAND',\n",
       " 'INLAND',\n",
       " 'NEAR OCEAN',\n",
       " 'NEAR OCEAN',\n",
       " '<1H OCEAN',\n",
       " 'INLAND',\n",
       " '<1H OCEAN',\n",
       " '<1H OCEAN',\n",
       " 'NEAR BAY',\n",
       " '<1H OCEAN',\n",
       " '<1H OCEAN',\n",
       " '<1H OCEAN',\n",
       " 'INLAND',\n",
       " '<1H OCEAN',\n",
       " '<1H OCEAN',\n",
       " 'INLAND',\n",
       " '<1H OCEAN',\n",
       " 'INLAND',\n",
       " 'INLAND',\n",
       " 'NEAR OCEAN',\n",
       " '<1H OCEAN',\n",
       " '<1H OCEAN',\n",
       " 'INLAND',\n",
       " 'NEAR BAY',\n",
       " 'NEAR BAY',\n",
       " 'INLAND',\n",
       " 'INLAND',\n",
       " '<1H OCEAN',\n",
       " 'INLAND',\n",
       " 'NEAR OCEAN',\n",
       " '<1H OCEAN',\n",
       " '<1H OCEAN',\n",
       " '<1H OCEAN',\n",
       " 'INLAND',\n",
       " '<1H OCEAN',\n",
       " '<1H OCEAN',\n",
       " 'INLAND',\n",
       " 'INLAND',\n",
       " '<1H OCEAN',\n",
       " '<1H OCEAN',\n",
       " '<1H OCEAN',\n",
       " 'INLAND',\n",
       " 'NEAR OCEAN',\n",
       " '<1H OCEAN',\n",
       " 'INLAND',\n",
       " '<1H OCEAN',\n",
       " 'INLAND',\n",
       " 'INLAND',\n",
       " '<1H OCEAN',\n",
       " 'INLAND',\n",
       " '<1H OCEAN',\n",
       " '<1H OCEAN',\n",
       " 'INLAND',\n",
       " '<1H OCEAN',\n",
       " '<1H OCEAN',\n",
       " 'INLAND',\n",
       " '<1H OCEAN',\n",
       " '<1H OCEAN',\n",
       " '<1H OCEAN',\n",
       " '<1H OCEAN',\n",
       " 'INLAND',\n",
       " 'NEAR BAY',\n",
       " 'INLAND',\n",
       " '<1H OCEAN',\n",
       " '<1H OCEAN',\n",
       " 'INLAND',\n",
       " '<1H OCEAN',\n",
       " 'NEAR OCEAN',\n",
       " '<1H OCEAN',\n",
       " 'INLAND',\n",
       " 'NEAR BAY',\n",
       " '<1H OCEAN',\n",
       " '<1H OCEAN',\n",
       " 'NEAR BAY',\n",
       " '<1H OCEAN',\n",
       " '<1H OCEAN',\n",
       " 'NEAR BAY',\n",
       " '<1H OCEAN',\n",
       " '<1H OCEAN',\n",
       " 'NEAR OCEAN',\n",
       " '<1H OCEAN',\n",
       " '<1H OCEAN',\n",
       " 'NEAR BAY',\n",
       " 'INLAND',\n",
       " '<1H OCEAN',\n",
       " 'NEAR OCEAN',\n",
       " '<1H OCEAN',\n",
       " 'INLAND',\n",
       " '<1H OCEAN',\n",
       " '<1H OCEAN',\n",
       " 'INLAND',\n",
       " '<1H OCEAN',\n",
       " 'INLAND',\n",
       " '<1H OCEAN',\n",
       " 'NEAR OCEAN',\n",
       " 'INLAND',\n",
       " '<1H OCEAN',\n",
       " 'INLAND',\n",
       " '<1H OCEAN',\n",
       " '<1H OCEAN',\n",
       " '<1H OCEAN',\n",
       " '<1H OCEAN',\n",
       " '<1H OCEAN',\n",
       " 'INLAND',\n",
       " 'INLAND',\n",
       " '<1H OCEAN',\n",
       " 'NEAR BAY',\n",
       " 'NEAR OCEAN',\n",
       " '<1H OCEAN',\n",
       " 'INLAND',\n",
       " '<1H OCEAN',\n",
       " '<1H OCEAN',\n",
       " 'NEAR OCEAN',\n",
       " '<1H OCEAN',\n",
       " '<1H OCEAN',\n",
       " '<1H OCEAN',\n",
       " '<1H OCEAN',\n",
       " 'INLAND',\n",
       " '<1H OCEAN',\n",
       " '<1H OCEAN',\n",
       " '<1H OCEAN',\n",
       " 'INLAND',\n",
       " 'NEAR BAY',\n",
       " 'NEAR BAY',\n",
       " '<1H OCEAN',\n",
       " 'NEAR OCEAN',\n",
       " '<1H OCEAN',\n",
       " '<1H OCEAN',\n",
       " 'INLAND',\n",
       " 'INLAND',\n",
       " 'NEAR OCEAN',\n",
       " 'INLAND',\n",
       " 'INLAND',\n",
       " 'NEAR OCEAN',\n",
       " 'NEAR OCEAN',\n",
       " '<1H OCEAN',\n",
       " 'NEAR BAY',\n",
       " '<1H OCEAN',\n",
       " '<1H OCEAN',\n",
       " 'INLAND',\n",
       " 'INLAND',\n",
       " 'INLAND',\n",
       " 'INLAND',\n",
       " 'INLAND',\n",
       " 'NEAR OCEAN',\n",
       " 'NEAR BAY',\n",
       " 'INLAND',\n",
       " '<1H OCEAN',\n",
       " 'INLAND',\n",
       " '<1H OCEAN',\n",
       " '<1H OCEAN',\n",
       " 'INLAND',\n",
       " '<1H OCEAN',\n",
       " '<1H OCEAN',\n",
       " 'NEAR OCEAN',\n",
       " 'NEAR OCEAN',\n",
       " '<1H OCEAN',\n",
       " 'INLAND',\n",
       " '<1H OCEAN',\n",
       " 'NEAR OCEAN',\n",
       " 'NEAR OCEAN',\n",
       " '<1H OCEAN',\n",
       " '<1H OCEAN',\n",
       " '<1H OCEAN',\n",
       " 'INLAND',\n",
       " '<1H OCEAN',\n",
       " 'NEAR OCEAN',\n",
       " 'INLAND',\n",
       " '<1H OCEAN',\n",
       " '<1H OCEAN',\n",
       " '<1H OCEAN',\n",
       " '<1H OCEAN',\n",
       " 'INLAND',\n",
       " 'NEAR BAY',\n",
       " 'INLAND',\n",
       " '<1H OCEAN',\n",
       " '<1H OCEAN',\n",
       " '<1H OCEAN',\n",
       " '<1H OCEAN',\n",
       " 'NEAR BAY',\n",
       " 'NEAR BAY',\n",
       " '<1H OCEAN',\n",
       " '<1H OCEAN',\n",
       " 'NEAR BAY',\n",
       " '<1H OCEAN',\n",
       " 'INLAND',\n",
       " 'INLAND',\n",
       " '<1H OCEAN',\n",
       " 'INLAND',\n",
       " 'INLAND',\n",
       " '<1H OCEAN',\n",
       " 'NEAR OCEAN',\n",
       " '<1H OCEAN',\n",
       " 'INLAND',\n",
       " 'INLAND',\n",
       " 'INLAND',\n",
       " 'NEAR OCEAN',\n",
       " '<1H OCEAN',\n",
       " '<1H OCEAN',\n",
       " 'INLAND',\n",
       " '<1H OCEAN',\n",
       " 'INLAND',\n",
       " 'NEAR BAY',\n",
       " '<1H OCEAN',\n",
       " 'INLAND',\n",
       " 'INLAND',\n",
       " 'INLAND',\n",
       " 'NEAR OCEAN',\n",
       " '<1H OCEAN',\n",
       " '<1H OCEAN',\n",
       " 'INLAND',\n",
       " 'NEAR OCEAN',\n",
       " 'NEAR BAY',\n",
       " '<1H OCEAN',\n",
       " '<1H OCEAN',\n",
       " '<1H OCEAN',\n",
       " 'INLAND',\n",
       " 'NEAR BAY',\n",
       " 'INLAND',\n",
       " 'INLAND',\n",
       " 'INLAND',\n",
       " '<1H OCEAN',\n",
       " '<1H OCEAN',\n",
       " 'NEAR OCEAN',\n",
       " 'INLAND',\n",
       " '<1H OCEAN',\n",
       " '<1H OCEAN',\n",
       " 'INLAND',\n",
       " 'INLAND',\n",
       " 'INLAND',\n",
       " 'NEAR BAY',\n",
       " 'NEAR BAY',\n",
       " 'INLAND',\n",
       " 'NEAR OCEAN',\n",
       " 'INLAND',\n",
       " 'INLAND',\n",
       " 'NEAR OCEAN',\n",
       " 'INLAND',\n",
       " '<1H OCEAN',\n",
       " '<1H OCEAN',\n",
       " 'NEAR BAY',\n",
       " '<1H OCEAN',\n",
       " 'INLAND',\n",
       " '<1H OCEAN',\n",
       " 'INLAND',\n",
       " '<1H OCEAN',\n",
       " 'NEAR BAY',\n",
       " '<1H OCEAN',\n",
       " '<1H OCEAN',\n",
       " 'NEAR OCEAN',\n",
       " 'INLAND',\n",
       " '<1H OCEAN',\n",
       " '<1H OCEAN',\n",
       " 'NEAR OCEAN',\n",
       " '<1H OCEAN',\n",
       " '<1H OCEAN',\n",
       " 'NEAR BAY',\n",
       " '<1H OCEAN',\n",
       " 'NEAR BAY',\n",
       " 'NEAR OCEAN',\n",
       " 'NEAR BAY',\n",
       " '<1H OCEAN',\n",
       " '<1H OCEAN',\n",
       " 'NEAR BAY',\n",
       " '<1H OCEAN',\n",
       " '<1H OCEAN',\n",
       " '<1H OCEAN',\n",
       " 'INLAND',\n",
       " '<1H OCEAN',\n",
       " 'NEAR OCEAN',\n",
       " 'INLAND',\n",
       " 'INLAND',\n",
       " 'NEAR OCEAN',\n",
       " '<1H OCEAN',\n",
       " '<1H OCEAN',\n",
       " 'NEAR BAY',\n",
       " 'NEAR OCEAN',\n",
       " '<1H OCEAN',\n",
       " 'INLAND',\n",
       " '<1H OCEAN',\n",
       " 'INLAND',\n",
       " '<1H OCEAN',\n",
       " '<1H OCEAN',\n",
       " '<1H OCEAN',\n",
       " 'NEAR OCEAN',\n",
       " '<1H OCEAN',\n",
       " 'INLAND',\n",
       " '<1H OCEAN',\n",
       " 'INLAND',\n",
       " 'NEAR OCEAN',\n",
       " 'NEAR OCEAN',\n",
       " '<1H OCEAN',\n",
       " 'INLAND',\n",
       " 'NEAR BAY',\n",
       " 'NEAR OCEAN',\n",
       " '<1H OCEAN',\n",
       " 'INLAND',\n",
       " 'INLAND',\n",
       " 'INLAND',\n",
       " '<1H OCEAN',\n",
       " '<1H OCEAN',\n",
       " 'INLAND',\n",
       " 'NEAR OCEAN',\n",
       " 'NEAR OCEAN',\n",
       " 'INLAND',\n",
       " '<1H OCEAN',\n",
       " '<1H OCEAN',\n",
       " '<1H OCEAN',\n",
       " 'INLAND',\n",
       " '<1H OCEAN',\n",
       " 'NEAR OCEAN',\n",
       " 'NEAR OCEAN',\n",
       " 'INLAND',\n",
       " 'NEAR BAY',\n",
       " 'NEAR OCEAN',\n",
       " 'INLAND',\n",
       " '<1H OCEAN',\n",
       " '<1H OCEAN',\n",
       " '<1H OCEAN',\n",
       " '<1H OCEAN',\n",
       " 'NEAR BAY',\n",
       " 'NEAR OCEAN',\n",
       " 'NEAR BAY',\n",
       " 'INLAND',\n",
       " 'INLAND',\n",
       " 'NEAR BAY',\n",
       " '<1H OCEAN',\n",
       " '<1H OCEAN',\n",
       " 'NEAR OCEAN',\n",
       " 'NEAR OCEAN',\n",
       " '<1H OCEAN',\n",
       " '<1H OCEAN',\n",
       " '<1H OCEAN',\n",
       " 'NEAR BAY',\n",
       " '<1H OCEAN',\n",
       " 'NEAR OCEAN',\n",
       " '<1H OCEAN',\n",
       " '<1H OCEAN',\n",
       " '<1H OCEAN',\n",
       " 'INLAND',\n",
       " 'NEAR OCEAN',\n",
       " '<1H OCEAN',\n",
       " '<1H OCEAN',\n",
       " '<1H OCEAN',\n",
       " 'INLAND',\n",
       " 'NEAR OCEAN',\n",
       " '<1H OCEAN',\n",
       " '<1H OCEAN',\n",
       " '<1H OCEAN',\n",
       " '<1H OCEAN',\n",
       " '<1H OCEAN',\n",
       " '<1H OCEAN',\n",
       " '<1H OCEAN',\n",
       " 'NEAR BAY',\n",
       " 'NEAR OCEAN',\n",
       " '<1H OCEAN',\n",
       " '<1H OCEAN',\n",
       " 'INLAND',\n",
       " 'INLAND',\n",
       " 'INLAND',\n",
       " '<1H OCEAN',\n",
       " ...]"
      ]
     },
     "execution_count": 387,
     "metadata": {},
     "output_type": "execute_result"
    }
   ],
   "source": [
    "list(le.inverse_transform(inputs.ocean_proximity))"
   ]
  },
  {
   "cell_type": "markdown",
   "metadata": {},
   "source": [
    "## Sélection, apprentissage et évaluation du modèle\n",
    "\n",
    "1. Créez un code permettant d’appliquer la régression linéaire sur les données d’apprentissage."
   ]
  },
  {
   "cell_type": "code",
   "execution_count": null,
   "metadata": {},
   "outputs": [],
   "source": []
  },
  {
   "cell_type": "markdown",
   "metadata": {},
   "source": [
    "\n",
    "2. Créez un code qui prédit les classes de la base d’apprentissage.\n",
    "\n",
    "Pour ce faire, utilisez la méthode predict de la classe LinearRegression en donnant comme argument les données d’apprentissage."
   ]
  },
  {
   "cell_type": "code",
   "execution_count": null,
   "metadata": {},
   "outputs": [],
   "source": []
  },
  {
   "cell_type": "markdown",
   "metadata": {},
   "source": [
    "Ensuite, affichez les valeurs cible réelles et celles prédites."
   ]
  },
  {
   "cell_type": "code",
   "execution_count": null,
   "metadata": {},
   "outputs": [],
   "source": []
  },
  {
   "cell_type": "markdown",
   "metadata": {},
   "source": [
    "3. Calculez la mesure RMSE du modèle de la régression linéaire."
   ]
  },
  {
   "cell_type": "code",
   "execution_count": null,
   "metadata": {},
   "outputs": [],
   "source": []
  },
  {
   "cell_type": "markdown",
   "metadata": {},
   "source": [
    "4. Refaites les deux étapes précédentes avec le modèle DecisionTreeRegressor."
   ]
  },
  {
   "cell_type": "code",
   "execution_count": null,
   "metadata": {},
   "outputs": [],
   "source": []
  },
  {
   "cell_type": "markdown",
   "metadata": {},
   "source": [
    "Calculez la mesure RMSE du modèle DecisionTreeRegressor qui existe dans le sous-module tree du module sklearn."
   ]
  },
  {
   "cell_type": "code",
   "execution_count": null,
   "metadata": {},
   "outputs": [],
   "source": []
  },
  {
   "cell_type": "markdown",
   "metadata": {},
   "source": [
    "Pour plus d’informations sur les arbres de décision:\n",
    "\n",
    "http://cedric.cnam.fr/vertigo/cours/ml2/tpArbresDecision.html\n",
    "\n",
    "5. Même si la valeur de RMSE de DecisionTreeRegressor est égale à 0, on ne peut pas conclure que ce modèle fonctionne parfaitement sur la base d’apprentissage.\n",
    "\n",
    "Pour s’assurer, on va répartir la base d’apprentissage en base d’apprentissage et en base de test en utilisant la méthode 10-fold cross-validation.\n",
    "\n",
    "Pour ce faire, utilisez la fonction cross_val_score du sousmodule model_selection du module sklearn."
   ]
  },
  {
   "cell_type": "code",
   "execution_count": null,
   "metadata": {},
   "outputs": [],
   "source": []
  },
  {
   "cell_type": "markdown",
   "metadata": {},
   "source": [
    "\n",
    "Ensuite, affichez :\n",
    "- La valeur MSE de chaque fold"
   ]
  },
  {
   "cell_type": "code",
   "execution_count": null,
   "metadata": {},
   "outputs": [],
   "source": []
  },
  {
   "cell_type": "markdown",
   "metadata": {},
   "source": [
    "- La moyenne des MSE de tous les folds"
   ]
  },
  {
   "cell_type": "code",
   "execution_count": null,
   "metadata": {},
   "outputs": [],
   "source": []
  },
  {
   "cell_type": "markdown",
   "metadata": {},
   "source": [
    "- L’écart type de tous les folds"
   ]
  },
  {
   "cell_type": "code",
   "execution_count": null,
   "metadata": {},
   "outputs": [],
   "source": []
  },
  {
   "cell_type": "markdown",
   "metadata": {},
   "source": [
    "\n",
    "6. Suivre les étapes de la question précédente sur le modèle de la régression linéaire."
   ]
  },
  {
   "cell_type": "code",
   "execution_count": null,
   "metadata": {},
   "outputs": [],
   "source": []
  },
  {
   "cell_type": "markdown",
   "metadata": {},
   "source": [
    "\n",
    "Ensuite, comparez les résultats avec ceux du DecisionTreeRegressor."
   ]
  },
  {
   "cell_type": "code",
   "execution_count": null,
   "metadata": {},
   "outputs": [],
   "source": []
  },
  {
   "cell_type": "markdown",
   "metadata": {},
   "source": [
    "\n",
    "Quel modèle présente un problème d’apprentissage ?"
   ]
  },
  {
   "cell_type": "code",
   "execution_count": null,
   "metadata": {},
   "outputs": [],
   "source": []
  },
  {
   "cell_type": "markdown",
   "metadata": {},
   "source": [
    "\n",
    "pourquoi ?"
   ]
  },
  {
   "cell_type": "code",
   "execution_count": null,
   "metadata": {},
   "outputs": [],
   "source": []
  },
  {
   "cell_type": "markdown",
   "metadata": {},
   "source": [
    "## Fine-Tunning\n",
    "\n",
    "### Grid Search\n",
    "Dans cette, partie nous allons chercher les paramètres du modèle de régression qui donnent les meilleurs résultats\n",
    "\n",
    "1. Écrire un code qui :\n",
    "- Crée un objet de la classe RandomForestRegressor\n",
    "\n",
    "Pour plus d’informations sur RandomForestRegressor:\n",
    "https://medium.com/datadriveninvestor/random-forest-regression-9871bc9a25eb\n",
    "\n",
    "- Crée la variable suivante :\n",
    "param_grid = [′n_estimators′ : [3, 10, 30],′ max_ f eatures′ : [2, 4, 6, 8]]\n",
    "\n",
    "Cette variable contient un dictionnaire avec quelques valeurs de deux paramètres de la\n",
    "méthode RandomForestRegressor.\n",
    "\n",
    "Au total, 4x3=12 combinaisons vont être testées."
   ]
  },
  {
   "cell_type": "code",
   "execution_count": null,
   "metadata": {},
   "outputs": [],
   "source": []
  },
  {
   "cell_type": "code",
   "execution_count": null,
   "metadata": {},
   "outputs": [],
   "source": []
  }
 ],
 "metadata": {
  "jupytext": {
   "encoding": "# -*- coding: utf-8 -*-",
   "formats": "ipynb,py:hydrogen"
  },
  "kernelspec": {
   "display_name": "Python 3",
   "language": "python",
   "name": "python3"
  },
  "language_info": {
   "codemirror_mode": {
    "name": "ipython",
    "version": 3
   },
   "file_extension": ".py",
   "mimetype": "text/x-python",
   "name": "python",
   "nbconvert_exporter": "python",
   "pygments_lexer": "ipython3",
   "version": "3.8.3"
  }
 },
 "nbformat": 4,
 "nbformat_minor": 4
}
