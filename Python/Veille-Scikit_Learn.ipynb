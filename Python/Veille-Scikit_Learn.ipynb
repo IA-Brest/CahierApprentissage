{
 "cells": [
  {
   "cell_type": "markdown",
   "metadata": {},
   "source": [
    "# Définition"
   ]
  },
  {
   "cell_type": "markdown",
   "metadata": {},
   "source": [
    "Bibliothèque permettant de déployer des outils statistiques utiles pour le machine learning dans du code python ; basé sur Numpy et Scipy."
   ]
  },
  {
   "cell_type": "markdown",
   "metadata": {},
   "source": [
    "# Analyse prédictive"
   ]
  },
  {
   "cell_type": "code",
   "execution_count": null,
   "metadata": {},
   "outputs": [],
   "source": []
  },
  {
   "cell_type": "markdown",
   "metadata": {},
   "source": [
    "## Importation des données"
   ]
  },
  {
   "cell_type": "code",
   "execution_count": null,
   "metadata": {},
   "outputs": [
    {
     "name": "stdout",
     "output_type": "stream",
     "text": [
      "     pregnant  diastolic  triceps  bodymass  pedigree  age  plasma  serum  \\\n",
      "0           6         72       35      33.6     0.627   50     148      0   \n",
      "1           1         66       29      26.6     0.351   31      85      0   \n",
      "2           8         64        0      23.3     0.672   32     183      0   \n",
      "3           1         66       23      28.1     0.167   21      89     94   \n",
      "4           0         40       35      43.1     2.288   33     137    168   \n",
      "..        ...        ...      ...       ...       ...  ...     ...    ...   \n",
      "763        10         76       48      32.9     0.171   63     101    180   \n",
      "764         2         70       27      36.8     0.340   27     122      0   \n",
      "765         5         72       23      26.2     0.245   30     121    112   \n",
      "766         1         60        0      30.1     0.349   47     126      0   \n",
      "767         1         70       31      30.4     0.315   23      93      0   \n",
      "\n",
      "      diabete  \n",
      "0    positive  \n",
      "1    negative  \n",
      "2    positive  \n",
      "3    negative  \n",
      "4    positive  \n",
      "..        ...  \n",
      "763  negative  \n",
      "764  negative  \n",
      "765  negative  \n",
      "766  positive  \n",
      "767  negative  \n",
      "\n",
      "[768 rows x 9 columns]\n",
      "(768, 9)\n",
      "Index(['pregnant', 'diastolic', 'triceps', 'bodymass', 'pedigree', 'age',\n",
      "       'plasma', 'serum', 'diabete'],\n",
      "      dtype='object')\n",
      "pregnant       int64\n",
      "diastolic      int64\n",
      "triceps        int64\n",
      "bodymass     float64\n",
      "pedigree     float64\n",
      "age            int64\n",
      "plasma         int64\n",
      "serum          int64\n",
      "diabete       object\n",
      "dtype: object\n"
     ]
    }
   ],
   "source": [
    "#utilisation de la librairie Pandas spécialisée - entres autres - dans la manipulation des données\n",
    "import pandas as pd\n",
    "from sklearn import datasets\n",
    "pima = pd.read_table(\"http://eric.univ-lyon2.fr/~rrado/files/pima.txt\",sep=\"\\t\",header=0)\n",
    "# pima = datasets.load_diabetes(return_X_y=False, as_frame=False)\n",
    "\n",
    "print(pima)\n",
    "\n",
    "#dimensions\n",
    "print(pima.shape)\n",
    "\n",
    "#liste des colonnes\n",
    "print(pima.columns)\n",
    "\n",
    "#liste des colonnes et leurs types\n",
    "print(pima.dtypes)"
   ]
  },
  {
   "cell_type": "markdown",
   "metadata": {},
   "source": [
    "# Subdivision en échantillons d'apprentissage et de test"
   ]
  },
  {
   "cell_type": "code",
   "execution_count": null,
   "metadata": {},
   "outputs": [
    {
     "name": "stdout",
     "output_type": "stream",
     "text": [
      "(468, 8) (300, 8) (468,) (300,)\n"
     ]
    }
   ],
   "source": [
    "#transformation en matrice numpy\n",
    "data = pima.values\n",
    "\n",
    "#X matrice des var. explicatives\n",
    "X = data[:,0:8]\n",
    "\n",
    "#y vecteur de la var. à prédire\n",
    "y = data[:,8]\n",
    "\n",
    "#utilisation du module model_selection de scikit-learn (sklearn)\n",
    "from sklearn import model_selection\n",
    "\n",
    "#subdivision des données – éch.test = 300 ; éch.app = 768 – éch.test = 468\n",
    "X_app,X_test,y_app,y_test = model_selection.train_test_split(X,y,test_size = 300,random_state=0)\n",
    "\n",
    "print(X_app.shape,X_test.shape,y_app.shape,y_test.shape)"
   ]
  },
  {
   "cell_type": "markdown",
   "metadata": {},
   "source": [
    "## Construction du modèle sur l’échantillon d’apprentissage"
   ]
  },
  {
   "cell_type": "code",
   "execution_count": null,
   "metadata": {},
   "outputs": [
    {
     "name": "stdout",
     "output_type": "stream",
     "text": [
      "[[ 8.75153769e-02 -1.59511103e-02  1.70428483e-03  5.18609374e-02\n",
      "   5.34696503e-01  1.24335202e-02  2.40115458e-02 -2.91586161e-04]] [-5.13527961]\n"
     ]
    }
   ],
   "source": [
    "\n",
    "#à partir du module linear_model du package sklearn\n",
    "#importer la classe LogisticRegression\n",
    "from sklearn.linear_model import LogisticRegression\n",
    "\n",
    "#création d'une instance de la classe\n",
    "lr = LogisticRegression(solver=\"liblinear\")\n",
    "\n",
    "#exécution de l'instance sur les données d'apprentissage\n",
    "#c.à-d. construction du modèle prédictif\n",
    "modele = lr.fit(X_app,y_app)\n",
    "\n",
    "#les sorties sont très pauvres à la différence des logiciels de stat\n",
    "#les coefficients...\n",
    "print(modele.coef_,modele.intercept_)"
   ]
  },
  {
   "cell_type": "markdown",
   "metadata": {},
   "source": [
    "## Prédiction et évaluation sur l’échantillon test"
   ]
  },
  {
   "cell_type": "code",
   "execution_count": null,
   "metadata": {},
   "outputs": [
    {
     "name": "stdout",
     "output_type": "stream",
     "text": [
      "[[184  17]\n",
      " [ 45  54]]\n",
      "0.7933333333333333\n",
      "0.20666666666666667\n",
      "0.5454545454545454\n"
     ]
    }
   ],
   "source": [
    "#prediction sur l'échantillon test\n",
    "y_pred = modele.predict(X_test)\n",
    "\n",
    "#importation de metrics - utilisé pour les mesures de performances\n",
    "from sklearn import metrics\n",
    "\n",
    "#matrice de confusion\n",
    "#confrontation entre Y obs. sur l’éch. test et la prédiction\n",
    "cm = metrics.confusion_matrix(y_test,y_pred)\n",
    "print(cm)\n",
    "\n",
    "#taux de succès\n",
    "acc = metrics.accuracy_score(y_test,y_pred)\n",
    "print(acc) # 0.793 = (184 + 54)/ (184 + 17 + 45 + 54)\n",
    "\n",
    "#taux d'erreur\n",
    "err = 1.0 - acc\n",
    "print(err) # 0.206 = 1.0 – 0.793\n",
    "\n",
    "#sensibilité (ou rappel)\n",
    "se = metrics.recall_score(y_test,y_pred,pos_label='positive')\n",
    "print(se) # 0.545 = 54 / (45+ 54)"
   ]
  },
  {
   "cell_type": "markdown",
   "metadata": {},
   "source": [
    "## Construction de sa propre mesure de performance (ex. Spécificité)"
   ]
  },
  {
   "cell_type": "code",
   "execution_count": null,
   "metadata": {},
   "outputs": [
    {
     "name": "stdout",
     "output_type": "stream",
     "text": [
      "0.9154228855721394\n"
     ]
    }
   ],
   "source": [
    "#écrire sa propre func. d'éval - ex. specificité\n",
    "def specificity(y,y_hat):\n",
    "    #matrice de confusion – un objet numpy.ndarray\n",
    "    mc = metrics.confusion_matrix(y,y_hat)\n",
    "    #\"negative\" est sur l'indice 0 dans la matrice\n",
    "    import numpy\n",
    "    res = mc[0,0]/numpy.sum(mc[0,:])\n",
    "    #retour\n",
    "    return res\n",
    "\n",
    "#la rendre utilisable - transformation en objet scorer\n",
    "specificite = metrics.make_scorer(specificity,greater_is_better=True)\n",
    "\n",
    "#utilisation de l’objet scorer\n",
    "#remarque : modele est le modèle élaboré sur l’éch. d’apprentissage\n",
    "sp = specificite(modele,X_test,y_test)\n",
    "print(sp) # 0.915 = 184 / (184 + 17)"
   ]
  },
  {
   "cell_type": "markdown",
   "metadata": {},
   "source": [
    "# Pourquoi la validation croisée"
   ]
  },
  {
   "cell_type": "code",
   "execution_count": null,
   "metadata": {},
   "outputs": [
    {
     "name": "stdout",
     "output_type": "stream",
     "text": [
      "[[ 1.17087631e-01 -1.68947770e-02  7.46053001e-04  5.97221654e-02\n",
      "   6.81392866e-01  7.21999666e-03  2.83788475e-02 -6.42978367e-04]] [-5.88988049]\n",
      "[0.74025974 0.75324675 0.79220779 0.72727273 0.74025974 0.74025974\n",
      " 0.81818182 0.79220779 0.73684211 0.82894737]\n",
      "0.7669685577580314\n"
     ]
    }
   ],
   "source": [
    "#importer la classe LogisticRegression\n",
    "from sklearn.linear_model import LogisticRegression\n",
    "\n",
    "#création d'une instance de la classe\n",
    "lr = LogisticRegression(solver=\"liblinear\")\n",
    "\n",
    "#exécution de l'instance sur la totalité des données (X,y)\n",
    "modele_all = lr.fit(X,y)\n",
    "\n",
    "#affichage\n",
    "print(modele_all.coef_,modele_all.intercept_)# [[  1.17056955e-01  -1.69020125e-02   7.53362852e-04   5.96780492e-02 6.77559538e-01   7.21222074e-03   2.83668010e-02  -6.41169185e-04]] [-5.8844014]\n",
    "\n",
    "# !!! Les coefficients sont différents de ceux estimés sur l’éch. d’apprentissage (on a plus d’obs. ici) !!!\n",
    "#utilisation du module model_selection\n",
    "from sklearn import model_selection\n",
    "\n",
    "#évaluation en validation croisée : 10 cross-validation\n",
    "succes = model_selection.cross_val_score(lr,X,y,cv=10,scoring='accuracy')\n",
    "\n",
    "#détail des itérations\n",
    "print(succes)\n",
    "\n",
    "#moyenne des taux de succès = estimation du taux de succès en CV\n",
    "print(succes.mean()) # 0.767"
   ]
  },
  {
   "cell_type": "markdown",
   "metadata": {},
   "source": [
    "# Scoring - Ciblage"
   ]
  },
  {
   "cell_type": "code",
   "execution_count": null,
   "metadata": {},
   "outputs": [],
   "source": [
    "#classe Régression Logistique\n",
    "from sklearn.linear_model import LogisticRegression\n",
    "\n",
    "#création d'une instance de la classe\n",
    "lr = LogisticRegression(solver=\"liblinear\")\n",
    "\n",
    "#modélisation sur les données d'apprentissage\n",
    "modele = lr.fit(X_app,y_app)\n",
    "\n",
    "#calcul des probas d'affectation sur ech. test\n",
    "probas = lr.predict_proba(X_test)\n",
    "\n",
    "#score de 'presence'\n",
    "score = probas[:,1] # [0.86238322  0.21334963  0.15895063 ...]\n",
    "\n",
    "#transf. en 0/1 de Y_test\n",
    "pos = pandas.get_dummies(y_test).values\n",
    "\n",
    "#on ne récupère que la 2è colonne (indice 1)\n",
    "pos = pos[:,1] # [ 1  0  0  1  0  0  1  1 ...]\n",
    "\n",
    "#nombre total de positif\n",
    "import numpy\n",
    "npos = numpy.sum(pos) # 99 – il y a 99 ind. ‘’positifs’’  dans l’échantillon test"
   ]
  },
  {
   "cell_type": "code",
   "execution_count": null,
   "metadata": {},
   "outputs": [],
   "source": [
    "#index pour tri selon le score croissant\n",
    "index = numpy.argsort(score) # [ 55  45  265  261 ... 11  255  159]\n",
    "\n",
    "#inverser pour score décroissant – on s’intéresse à forte proba. en priorité\n",
    "index = index[::-1] # [ 159  255  11 ... 261  265  45  55 ]\n",
    "\n",
    "#tri des individus (des valeurs 0/1)\n",
    "sort_pos = pos[index] # [ 1  1  1  1  1  0  1  1 ...]\n",
    "\n",
    "#somme cumulée\n",
    "cpos = numpy.cumsum(sort_pos) # [ 1  2  3  4  5  5  6 7 ... 99]\n",
    "\n",
    "#rappel\n",
    "rappel = cpos/npos # [ 1/99  2/99  3/99  4/99  5/99  5/99  6/99  7/99 ... 99/99]\n",
    "\n",
    "#nb. obs ech.test\n",
    "n = y_test.shape[0] # 300, il y a 300 ind. dans l’éch. test\n",
    "\n",
    "#taille de cible – séquence de valeurs de 1 à 300 avec un pas de 1\n",
    "taille = numpy.arange(start=1,stop=301,step=1) # [1  2  3  4  5  ...  300]\n",
    "\n",
    "#passer en proportion\n",
    "taille = taille / n # [ 1/300  2/300  3/300 ... 300/300 ]"
   ]
  },
  {
   "cell_type": "code",
   "execution_count": null,
   "metadata": {},
   "outputs": [
    {
     "data": {
      "image/png": "[encoded data removed]",
      "text/plain": [
       "<Figure size 432x288 with 1 Axes>"
      ]
     },
     "metadata": {
      "needs_background": "light"
     },
     "output_type": "display_data"
    }
   ],
   "source": [
    "#graphique avec matplotlib\n",
    "import matplotlib.pyplot as plt\n",
    "\n",
    "#titre et en-têtes\n",
    "plt.title('Courbe de gain')\n",
    "plt.xlabel('Taille de cible')\n",
    "plt.ylabel('Rappel')\n",
    "\n",
    "#limites en abscisse et ordonnée\n",
    "plt.xlim(0,1)\n",
    "plt.ylim(0,1)\n",
    "\n",
    "#astuce pour tracer la diagonale\n",
    "plt.scatter(taille,taille,marker='.',color='blue')\n",
    "\n",
    "#insertion du couple (taille, rappel)\n",
    "plt.scatter(taille,rappel,marker='.',color='red')\n",
    "\n",
    "#affichage\n",
    "plt.show()"
   ]
  },
  {
   "cell_type": "markdown",
   "metadata": {},
   "source": [
    "# Grid Search"
   ]
  },
  {
   "cell_type": "code",
   "execution_count": null,
   "metadata": {},
   "outputs": [
    {
     "name": "stdout",
     "output_type": "stream",
     "text": [
      "[[184  17]\n",
      " [ 57  42]]\n",
      "0.7533333333333333\n"
     ]
    }
   ],
   "source": [
    "#svm\n",
    "from sklearn import svm\n",
    "\n",
    "#par défaut un noyau RBF et C = 1.0\n",
    "mvs = svm.SVC()\n",
    "\n",
    "#modélisation\n",
    "modele2 = mvs.fit(X_app,y_app)\n",
    "\n",
    "#prédiction ech. test\n",
    "y_pred2 = modele2.predict(X_test)\n",
    "\n",
    "#matrice de confusion\n",
    "print(metrics.confusion_matrix(y_test,y_pred2))\n",
    "\n",
    "#succès en test\n",
    "print(metrics.accuracy_score(y_test,y_pred2)) # 0.67"
   ]
  },
  {
   "cell_type": "code",
   "execution_count": null,
   "metadata": {},
   "outputs": [
    {
     "name": "stdout",
     "output_type": "stream",
     "text": [
      "                           params  mean_test_score\n",
      "0     {'C': 0.1, 'kernel': 'rbf'}         0.647449\n",
      "1  {'C': 0.1, 'kernel': 'linear'}         0.762755\n",
      "2       {'C': 1, 'kernel': 'rbf'}         0.749989\n",
      "3    {'C': 1, 'kernel': 'linear'}         0.762755\n",
      "4      {'C': 10, 'kernel': 'rbf'}         0.728552\n",
      "5   {'C': 10, 'kernel': 'linear'}         0.760604\n",
      "{'C': 0.1, 'kernel': 'linear'}\n",
      "0.7627545184168383\n",
      "0.7866666666666666\n"
     ]
    }
   ],
   "source": [
    "from sklearn import model_selection\n",
    "\n",
    "#combinaisons de paramètres à évaluer\n",
    "parametres = [{'C':[0.1,1,10],'kernel':['rbf','linear']}]\n",
    "\n",
    "#évaluation en validation croisée de 3 x 2 = 6 configurations\n",
    "#accuracy sera le critère à utiliser pour sélectionner la meilleure config\n",
    "#mvs est l’instance de la classe svm.SVC (cf. page précédente)\n",
    "grid = model_selection.GridSearchCV(estimator=mvs,param_grid=parametres,scoring='accuracy')\n",
    "\n",
    "#lancer la recherche – attention, gourmand en calculs\n",
    "grille = grid.fit(X_app,y_app)\n",
    "\n",
    "#résultat pour chaque combinaison\n",
    "print(pandas.DataFrame.from_dict(grille.cv_results_).loc[:,[\"params\",\"mean_test_score\"]]) \n",
    "\n",
    "#meilleur paramétrage\n",
    "print(grille.best_params_) # {‘C’ : 10, ‘kernel’ : ‘linear’}\n",
    "\n",
    "#meilleur performance – estimée en interne par validation croisée\n",
    "print(grille.best_score_) # 0.7564\n",
    "\n",
    "#prédiction avec le modèle « optimal » c.-à-d. {‘C’ : 10, ‘kernel’ : ‘linear’}\n",
    "y_pred3 = grille.predict(X_test)\n",
    "\n",
    "#taux de succès en test\n",
    "print(metrics.accuracy_score(y_test,y_pred3)) # 0.7833, on se rapproche de la rég. logistique"
   ]
  },
  {
   "cell_type": "markdown",
   "metadata": {},
   "source": [
    "# Sélection de variables"
   ]
  },
  {
   "cell_type": "code",
   "execution_count": null,
   "metadata": {},
   "outputs": [
    {
     "name": "stdout",
     "output_type": "stream",
     "text": [
      "4\n",
      "[ True False False  True  True False  True False]\n",
      "[1 2 4 1 1 3 1 5]\n"
     ]
    }
   ],
   "source": [
    "#importer la classe LogisticRegression\n",
    "from sklearn.linear_model import LogisticRegression\n",
    "\n",
    "#création d'une instance de la classe\n",
    "lr = LogisticRegression(solver=\"liblinear\")\n",
    "\n",
    "#algorithme de sélection de var.\n",
    "from sklearn.feature_selection import RFE\n",
    "selecteur = RFE(estimator=lr)\n",
    "\n",
    "#lancer la recherche\n",
    "sol = selecteur.fit(X_app,y_app)\n",
    "\n",
    "#nombre de var. sélectionnées\n",
    "print(sol.n_features_) # 4 →4 = 8 / 2 variables sélectionnées\n",
    "\n",
    "#liste des variables sélectionnées\n",
    "print(sol.support_) # [True False False True True False True False ]\n",
    "\n",
    "#ordre de suppression\n",
    "print(sol.ranking_) # [1  2  4  1  1  3  1  5]"
   ]
  },
  {
   "cell_type": "code",
   "execution_count": null,
   "metadata": {},
   "outputs": [
    {
     "name": "stdout",
     "output_type": "stream",
     "text": [
      "(468, 4)\n",
      "(300, 4)\n",
      "0.7866666666666666\n"
     ]
    }
   ],
   "source": [
    "#réduction de la base d'app. aux var. sélectionnées\n",
    "#en utilisant le filtre booléen sol.support_\n",
    "X_new_app = X_app[:,sol.support_]\n",
    "print(X_new_app.shape) # (468, 4) →4 variables restantes\n",
    "\n",
    "#construction du modèle sur les explicatives sélectionnées\n",
    "modele_sel = lr.fit(X_new_app,y_app)\n",
    "\n",
    "#réduction de la base test aux mêmes variables\n",
    "X_new_test = X_test[:,sol.support_]\n",
    "print(X_new_test.shape) # (300, 4)\n",
    "\n",
    "#prédiction du modèle réduit sur l’éch. test\n",
    "y_pred_sel = modele_sel.predict(X_new_test)\n",
    "\n",
    "#évaluation\n",
    "print(metrics.accuracy_score(y_test,y_pred_sel)) # 0.787"
   ]
  },
  {
   "cell_type": "code",
   "execution_count": null,
   "metadata": {},
   "outputs": [],
   "source": []
  },
  {
   "cell_type": "code",
   "execution_count": null,
   "metadata": {},
   "outputs": [],
   "source": []
  },
  {
   "cell_type": "code",
   "execution_count": null,
   "metadata": {},
   "outputs": [],
   "source": []
  },
  {
   "cell_type": "code",
   "execution_count": null,
   "metadata": {},
   "outputs": [],
   "source": []
  }
 ],
 "metadata": {
  "kernelspec": {
   "display_name": "Python 3",
   "language": "python",
   "name": "python3"
  },
  "language_info": {
   "codemirror_mode": {
    "name": "ipython",
    "version": 3
   },
   "file_extension": ".py",
   "mimetype": "text/x-python",
   "name": "python",
   "nbconvert_exporter": "python",
   "pygments_lexer": "ipython3",
   "version": "3.10.0"
  }
 },
 "nbformat": 4,
 "nbformat_minor": 4
}
