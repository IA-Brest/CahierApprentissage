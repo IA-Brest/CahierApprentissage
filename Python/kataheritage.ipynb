{
 "cells": [
  {
   "cell_type": "markdown",
   "metadata": {},
   "source": [
    "# Kata POO avancé\n",
    "\n",
    "Voici des exercices pour aller plus loin dans la programmation orientée objet."
   ]
  },
  {
   "cell_type": "markdown",
   "metadata": {},
   "source": [
    "## La classe Animal\n",
    "\n",
    "Créez une classe Animal, qui a pour attribut espèce, initialisé dans le constructeur à partir d'un paramétre. Cet attribut doit être privé.\n",
    "\n",
    "Ajoutez une méthode get_espece() qui retourne la valeur de l'attribut espèce. Elle doit être privée. Ajoutez une propriété qui retourne la valeur de l'attribut espèce.\n",
    "\n",
    "Ajoutez une méthode crier, qui prend en paramétre un chaine, et qui retourn ce paramétre répété 3 fois (par exemple : paramétre = ha, retour = ha ha ha )\n"
   ]
  },
  {
   "cell_type": "code",
   "execution_count": 43,
   "metadata": {
    "lines_to_next_cell": 1
   },
   "outputs": [],
   "source": [
    "class Animal:\n",
    "    def __init__(self, espece):\n",
    "        self.__espece = espece\n",
    "\n",
    "    def get_espece(self):\n",
    "        \"\"\"Valeur de l'attribut espèce\n",
    "        :returns: espece\n",
    "\n",
    "        \"\"\"\n",
    "        return self.__espece\n",
    "\n",
    "    def crier(self, cri: str) -> str:\n",
    "        \"\"\"Retourne 3 fois le cri\n",
    "\n",
    "        :cri: string\n",
    "        :returns: string\n",
    "\n",
    "        \"\"\"\n",
    "        return \" \".join([cri, cri, cri])"
   ]
  },
  {
   "cell_type": "markdown",
   "metadata": {},
   "source": [
    "## La classe chien\n",
    "\n",
    "Créez une classe Chien qui hérite de la classe Animal. Le constructeur initialise un nom à partir d'un paramétre et initialise l'espèce, valeur \"chien\", en faisant appel au constructeur de la classe Animal.\n",
    "\n",
    "Ajoutez la méthode aboyer() qui retourne Wouaf Wouaf Wouaf, en faisant appel à la méthode parente crier()"
   ]
  },
  {
   "cell_type": "code",
   "execution_count": 44,
   "metadata": {
    "lines_to_next_cell": 1
   },
   "outputs": [],
   "source": [
    "class Chien(Animal):\n",
    "    def __init__(self, nom: str):\n",
    "        super().__init__(\"chien\")\n",
    "        self.nom = nom\n",
    "\n",
    "    def aboyer(self) -> str:\n",
    "        \"\"\"Aboye\n",
    "\n",
    "        :returns: str\n",
    "\n",
    "        \"\"\"\n",
    "        return self.crier(\"Wouaf\")"
   ]
  },
  {
   "cell_type": "markdown",
   "metadata": {},
   "source": [
    "## Une instance de Chien\n",
    "\n",
    "Ecrivez le code principal qui créée une instance de Chien, ayant pour nom 'Médor', qui affiche son espèce dans la console, ainsi que ses aboyements."
   ]
  },
  {
   "cell_type": "code",
   "execution_count": 45,
   "metadata": {
    "lines_to_next_cell": 1
   },
   "outputs": [
    {
     "name": "stdout",
     "output_type": "stream",
     "text": [
      "chien\n",
      "Wouaf Wouaf Wouaf\n"
     ]
    }
   ],
   "source": [
    "\n",
    "medor = Chien(\"Médor\")\n",
    "\n",
    "print(medor.get_espece())\n",
    "print(medor.aboyer())"
   ]
  },
  {
   "cell_type": "markdown",
   "metadata": {},
   "source": [
    "## Une classe Doberman\n",
    "\n",
    "Créez une classe Doberman qui hérite de la classe Chien. Comme pour la classe parente, vous devez initialiser un attribut nom et un attribut espece. Initialisez aussi un attribut race (ici, doberman).\n",
    "\n",
    "Ecrivez une méthode decrire() qui retourne l'espèce, le nom et la race. Ecrire une méthode qui fait aboyer le doberman ( qui fait 3 fois \"WOUAF\")"
   ]
  },
  {
   "cell_type": "code",
   "execution_count": 46,
   "metadata": {
    "lines_to_next_cell": 1
   },
   "outputs": [],
   "source": [
    "class Doberman(Chien):\n",
    "    def __init__(self, nom):\n",
    "        super().__init__(nom)\n",
    "        self.race = \"Doberman\"\n",
    "\n",
    "    def decrire(self) -> str:\n",
    "        \"\"\"Return espece, nom et race\n",
    "\n",
    "        :returns: str\n",
    "\n",
    "        \"\"\"\n",
    "        return(f\"{self.get_espece} {self.nom} {self.race}\")\n",
    "\n",
    "    def aboyer(self) -> str:\n",
    "        \"\"\"Aboye\n",
    "\n",
    "        :returns: str\n",
    "\n",
    "        \"\"\"\n",
    "        return self.crier(\"WOUAF\")"
   ]
  },
  {
   "cell_type": "markdown",
   "metadata": {},
   "source": [
    "## Une instance de Doberman\n",
    "\n",
    "Dans votre code principal, créez une instance de Doberman, avec pour nom \"Droopy\". Affichez dans la console sa description et ses aboyements."
   ]
  },
  {
   "cell_type": "code",
   "execution_count": 47,
   "metadata": {},
   "outputs": [
    {
     "name": "stdout",
     "output_type": "stream",
     "text": [
      "<bound method Animal.get_espece of <__main__.Doberman object at 0x000001C1014737F0>> Droopy Doberman\n",
      "WOUAF WOUAF WOUAF\n"
     ]
    }
   ],
   "source": [
    "\n",
    "droopy = Doberman(\"Droopy\")\n",
    "print(droopy.decrire())\n",
    "print(droopy.aboyer())"
   ]
  },
  {
   "cell_type": "markdown",
   "metadata": {},
   "source": [
    "## Une classe Ornithorynque\n",
    "\n",
    "En vous inspirant de la classe Chien, créez une classe Ornithorynque qui hérite d'Animal."
   ]
  },
  {
   "cell_type": "code",
   "execution_count": null,
   "metadata": {},
   "outputs": [],
   "source": []
  },
  {
   "cell_type": "markdown",
   "metadata": {},
   "source": [
    "## Un petit zoo\n",
    "\n",
    "Dans le code principal, créez une collection d'objet, qui contient une instance de Chien, une instance de Doberman et une d'Onithorynque. Faite une boucle pour afficher les espèces de tous ces animaux."
   ]
  },
  {
   "cell_type": "code",
   "execution_count": null,
   "metadata": {},
   "outputs": [],
   "source": []
  },
  {
   "cell_type": "markdown",
   "metadata": {},
   "source": [
    "## Pour aller plus loin\n",
    "\n",
    "Modifiez la classe Animal, pour que espèce deviennent une propriété en lecture seule.\n",
    "\n",
    "Ajoutez sur la classe Animal, une variable de classe, qui s'incrémente à chaque animal instancié.\n",
    "\n",
    "Créez une classe Zoo qui contient une collection d'objets de type Animal. Cette classe contient une méthode qui affiche toute les espèces du Zoo et une méthode qui affiche le nombre d'animal dans le Zoo.\n",
    "\n",
    "Vous pouvez aussi déclarer Animal comme une classe abstraite : [classe abstraite en Python.](https://pythonforge.com/classes-abstraites-en-python/)"
   ]
  },
  {
   "cell_type": "code",
   "execution_count": null,
   "metadata": {},
   "outputs": [],
   "source": []
  }
 ],
 "metadata": {
  "jupytext": {
   "encoding": "# -*- coding: utf-8 -*-",
   "formats": "ipynb,py:percent,md"
  },
  "kernelspec": {
   "display_name": "Python 3",
   "language": "python",
   "name": "python3"
  },
  "language_info": {
   "codemirror_mode": {
    "name": "ipython",
    "version": 3
   },
   "file_extension": ".py",
   "mimetype": "text/x-python",
   "name": "python",
   "nbconvert_exporter": "python",
   "pygments_lexer": "ipython3",
   "version": "3.8.3"
  }
 },
 "nbformat": 4,
 "nbformat_minor": 4
}
