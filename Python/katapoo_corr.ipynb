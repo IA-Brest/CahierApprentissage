{
 "cells": [
  {
   "cell_type": "markdown",
   "metadata": {},
   "source": [
    "# Kata POO\n",
    "\n",
    "Voici quelques exercices pour vous entrainnez sur la création et la manipulation des classes."
   ]
  },
  {
   "cell_type": "markdown",
   "metadata": {},
   "source": [
    "## Exercice 1\n",
    "\n",
    "Créer une classe personne avec un nom, un prénom et une adresse. Créez une instance d’objet de personne et afficher son nom, son prénom et son adresse."
   ]
  },
  {
   "cell_type": "code",
   "execution_count": null,
   "metadata": {},
   "outputs": [],
   "source": []
  },
  {
   "cell_type": "markdown",
   "metadata": {},
   "source": [
    "## Exercice 2\n",
    "\n",
    "Écrivez une classe représentant une ville. Elle a pour variables nom et département et une méthode affichant « la ville X est dans le département Y ». Créez des objets ville ( Nantes dans La Loire Atlantique, Lyon dans le Rhône et Brest dans le Finistère), affectez leurs variables, et utilisez la méthode d’affichage. "
   ]
  },
  {
   "cell_type": "code",
   "execution_count": 5,
   "metadata": {},
   "outputs": [
    {
     "name": "stdout",
     "output_type": "stream",
     "text": [
      "la ville Nantes est dans le département Loire Atlantique\n",
      "la ville Lyon est dans le département Rhône\n",
      "la ville Brest est dans le département Finistère\n"
     ]
    }
   ],
   "source": [
    "class Ville :\n",
    "    def __init__(self, nom, departement) :\n",
    "        self.nom = nom\n",
    "        self.departement = departement\n",
    "    \n",
    "    def decrire(self) :\n",
    "        # f\"La ville de {self.nom} est dans le département {self.departement} \"\n",
    "        # \"la ville\"+self.nom+\" est dans le département \"+ self.departement\n",
    "        return (\"la ville {0} est dans le département {1}\".format(self.nom, self.departement))\n",
    "    \n",
    "\n",
    "nantes = Ville(\"Nantes\", \"Loire Atlantique\")\n",
    "lyon = Ville(\"Lyon\", \"Rhône\")\n",
    "brest = Ville(\"Brest\", \"Finistère\")\n",
    "\n",
    "print (nantes.decrire())\n",
    "print (lyon.decrire())\n",
    "print (brest.decrire())"
   ]
  },
  {
   "cell_type": "markdown",
   "metadata": {},
   "source": [
    "## Exercice 3\n",
    "\n",
    "Ajoutez une variable code postal à initialiser dans le constructeur par un passage de paramètre. Créez une liste de villes (en reprenant les 3 exemples précédent).\n",
    "\n",
    "Afficher, à partir de la liste, toutes les villes."
   ]
  },
  {
   "cell_type": "code",
   "execution_count": 9,
   "metadata": {},
   "outputs": [
    {
     "name": "stdout",
     "output_type": "stream",
     "text": [
      "la ville 44000 Nantes est dans le département Loire Atlantique\n",
      "la ville 69000 Lyon est dans le département Rhône\n",
      "la ville 29200 Brest est dans le département Finistère\n"
     ]
    }
   ],
   "source": [
    "#classe ville\n",
    "class Ville :\n",
    "    def __init__(self, cp, nom, departement) :\n",
    "        self.nom = nom\n",
    "        self.departement = departement\n",
    "        self.cp = cp\n",
    "    \n",
    "    def decrire(self) :\n",
    "        return (\"la ville {} {} est dans le département {}\".format(self.cp, self.nom, self.departement))\n",
    "#fin de la classe ville\n",
    "    \n",
    "#code principal\n",
    "def main() :    \n",
    "    villes = [Ville(\"44000\", \"Nantes\", \"Loire Atlantique\"), \n",
    "              Ville(\"69000\", \"Lyon\", \"Rhône\"), Ville(\"29200\", \"Brest\", \"Finistère\")]\n",
    "\n",
    "    for ville in villes:\n",
    "        print(ville.decrire())\n",
    "        \n",
    "main()"
   ]
  },
  {
   "cell_type": "markdown",
   "metadata": {},
   "source": [
    "## Exercice 4\n",
    "\n",
    "Ajouter du code dans l’exercice précédent pour que lorsqu’on tape le code postal d’une ville, on affiche la ville correspondant et son département."
   ]
  },
  {
   "cell_type": "code",
   "execution_count": 11,
   "metadata": {},
   "outputs": [
    {
     "name": "stdout",
     "output_type": "stream",
     "text": [
      "Saisir un cp :29200\n",
      "la ville 29200 Brest est dans le département Finistère\n"
     ]
    }
   ],
   "source": [
    "#classe ville\n",
    "class Ville :\n",
    "    def __init__(self, cp, nom, departement) :\n",
    "        self.nom = nom\n",
    "        self.departement = departement\n",
    "        self.cp = cp\n",
    "    \n",
    "    def decrire(self) :\n",
    "        return (\"la ville {} {} est dans le département {}\".format(self.cp, self.nom, self.departement))\n",
    "#fin de la classe ville\n",
    "    \n",
    "#code principal\n",
    "def main() :   \n",
    "    code_saisi = input(\"Saisir un cp :\")\n",
    "    \n",
    "    villes = {\"44000\":Ville(\"44000\", \"Nantes\", \"Loire Atlantique\"), \n",
    "              \"69000\":Ville(\"69000\", \"Lyon\", \"Rhône\"), \n",
    "              \"29200\":Ville(\"29200\", \"Brest\", \"Finistère\")}\n",
    "    \n",
    "    ville_choisie = villes[code_saisi]\n",
    "    print(ville_choisie.decrire())\n",
    "        \n",
    "main()"
   ]
  },
  {
   "cell_type": "markdown",
   "metadata": {},
   "source": [
    "## Exercice 5\n",
    "\n",
    "Créez la classe Vehicule avec les variables suivantes : nombre_roue, nombre_place, couleur, marque, nom, prix_dollard, prix_euro. \n",
    "\n",
    "Cette classe contient un constructeur qui initialise les 5 premières variables (toutes sauf les prix) grâce à des paramètres. Puis créez une méthode ayant pour paramètre prix qui définit le prix du véhicule en euros (variable prix_euro de l'objet) et une méthode prix_euro_vers_dollar permettant de définir la variable prix_dollar de l'objet. Pensez aussi à une méthode pour afficher toutes les variables (dollars et euros incluses). \n",
    "\n",
    "Dans le programme principal, instanciez la classe correspondante (objet avec les paramètres suivants : 4, 5, \"vert\", \"Renault\", \"Mégane\"). Appelez la définition du prix du véhicule en lui fournissant la valeur suivante : 164 000. \n",
    "\n",
    "Appelez la méthode de conversion de prix. Afficher la description du véhicule. "
   ]
  },
  {
   "cell_type": "code",
   "execution_count": null,
   "metadata": {},
   "outputs": [],
   "source": []
  },
  {
   "cell_type": "markdown",
   "metadata": {},
   "source": [
    "## Exercice 6\n",
    "\n",
    "A partir de l'exercice précédant, créez une liste concession. Ce tableau doit contenir l'objet mégane que vous avez déjà créé. Y ajouter la voiture suivante : une citroen Picasso, grise, 7 places à 21000 €. \n",
    "\n",
    "Ecrire le code qui permet d'afficher la description de toutes les voitures de la concession. "
   ]
  },
  {
   "cell_type": "code",
   "execution_count": null,
   "metadata": {},
   "outputs": [],
   "source": []
  },
  {
   "cell_type": "markdown",
   "metadata": {},
   "source": [
    "## Exercice 7\n",
    "\n",
    "Dans votre IDE, refaire le code précédent en créant un fichier véhicule.py. Il ne contient que le code de la classe. Le reste du code est dans un autre fichier Python. Faites fonctionner votre projet avec ces 2 fichiers."
   ]
  }
 ],
 "metadata": {
  "kernelspec": {
   "display_name": "Python 3",
   "language": "python",
   "name": "python3"
  },
  "language_info": {
   "codemirror_mode": {
    "name": "ipython",
    "version": 3
   },
   "file_extension": ".py",
   "mimetype": "text/x-python",
   "name": "python",
   "nbconvert_exporter": "python",
   "pygments_lexer": "ipython3",
   "version": "3.8.3"
  }
 },
 "nbformat": 4,
 "nbformat_minor": 4
}
