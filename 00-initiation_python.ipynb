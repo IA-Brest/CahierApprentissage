{
 "cells": [
  {
   "cell_type": "markdown",
   "metadata": {},
   "source": [
    "# Initiation Python\n",
    "\n",
    "Ces exercices ont pour but de vous faire réfléchir sur des algo puis de les coder en Python afin de comprendre les logiques du développement.\n",
    "\n",
    "Pour chaque exercice, on vous propose une cellule pour écrire du pseudo code en commentaire, puis du Python."
   ]
  },
  {
   "cell_type": "markdown",
   "metadata": {},
   "source": [
    "## Exercice 1\n",
    "\n",
    "Créez une liste contenant au moins 3 noms d'acteurs.\n",
    "Puis afficher, un par un, les noms de ces acteurs et afficher le nombre d'éléments dans la liste."
   ]
  },
  {
   "cell_type": "code",
   "execution_count": 1,
   "metadata": {},
   "outputs": [
    {
     "data": {
      "text/plain": [
       "'\\nPour chaque acteur de la liste acteurs\\n    afficher acteur\\n\\nafficher taille(acteurs)\\n'"
      ]
     },
     "execution_count": 1,
     "metadata": {},
     "output_type": "execute_result"
    }
   ],
   "source": [
    "'''\n",
    "Pour chaque acteur de la liste acteurs\n",
    "    afficher acteur\n",
    "\n",
    "afficher taille(acteurs)\n",
    "'''"
   ]
  },
  {
   "cell_type": "code",
   "execution_count": 4,
   "metadata": {},
   "outputs": [
    {
     "name": "stdout",
     "output_type": "stream",
     "text": [
      "Alain\n",
      "Bruno\n",
      "Chantal\n",
      "Dominique\n",
      "Nombre d'acteurs :  4\n"
     ]
    }
   ],
   "source": [
    "acteurs = [\"Alain\", \"Bruno\", \"Chantal\", \"Dominique\"]\n",
    "\n",
    "for acteur in acteurs:\n",
    "    print(acteur)\n",
    "\n",
    "print(\"Nombre d'acteurs : \", len(acteurs))"
   ]
  },
  {
   "cell_type": "markdown",
   "metadata": {},
   "source": [
    "## Exercice 2\n",
    "\n",
    "Additionnez les 9 premiers chiffres (de 1 à 9)."
   ]
  },
  {
   "cell_type": "code",
   "execution_count": 3,
   "metadata": {},
   "outputs": [
    {
     "data": {
      "text/plain": [
       "'\\ntotal <- 0\\nPour nombre allant de 1 à 9\\n    total <- total + nombre\\nafficher total\\n'"
      ]
     },
     "execution_count": 3,
     "metadata": {},
     "output_type": "execute_result"
    }
   ],
   "source": [
    "'''\n",
    "total <- 0\n",
    "Pour nombre allant de 1 à 9\n",
    "    total <- total + nombre\n",
    "afficher total\n",
    "'''"
   ]
  },
  {
   "cell_type": "code",
   "execution_count": 10,
   "metadata": {},
   "outputs": [
    {
     "name": "stdout",
     "output_type": "stream",
     "text": [
      "45\n"
     ]
    }
   ],
   "source": [
    "total = 0\n",
    "for nb in range(1, 10):\n",
    "    total += nb\n",
    "print(total)"
   ]
  },
  {
   "cell_type": "markdown",
   "metadata": {},
   "source": [
    "## Exercice 3\n",
    "\n",
    "Ecrivez un code qui demande la saisie d'une lettre tant que 'x' n'est pas saisie."
   ]
  },
  {
   "cell_type": "code",
   "execution_count": 7,
   "metadata": {},
   "outputs": [
    {
     "data": {
      "text/plain": [
       "\"\\nrépéter\\n    saisir lettre\\njusqu'à ce que lettre = 'x'\\n\""
      ]
     },
     "execution_count": 7,
     "metadata": {},
     "output_type": "execute_result"
    }
   ],
   "source": [
    "'''\n",
    "répéter\n",
    "    saisir lettre\n",
    "jusqu'à ce que lettre = 'x'\n",
    "'''"
   ]
  },
  {
   "cell_type": "code",
   "execution_count": 19,
   "metadata": {},
   "outputs": [
    {
     "name": "stdout",
     "output_type": "stream",
     "text": [
      "a\n",
      "z\n",
      "e\n",
      "r\n",
      "\n",
      "f\n",
      "hg\n",
      "d\n",
      "g\n",
      "d\n",
      "x\n"
     ]
    }
   ],
   "source": [
    "lettre =''\n",
    "while lettre != 'x':\n",
    "    lettre = input()"
   ]
  },
  {
   "cell_type": "markdown",
   "metadata": {},
   "source": [
    "## Exercice 4\n",
    "\n",
    "Ecrivez un code qui permet d'afficher la chaine \"Je code en python\" à raison d'une lettre par ligne."
   ]
  },
  {
   "cell_type": "code",
   "execution_count": 13,
   "metadata": {},
   "outputs": [
    {
     "data": {
      "text/plain": [
       "'\\nchaine <- \"Je code en Python\"\\nPour chaque lettre de chaine\\n    afficher lettre\\n'"
      ]
     },
     "execution_count": 13,
     "metadata": {},
     "output_type": "execute_result"
    }
   ],
   "source": [
    "'''\n",
    "chaine <- \"Je code en Python\"\n",
    "Pour chaque lettre de chaine\n",
    "    afficher lettre\n",
    "'''"
   ]
  },
  {
   "cell_type": "code",
   "execution_count": 14,
   "metadata": {},
   "outputs": [
    {
     "name": "stdout",
     "output_type": "stream",
     "text": [
      "J\n",
      "e\n",
      " \n",
      "c\n",
      "o\n",
      "d\n",
      "e\n",
      " \n",
      "e\n",
      "n\n",
      " \n",
      "p\n",
      "y\n",
      "t\n",
      "h\n",
      "o\n",
      "n\n"
     ]
    }
   ],
   "source": [
    "chaine = \"Je code en python\"\n",
    "for lettre in chaine:\n",
    "    print(lettre)"
   ]
  },
  {
   "cell_type": "markdown",
   "metadata": {},
   "source": [
    "## Exercice 5\n",
    "\n",
    "En vous inspirant du code précédent, écrire une fonction qui permet d'afficher une chaine de caractères à raison d'une lettre par ligne."
   ]
  },
  {
   "cell_type": "code",
   "execution_count": null,
   "metadata": {},
   "outputs": [],
   "source": [
    "'''\n",
    "fonction afficher_par_ligne(chaine)\n",
    "    Pour chaque lettre de chaine\n",
    "        afficher lettre\n",
    "\n",
    "afficher_par_ligne(\"Je code en Python\")\n",
    "'''"
   ]
  },
  {
   "cell_type": "code",
   "execution_count": 18,
   "metadata": {},
   "outputs": [
    {
     "name": "stdout",
     "output_type": "stream",
     "text": [
      "J\n",
      "e\n",
      " \n",
      "c\n",
      "o\n",
      "d\n",
      "e\n",
      " \n",
      "e\n",
      "n\n",
      " \n",
      "p\n",
      "y\n",
      "t\n",
      "h\n",
      "o\n",
      "n\n"
     ]
    }
   ],
   "source": [
    "def afficher_par_ligne(chaine):\n",
    "    for lettre in chaine:\n",
    "        print(lettre)\n",
    "\n",
    "afficher_par_ligne(\"Je code en python\")"
   ]
  }
 ],
 "metadata": {
  "interpreter": {
   "hash": "d8e0193dfb7a568316b186cfb7b31d1f2dc7b1440edce486da8f53958ab959f4"
  },
  "jupytext": {
   "formats": "ipynb,md"
  },
  "kernelspec": {
   "display_name": "Python 3",
   "language": "python",
   "name": "python3"
  },
  "language_info": {
   "codemirror_mode": {
    "name": "ipython",
    "version": 3
   },
   "file_extension": ".py",
   "mimetype": "text/x-python",
   "name": "python",
   "nbconvert_exporter": "python",
   "pygments_lexer": "ipython3",
   "version": "3.8.3"
  }
 },
 "nbformat": 4,
 "nbformat_minor": 2
}
