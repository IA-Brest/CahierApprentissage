{
 "cells": [
  {
   "cell_type": "markdown",
   "metadata": {},
   "source": [
    "<h1><center>Le classifieur SVM</center></h1>\n"
   ]
  },
  {
   "cell_type": "markdown",
   "metadata": {},
   "source": [
    "### Importer les bibliothéques necessaires "
   ]
  },
  {
   "cell_type": "code",
   "execution_count": 22,
   "metadata": {},
   "outputs": [],
   "source": [
    "import numpy as np\n",
    "import pandas as pd"
   ]
  },
  {
   "cell_type": "markdown",
   "metadata": {},
   "source": [
    "#### 1. Importer votre DataSet"
   ]
  },
  {
   "cell_type": "code",
   "execution_count": 23,
   "metadata": {},
   "outputs": [],
   "source": [
    "df = pd.read_csv('accent-mfcc-data-1.csv')"
   ]
  },
  {
   "cell_type": "markdown",
   "metadata": {},
   "source": [
    "##### Print"
   ]
  },
  {
   "cell_type": "code",
   "execution_count": 24,
   "metadata": {},
   "outputs": [
    {
     "data": {
      "text/html": [
       "<div>\n",
       "<style scoped>\n",
       "    .dataframe tbody tr th:only-of-type {\n",
       "        vertical-align: middle;\n",
       "    }\n",
       "\n",
       "    .dataframe tbody tr th {\n",
       "        vertical-align: top;\n",
       "    }\n",
       "\n",
       "    .dataframe thead th {\n",
       "        text-align: right;\n",
       "    }\n",
       "</style>\n",
       "<table border=\"1\" class=\"dataframe\">\n",
       "  <thead>\n",
       "    <tr style=\"text-align: right;\">\n",
       "      <th></th>\n",
       "      <th>language</th>\n",
       "      <th>X1</th>\n",
       "      <th>X2</th>\n",
       "      <th>X3</th>\n",
       "      <th>X4</th>\n",
       "      <th>X5</th>\n",
       "      <th>X6</th>\n",
       "      <th>X7</th>\n",
       "      <th>X8</th>\n",
       "      <th>X9</th>\n",
       "      <th>X10</th>\n",
       "      <th>X11</th>\n",
       "      <th>X12</th>\n",
       "    </tr>\n",
       "  </thead>\n",
       "  <tbody>\n",
       "    <tr>\n",
       "      <th>0</th>\n",
       "      <td>ES</td>\n",
       "      <td>7.071476</td>\n",
       "      <td>-6.512900</td>\n",
       "      <td>7.650800</td>\n",
       "      <td>11.150783</td>\n",
       "      <td>-7.657312</td>\n",
       "      <td>12.484021</td>\n",
       "      <td>-11.709772</td>\n",
       "      <td>3.426596</td>\n",
       "      <td>1.462715</td>\n",
       "      <td>-2.812753</td>\n",
       "      <td>0.866538</td>\n",
       "      <td>-5.244274</td>\n",
       "    </tr>\n",
       "    <tr>\n",
       "      <th>1</th>\n",
       "      <td>ES</td>\n",
       "      <td>10.982967</td>\n",
       "      <td>-5.157445</td>\n",
       "      <td>3.952060</td>\n",
       "      <td>11.529381</td>\n",
       "      <td>-7.638047</td>\n",
       "      <td>12.136098</td>\n",
       "      <td>-12.036247</td>\n",
       "      <td>3.491943</td>\n",
       "      <td>0.595441</td>\n",
       "      <td>-4.508811</td>\n",
       "      <td>2.332147</td>\n",
       "      <td>-6.221857</td>\n",
       "    </tr>\n",
       "    <tr>\n",
       "      <th>2</th>\n",
       "      <td>ES</td>\n",
       "      <td>7.827108</td>\n",
       "      <td>-5.477472</td>\n",
       "      <td>7.816257</td>\n",
       "      <td>9.187592</td>\n",
       "      <td>-7.172511</td>\n",
       "      <td>11.715299</td>\n",
       "      <td>-13.847214</td>\n",
       "      <td>4.574075</td>\n",
       "      <td>-1.687559</td>\n",
       "      <td>-7.204041</td>\n",
       "      <td>-0.011847</td>\n",
       "      <td>-6.463144</td>\n",
       "    </tr>\n",
       "    <tr>\n",
       "      <th>3</th>\n",
       "      <td>ES</td>\n",
       "      <td>6.744083</td>\n",
       "      <td>-5.688920</td>\n",
       "      <td>6.546789</td>\n",
       "      <td>9.000183</td>\n",
       "      <td>-6.924963</td>\n",
       "      <td>11.710766</td>\n",
       "      <td>-12.374388</td>\n",
       "      <td>6.169879</td>\n",
       "      <td>-0.544747</td>\n",
       "      <td>-6.019237</td>\n",
       "      <td>1.358559</td>\n",
       "      <td>-6.356441</td>\n",
       "    </tr>\n",
       "    <tr>\n",
       "      <th>4</th>\n",
       "      <td>ES</td>\n",
       "      <td>5.836843</td>\n",
       "      <td>-5.326557</td>\n",
       "      <td>7.472265</td>\n",
       "      <td>8.847440</td>\n",
       "      <td>-6.773244</td>\n",
       "      <td>12.677218</td>\n",
       "      <td>-12.315061</td>\n",
       "      <td>4.416344</td>\n",
       "      <td>0.193500</td>\n",
       "      <td>-3.644812</td>\n",
       "      <td>2.151239</td>\n",
       "      <td>-6.816310</td>\n",
       "    </tr>\n",
       "  </tbody>\n",
       "</table>\n",
       "</div>"
      ],
      "text/plain": [
       "  language         X1        X2        X3         X4        X5         X6  \\\n",
       "0       ES   7.071476 -6.512900  7.650800  11.150783 -7.657312  12.484021   \n",
       "1       ES  10.982967 -5.157445  3.952060  11.529381 -7.638047  12.136098   \n",
       "2       ES   7.827108 -5.477472  7.816257   9.187592 -7.172511  11.715299   \n",
       "3       ES   6.744083 -5.688920  6.546789   9.000183 -6.924963  11.710766   \n",
       "4       ES   5.836843 -5.326557  7.472265   8.847440 -6.773244  12.677218   \n",
       "\n",
       "          X7        X8        X9       X10       X11       X12  \n",
       "0 -11.709772  3.426596  1.462715 -2.812753  0.866538 -5.244274  \n",
       "1 -12.036247  3.491943  0.595441 -4.508811  2.332147 -6.221857  \n",
       "2 -13.847214  4.574075 -1.687559 -7.204041 -0.011847 -6.463144  \n",
       "3 -12.374388  6.169879 -0.544747 -6.019237  1.358559 -6.356441  \n",
       "4 -12.315061  4.416344  0.193500 -3.644812  2.151239 -6.816310  "
      ]
     },
     "execution_count": 24,
     "metadata": {},
     "output_type": "execute_result"
    }
   ],
   "source": [
    "df.head()\n"
   ]
  },
  {
   "cell_type": "markdown",
   "metadata": {},
   "source": [
    "#### 2. Checker les variables quantitatives/qualitatives et les valeurs manquantes "
   ]
  },
  {
   "cell_type": "code",
   "execution_count": 25,
   "metadata": {},
   "outputs": [
    {
     "name": "stdout",
     "output_type": "stream",
     "text": [
      "<class 'pandas.core.frame.DataFrame'>\n",
      "RangeIndex: 329 entries, 0 to 328\n",
      "Data columns (total 13 columns):\n",
      " #   Column    Non-Null Count  Dtype  \n",
      "---  ------    --------------  -----  \n",
      " 0   language  329 non-null    object \n",
      " 1   X1        329 non-null    float64\n",
      " 2   X2        329 non-null    float64\n",
      " 3   X3        329 non-null    float64\n",
      " 4   X4        329 non-null    float64\n",
      " 5   X5        329 non-null    float64\n",
      " 6   X6        329 non-null    float64\n",
      " 7   X7        329 non-null    float64\n",
      " 8   X8        329 non-null    float64\n",
      " 9   X9        329 non-null    float64\n",
      " 10  X10       329 non-null    float64\n",
      " 11  X11       329 non-null    float64\n",
      " 12  X12       329 non-null    float64\n",
      "dtypes: float64(12), object(1)\n",
      "memory usage: 33.5+ KB\n"
     ]
    }
   ],
   "source": [
    "df.info()"
   ]
  },
  {
   "cell_type": "code",
   "execution_count": 26,
   "metadata": {},
   "outputs": [
    {
     "data": {
      "text/html": [
       "<div>\n",
       "<style scoped>\n",
       "    .dataframe tbody tr th:only-of-type {\n",
       "        vertical-align: middle;\n",
       "    }\n",
       "\n",
       "    .dataframe tbody tr th {\n",
       "        vertical-align: top;\n",
       "    }\n",
       "\n",
       "    .dataframe thead th {\n",
       "        text-align: right;\n",
       "    }\n",
       "</style>\n",
       "<table border=\"1\" class=\"dataframe\">\n",
       "  <thead>\n",
       "    <tr style=\"text-align: right;\">\n",
       "      <th></th>\n",
       "      <th>X1</th>\n",
       "      <th>X2</th>\n",
       "      <th>X3</th>\n",
       "      <th>X4</th>\n",
       "      <th>X5</th>\n",
       "      <th>X6</th>\n",
       "      <th>X7</th>\n",
       "      <th>X8</th>\n",
       "      <th>X9</th>\n",
       "      <th>X10</th>\n",
       "      <th>X11</th>\n",
       "      <th>X12</th>\n",
       "    </tr>\n",
       "  </thead>\n",
       "  <tbody>\n",
       "    <tr>\n",
       "      <th>count</th>\n",
       "      <td>329.000000</td>\n",
       "      <td>329.000000</td>\n",
       "      <td>329.000000</td>\n",
       "      <td>329.000000</td>\n",
       "      <td>329.000000</td>\n",
       "      <td>329.000000</td>\n",
       "      <td>329.000000</td>\n",
       "      <td>329.000000</td>\n",
       "      <td>329.000000</td>\n",
       "      <td>329.000000</td>\n",
       "      <td>329.000000</td>\n",
       "      <td>329.000000</td>\n",
       "    </tr>\n",
       "    <tr>\n",
       "      <th>mean</th>\n",
       "      <td>5.645227</td>\n",
       "      <td>-4.270814</td>\n",
       "      <td>2.635319</td>\n",
       "      <td>7.200207</td>\n",
       "      <td>-5.648733</td>\n",
       "      <td>9.810236</td>\n",
       "      <td>-9.408053</td>\n",
       "      <td>5.117328</td>\n",
       "      <td>-1.229432</td>\n",
       "      <td>-2.362288</td>\n",
       "      <td>2.430833</td>\n",
       "      <td>-3.980415</td>\n",
       "    </tr>\n",
       "    <tr>\n",
       "      <th>std</th>\n",
       "      <td>5.105302</td>\n",
       "      <td>3.514350</td>\n",
       "      <td>3.635323</td>\n",
       "      <td>4.310095</td>\n",
       "      <td>4.596180</td>\n",
       "      <td>3.624654</td>\n",
       "      <td>2.484117</td>\n",
       "      <td>2.650608</td>\n",
       "      <td>3.634849</td>\n",
       "      <td>5.042034</td>\n",
       "      <td>3.478467</td>\n",
       "      <td>2.985879</td>\n",
       "    </tr>\n",
       "    <tr>\n",
       "      <th>min</th>\n",
       "      <td>-6.067831</td>\n",
       "      <td>-14.972962</td>\n",
       "      <td>-6.186583</td>\n",
       "      <td>-8.844231</td>\n",
       "      <td>-15.656596</td>\n",
       "      <td>-3.528964</td>\n",
       "      <td>-15.365665</td>\n",
       "      <td>-2.873862</td>\n",
       "      <td>-15.510974</td>\n",
       "      <td>-11.429178</td>\n",
       "      <td>-13.664104</td>\n",
       "      <td>-13.724103</td>\n",
       "    </tr>\n",
       "    <tr>\n",
       "      <th>25%</th>\n",
       "      <td>2.065603</td>\n",
       "      <td>-6.515764</td>\n",
       "      <td>0.137042</td>\n",
       "      <td>4.700874</td>\n",
       "      <td>-8.417684</td>\n",
       "      <td>8.643563</td>\n",
       "      <td>-11.120860</td>\n",
       "      <td>3.482167</td>\n",
       "      <td>-1.749082</td>\n",
       "      <td>-5.083522</td>\n",
       "      <td>1.197789</td>\n",
       "      <td>-5.941409</td>\n",
       "    </tr>\n",
       "    <tr>\n",
       "      <th>50%</th>\n",
       "      <td>4.954206</td>\n",
       "      <td>-4.252512</td>\n",
       "      <td>2.029268</td>\n",
       "      <td>7.804680</td>\n",
       "      <td>-6.786670</td>\n",
       "      <td>10.379330</td>\n",
       "      <td>-9.710399</td>\n",
       "      <td>4.843103</td>\n",
       "      <td>-0.389970</td>\n",
       "      <td>-3.323147</td>\n",
       "      <td>3.169703</td>\n",
       "      <td>-4.374334</td>\n",
       "    </tr>\n",
       "    <tr>\n",
       "      <th>75%</th>\n",
       "      <td>9.793648</td>\n",
       "      <td>-1.560250</td>\n",
       "      <td>4.178026</td>\n",
       "      <td>10.129165</td>\n",
       "      <td>-4.463308</td>\n",
       "      <td>11.784360</td>\n",
       "      <td>-7.989370</td>\n",
       "      <td>6.588931</td>\n",
       "      <td>0.779993</td>\n",
       "      <td>-1.506037</td>\n",
       "      <td>4.673452</td>\n",
       "      <td>-2.191658</td>\n",
       "    </tr>\n",
       "    <tr>\n",
       "      <th>max</th>\n",
       "      <td>17.749851</td>\n",
       "      <td>3.570765</td>\n",
       "      <td>17.066487</td>\n",
       "      <td>16.178942</td>\n",
       "      <td>7.912809</td>\n",
       "      <td>21.445837</td>\n",
       "      <td>-0.424033</td>\n",
       "      <td>13.846083</td>\n",
       "      <td>4.789989</td>\n",
       "      <td>16.326455</td>\n",
       "      <td>9.166066</td>\n",
       "      <td>5.259430</td>\n",
       "    </tr>\n",
       "  </tbody>\n",
       "</table>\n",
       "</div>"
      ],
      "text/plain": [
       "               X1          X2          X3          X4          X5          X6  \\\n",
       "count  329.000000  329.000000  329.000000  329.000000  329.000000  329.000000   \n",
       "mean     5.645227   -4.270814    2.635319    7.200207   -5.648733    9.810236   \n",
       "std      5.105302    3.514350    3.635323    4.310095    4.596180    3.624654   \n",
       "min     -6.067831  -14.972962   -6.186583   -8.844231  -15.656596   -3.528964   \n",
       "25%      2.065603   -6.515764    0.137042    4.700874   -8.417684    8.643563   \n",
       "50%      4.954206   -4.252512    2.029268    7.804680   -6.786670   10.379330   \n",
       "75%      9.793648   -1.560250    4.178026   10.129165   -4.463308   11.784360   \n",
       "max     17.749851    3.570765   17.066487   16.178942    7.912809   21.445837   \n",
       "\n",
       "               X7          X8          X9         X10         X11         X12  \n",
       "count  329.000000  329.000000  329.000000  329.000000  329.000000  329.000000  \n",
       "mean    -9.408053    5.117328   -1.229432   -2.362288    2.430833   -3.980415  \n",
       "std      2.484117    2.650608    3.634849    5.042034    3.478467    2.985879  \n",
       "min    -15.365665   -2.873862  -15.510974  -11.429178  -13.664104  -13.724103  \n",
       "25%    -11.120860    3.482167   -1.749082   -5.083522    1.197789   -5.941409  \n",
       "50%     -9.710399    4.843103   -0.389970   -3.323147    3.169703   -4.374334  \n",
       "75%     -7.989370    6.588931    0.779993   -1.506037    4.673452   -2.191658  \n",
       "max     -0.424033   13.846083    4.789989   16.326455    9.166066    5.259430  "
      ]
     },
     "execution_count": 26,
     "metadata": {},
     "output_type": "execute_result"
    }
   ],
   "source": [
    "# Quantitatives\n",
    "df.describe()"
   ]
  },
  {
   "cell_type": "code",
   "execution_count": 27,
   "metadata": {},
   "outputs": [
    {
     "data": {
      "text/plain": [
       "US    165\n",
       "UK     45\n",
       "GE     30\n",
       "IT     30\n",
       "FR     30\n",
       "ES     29\n",
       "Name: language, dtype: int64"
      ]
     },
     "execution_count": 27,
     "metadata": {},
     "output_type": "execute_result"
    }
   ],
   "source": [
    "# Qualitatives\n",
    "df.language.value_counts()"
   ]
  },
  {
   "cell_type": "markdown",
   "metadata": {},
   "source": [
    "#### 3. Visualiser les targets, et que remarquez vous ?\n",
    "(combien d'instances de chaque valeur de la target)"
   ]
  },
  {
   "cell_type": "code",
   "execution_count": 28,
   "metadata": {},
   "outputs": [
    {
     "data": {
      "text/plain": [
       "6"
      ]
     },
     "execution_count": 28,
     "metadata": {},
     "output_type": "execute_result"
    }
   ],
   "source": [
    "# Nombre de valeurs\n",
    "df.language.nunique()"
   ]
  },
  {
   "cell_type": "code",
   "execution_count": 29,
   "metadata": {},
   "outputs": [
    {
     "data": {
      "text/plain": [
       "array(['ES', 'FR', 'GE', 'IT', 'UK', 'US'], dtype=object)"
      ]
     },
     "execution_count": 29,
     "metadata": {},
     "output_type": "execute_result"
    }
   ],
   "source": [
    "# Valeurs\n",
    "df.language.unique()"
   ]
  },
  {
   "cell_type": "code",
   "execution_count": 30,
   "metadata": {},
   "outputs": [
    {
     "data": {
      "text/html": [
       "<div>\n",
       "<style scoped>\n",
       "    .dataframe tbody tr th:only-of-type {\n",
       "        vertical-align: middle;\n",
       "    }\n",
       "\n",
       "    .dataframe tbody tr th {\n",
       "        vertical-align: top;\n",
       "    }\n",
       "\n",
       "    .dataframe thead th {\n",
       "        text-align: right;\n",
       "    }\n",
       "</style>\n",
       "<table border=\"1\" class=\"dataframe\">\n",
       "  <thead>\n",
       "    <tr style=\"text-align: right;\">\n",
       "      <th>col_0</th>\n",
       "      <th>freq</th>\n",
       "    </tr>\n",
       "    <tr>\n",
       "      <th>language</th>\n",
       "      <th></th>\n",
       "    </tr>\n",
       "  </thead>\n",
       "  <tbody>\n",
       "    <tr>\n",
       "      <th>ES</th>\n",
       "      <td>29</td>\n",
       "    </tr>\n",
       "    <tr>\n",
       "      <th>FR</th>\n",
       "      <td>30</td>\n",
       "    </tr>\n",
       "    <tr>\n",
       "      <th>GE</th>\n",
       "      <td>30</td>\n",
       "    </tr>\n",
       "    <tr>\n",
       "      <th>IT</th>\n",
       "      <td>30</td>\n",
       "    </tr>\n",
       "    <tr>\n",
       "      <th>UK</th>\n",
       "      <td>45</td>\n",
       "    </tr>\n",
       "    <tr>\n",
       "      <th>US</th>\n",
       "      <td>165</td>\n",
       "    </tr>\n",
       "  </tbody>\n",
       "</table>\n",
       "</div>"
      ],
      "text/plain": [
       "col_0     freq\n",
       "language      \n",
       "ES          29\n",
       "FR          30\n",
       "GE          30\n",
       "IT          30\n",
       "UK          45\n",
       "US         165"
      ]
     },
     "execution_count": 30,
     "metadata": {},
     "output_type": "execute_result"
    }
   ],
   "source": [
    "# Fréquences de chaque valeurs\n",
    "pd.crosstab(df.language, \"freq\") #.plot(kind=\"hist\")"
   ]
  },
  {
   "cell_type": "code",
   "execution_count": null,
   "metadata": {},
   "outputs": [],
   "source": []
  },
  {
   "cell_type": "markdown",
   "metadata": {},
   "source": [
    "\n",
    "#### 4. Notre variable target (Y) est 'language', Récuprer X et y à partir du jeu de données "
   ]
  },
  {
   "cell_type": "code",
   "execution_count": 31,
   "metadata": {},
   "outputs": [
    {
     "data": {
      "text/html": [
       "<div>\n",
       "<style scoped>\n",
       "    .dataframe tbody tr th:only-of-type {\n",
       "        vertical-align: middle;\n",
       "    }\n",
       "\n",
       "    .dataframe tbody tr th {\n",
       "        vertical-align: top;\n",
       "    }\n",
       "\n",
       "    .dataframe thead th {\n",
       "        text-align: right;\n",
       "    }\n",
       "</style>\n",
       "<table border=\"1\" class=\"dataframe\">\n",
       "  <thead>\n",
       "    <tr style=\"text-align: right;\">\n",
       "      <th></th>\n",
       "      <th>X1</th>\n",
       "      <th>X2</th>\n",
       "      <th>X3</th>\n",
       "      <th>X4</th>\n",
       "      <th>X5</th>\n",
       "      <th>X6</th>\n",
       "      <th>X7</th>\n",
       "      <th>X8</th>\n",
       "      <th>X9</th>\n",
       "      <th>X10</th>\n",
       "      <th>X11</th>\n",
       "      <th>X12</th>\n",
       "    </tr>\n",
       "  </thead>\n",
       "  <tbody>\n",
       "    <tr>\n",
       "      <th>0</th>\n",
       "      <td>7.071476</td>\n",
       "      <td>-6.512900</td>\n",
       "      <td>7.650800</td>\n",
       "      <td>11.150783</td>\n",
       "      <td>-7.657312</td>\n",
       "      <td>12.484021</td>\n",
       "      <td>-11.709772</td>\n",
       "      <td>3.426596</td>\n",
       "      <td>1.462715</td>\n",
       "      <td>-2.812753</td>\n",
       "      <td>0.866538</td>\n",
       "      <td>-5.244274</td>\n",
       "    </tr>\n",
       "    <tr>\n",
       "      <th>1</th>\n",
       "      <td>10.982967</td>\n",
       "      <td>-5.157445</td>\n",
       "      <td>3.952060</td>\n",
       "      <td>11.529381</td>\n",
       "      <td>-7.638047</td>\n",
       "      <td>12.136098</td>\n",
       "      <td>-12.036247</td>\n",
       "      <td>3.491943</td>\n",
       "      <td>0.595441</td>\n",
       "      <td>-4.508811</td>\n",
       "      <td>2.332147</td>\n",
       "      <td>-6.221857</td>\n",
       "    </tr>\n",
       "    <tr>\n",
       "      <th>2</th>\n",
       "      <td>7.827108</td>\n",
       "      <td>-5.477472</td>\n",
       "      <td>7.816257</td>\n",
       "      <td>9.187592</td>\n",
       "      <td>-7.172511</td>\n",
       "      <td>11.715299</td>\n",
       "      <td>-13.847214</td>\n",
       "      <td>4.574075</td>\n",
       "      <td>-1.687559</td>\n",
       "      <td>-7.204041</td>\n",
       "      <td>-0.011847</td>\n",
       "      <td>-6.463144</td>\n",
       "    </tr>\n",
       "    <tr>\n",
       "      <th>3</th>\n",
       "      <td>6.744083</td>\n",
       "      <td>-5.688920</td>\n",
       "      <td>6.546789</td>\n",
       "      <td>9.000183</td>\n",
       "      <td>-6.924963</td>\n",
       "      <td>11.710766</td>\n",
       "      <td>-12.374388</td>\n",
       "      <td>6.169879</td>\n",
       "      <td>-0.544747</td>\n",
       "      <td>-6.019237</td>\n",
       "      <td>1.358559</td>\n",
       "      <td>-6.356441</td>\n",
       "    </tr>\n",
       "    <tr>\n",
       "      <th>4</th>\n",
       "      <td>5.836843</td>\n",
       "      <td>-5.326557</td>\n",
       "      <td>7.472265</td>\n",
       "      <td>8.847440</td>\n",
       "      <td>-6.773244</td>\n",
       "      <td>12.677218</td>\n",
       "      <td>-12.315061</td>\n",
       "      <td>4.416344</td>\n",
       "      <td>0.193500</td>\n",
       "      <td>-3.644812</td>\n",
       "      <td>2.151239</td>\n",
       "      <td>-6.816310</td>\n",
       "    </tr>\n",
       "    <tr>\n",
       "      <th>...</th>\n",
       "      <td>...</td>\n",
       "      <td>...</td>\n",
       "      <td>...</td>\n",
       "      <td>...</td>\n",
       "      <td>...</td>\n",
       "      <td>...</td>\n",
       "      <td>...</td>\n",
       "      <td>...</td>\n",
       "      <td>...</td>\n",
       "      <td>...</td>\n",
       "      <td>...</td>\n",
       "      <td>...</td>\n",
       "    </tr>\n",
       "    <tr>\n",
       "      <th>324</th>\n",
       "      <td>-0.525273</td>\n",
       "      <td>-3.868338</td>\n",
       "      <td>3.548304</td>\n",
       "      <td>1.496249</td>\n",
       "      <td>3.490753</td>\n",
       "      <td>5.849887</td>\n",
       "      <td>-7.747027</td>\n",
       "      <td>9.738836</td>\n",
       "      <td>-11.754543</td>\n",
       "      <td>7.129909</td>\n",
       "      <td>0.209947</td>\n",
       "      <td>-1.946914</td>\n",
       "    </tr>\n",
       "    <tr>\n",
       "      <th>325</th>\n",
       "      <td>-2.094001</td>\n",
       "      <td>-1.073113</td>\n",
       "      <td>1.217397</td>\n",
       "      <td>-0.550790</td>\n",
       "      <td>2.666547</td>\n",
       "      <td>7.449942</td>\n",
       "      <td>-6.418064</td>\n",
       "      <td>10.907098</td>\n",
       "      <td>-11.134323</td>\n",
       "      <td>6.728373</td>\n",
       "      <td>2.461446</td>\n",
       "      <td>-0.026113</td>\n",
       "    </tr>\n",
       "    <tr>\n",
       "      <th>326</th>\n",
       "      <td>2.116909</td>\n",
       "      <td>-4.441482</td>\n",
       "      <td>5.350392</td>\n",
       "      <td>3.675396</td>\n",
       "      <td>2.715876</td>\n",
       "      <td>3.682670</td>\n",
       "      <td>-4.500850</td>\n",
       "      <td>11.798565</td>\n",
       "      <td>-12.031005</td>\n",
       "      <td>7.566142</td>\n",
       "      <td>-0.606010</td>\n",
       "      <td>-2.245129</td>\n",
       "    </tr>\n",
       "    <tr>\n",
       "      <th>327</th>\n",
       "      <td>0.299616</td>\n",
       "      <td>0.324844</td>\n",
       "      <td>3.299919</td>\n",
       "      <td>2.044040</td>\n",
       "      <td>3.634828</td>\n",
       "      <td>6.693840</td>\n",
       "      <td>-5.676224</td>\n",
       "      <td>12.000518</td>\n",
       "      <td>-11.912901</td>\n",
       "      <td>4.664406</td>\n",
       "      <td>1.197789</td>\n",
       "      <td>-2.230275</td>\n",
       "    </tr>\n",
       "    <tr>\n",
       "      <th>328</th>\n",
       "      <td>3.214254</td>\n",
       "      <td>-3.135152</td>\n",
       "      <td>1.122691</td>\n",
       "      <td>4.712444</td>\n",
       "      <td>5.926518</td>\n",
       "      <td>6.915566</td>\n",
       "      <td>-5.799727</td>\n",
       "      <td>10.858532</td>\n",
       "      <td>-11.659845</td>\n",
       "      <td>10.605734</td>\n",
       "      <td>0.349482</td>\n",
       "      <td>-5.983281</td>\n",
       "    </tr>\n",
       "  </tbody>\n",
       "</table>\n",
       "<p>329 rows × 12 columns</p>\n",
       "</div>"
      ],
      "text/plain": [
       "            X1        X2        X3         X4        X5         X6         X7  \\\n",
       "0     7.071476 -6.512900  7.650800  11.150783 -7.657312  12.484021 -11.709772   \n",
       "1    10.982967 -5.157445  3.952060  11.529381 -7.638047  12.136098 -12.036247   \n",
       "2     7.827108 -5.477472  7.816257   9.187592 -7.172511  11.715299 -13.847214   \n",
       "3     6.744083 -5.688920  6.546789   9.000183 -6.924963  11.710766 -12.374388   \n",
       "4     5.836843 -5.326557  7.472265   8.847440 -6.773244  12.677218 -12.315061   \n",
       "..         ...       ...       ...        ...       ...        ...        ...   \n",
       "324  -0.525273 -3.868338  3.548304   1.496249  3.490753   5.849887  -7.747027   \n",
       "325  -2.094001 -1.073113  1.217397  -0.550790  2.666547   7.449942  -6.418064   \n",
       "326   2.116909 -4.441482  5.350392   3.675396  2.715876   3.682670  -4.500850   \n",
       "327   0.299616  0.324844  3.299919   2.044040  3.634828   6.693840  -5.676224   \n",
       "328   3.214254 -3.135152  1.122691   4.712444  5.926518   6.915566  -5.799727   \n",
       "\n",
       "            X8         X9        X10       X11       X12  \n",
       "0     3.426596   1.462715  -2.812753  0.866538 -5.244274  \n",
       "1     3.491943   0.595441  -4.508811  2.332147 -6.221857  \n",
       "2     4.574075  -1.687559  -7.204041 -0.011847 -6.463144  \n",
       "3     6.169879  -0.544747  -6.019237  1.358559 -6.356441  \n",
       "4     4.416344   0.193500  -3.644812  2.151239 -6.816310  \n",
       "..         ...        ...        ...       ...       ...  \n",
       "324   9.738836 -11.754543   7.129909  0.209947 -1.946914  \n",
       "325  10.907098 -11.134323   6.728373  2.461446 -0.026113  \n",
       "326  11.798565 -12.031005   7.566142 -0.606010 -2.245129  \n",
       "327  12.000518 -11.912901   4.664406  1.197789 -2.230275  \n",
       "328  10.858532 -11.659845  10.605734  0.349482 -5.983281  \n",
       "\n",
       "[329 rows x 12 columns]"
      ]
     },
     "execution_count": 31,
     "metadata": {},
     "output_type": "execute_result"
    }
   ],
   "source": [
    "X = df.iloc[:,1:]  # type (X) -> DataFrame\n",
    "# X = df.language # type (X) -> Series\n",
    "# X = df[\"language\"] # type (X) -> Series\n",
    "X"
   ]
  },
  {
   "cell_type": "code",
   "execution_count": 32,
   "metadata": {},
   "outputs": [
    {
     "data": {
      "text/html": [
       "<div>\n",
       "<style scoped>\n",
       "    .dataframe tbody tr th:only-of-type {\n",
       "        vertical-align: middle;\n",
       "    }\n",
       "\n",
       "    .dataframe tbody tr th {\n",
       "        vertical-align: top;\n",
       "    }\n",
       "\n",
       "    .dataframe thead th {\n",
       "        text-align: right;\n",
       "    }\n",
       "</style>\n",
       "<table border=\"1\" class=\"dataframe\">\n",
       "  <thead>\n",
       "    <tr style=\"text-align: right;\">\n",
       "      <th></th>\n",
       "      <th>language</th>\n",
       "    </tr>\n",
       "  </thead>\n",
       "  <tbody>\n",
       "    <tr>\n",
       "      <th>0</th>\n",
       "      <td>ES</td>\n",
       "    </tr>\n",
       "    <tr>\n",
       "      <th>1</th>\n",
       "      <td>ES</td>\n",
       "    </tr>\n",
       "    <tr>\n",
       "      <th>2</th>\n",
       "      <td>ES</td>\n",
       "    </tr>\n",
       "    <tr>\n",
       "      <th>3</th>\n",
       "      <td>ES</td>\n",
       "    </tr>\n",
       "    <tr>\n",
       "      <th>4</th>\n",
       "      <td>ES</td>\n",
       "    </tr>\n",
       "    <tr>\n",
       "      <th>...</th>\n",
       "      <td>...</td>\n",
       "    </tr>\n",
       "    <tr>\n",
       "      <th>324</th>\n",
       "      <td>US</td>\n",
       "    </tr>\n",
       "    <tr>\n",
       "      <th>325</th>\n",
       "      <td>US</td>\n",
       "    </tr>\n",
       "    <tr>\n",
       "      <th>326</th>\n",
       "      <td>US</td>\n",
       "    </tr>\n",
       "    <tr>\n",
       "      <th>327</th>\n",
       "      <td>US</td>\n",
       "    </tr>\n",
       "    <tr>\n",
       "      <th>328</th>\n",
       "      <td>US</td>\n",
       "    </tr>\n",
       "  </tbody>\n",
       "</table>\n",
       "<p>329 rows × 1 columns</p>\n",
       "</div>"
      ],
      "text/plain": [
       "    language\n",
       "0         ES\n",
       "1         ES\n",
       "2         ES\n",
       "3         ES\n",
       "4         ES\n",
       "..       ...\n",
       "324       US\n",
       "325       US\n",
       "326       US\n",
       "327       US\n",
       "328       US\n",
       "\n",
       "[329 rows x 1 columns]"
      ]
     },
     "execution_count": 32,
     "metadata": {},
     "output_type": "execute_result"
    }
   ],
   "source": [
    "y = df.iloc[:,:1] # type(y) -> DataFrame\n",
    "# y = df.iloc[:,0] # type(y) -> Series\n",
    "# y = df.select_dtypes('number') # type(y) -> DataFrame\n",
    "y\n"
   ]
  },
  {
   "cell_type": "markdown",
   "metadata": {},
   "source": [
    "#### 5. Diviser la DataSet en donneés d'apprentissage et de test (20% pour le test)"
   ]
  },
  {
   "cell_type": "code",
   "execution_count": 33,
   "metadata": {},
   "outputs": [],
   "source": [
    "from sklearn.model_selection import train_test_split\n",
    "X_train, X_test, y_train, y_test = train_test_split(X, y, test_size = 20/100, random_state = 0)"
   ]
  },
  {
   "cell_type": "code",
   "execution_count": 34,
   "metadata": {},
   "outputs": [
    {
     "name": "stdout",
     "output_type": "stream",
     "text": [
      "(263, 12)\n",
      "(66, 12)\n",
      "(263, 1)\n",
      "(66, 1)\n"
     ]
    }
   ],
   "source": [
    "for split in [X_train, X_test, y_train, y_test]:\n",
    "  print(split.shape)"
   ]
  },
  {
   "cell_type": "markdown",
   "metadata": {},
   "source": [
    "#### 6. Appliquer une normalisation centrée-réduite aux données en utilisant \"StandardScaler\""
   ]
  },
  {
   "cell_type": "markdown",
   "metadata": {},
   "source": [
    "Former votre modèle de normalisation\n"
   ]
  },
  {
   "cell_type": "code",
   "execution_count": 46,
   "metadata": {},
   "outputs": [
    {
     "data": {
      "text/plain": [
       "StandardScaler()"
      ]
     },
     "execution_count": 46,
     "metadata": {},
     "output_type": "execute_result"
    }
   ],
   "source": [
    "from sklearn.preprocessing import StandardScaler\n",
    "\n",
    "scaler = StandardScaler()\n",
    "scaler.fit(X_train.copy())"
   ]
  },
  {
   "cell_type": "markdown",
   "metadata": {},
   "source": [
    "Utiliser la classe \".mean_\" et \".scale_\" pour afficher la moyenne et l'écart-type, respectivement."
   ]
  },
  {
   "cell_type": "code",
   "execution_count": 47,
   "metadata": {},
   "outputs": [
    {
     "data": {
      "text/plain": [
       "array([ 5.45011894, -4.28675644,  2.6865847 ,  7.09095867, -5.53779014,\n",
       "        9.83197748, -9.39524525,  5.20175913, -1.39374422, -2.1926616 ,\n",
       "        2.47055528, -3.92454806])"
      ]
     },
     "execution_count": 47,
     "metadata": {},
     "output_type": "execute_result"
    }
   ],
   "source": [
    "scaler.mean_"
   ]
  },
  {
   "cell_type": "code",
   "execution_count": 48,
   "metadata": {},
   "outputs": [
    {
     "data": {
      "text/plain": [
       "array([5.04951755, 3.33613672, 3.50535463, 4.42568847, 4.64351478,\n",
       "       3.65513597, 2.44825969, 2.68760927, 3.76929674, 5.08995082,\n",
       "       3.27858839, 3.09421694])"
      ]
     },
     "execution_count": 48,
     "metadata": {},
     "output_type": "execute_result"
    }
   ],
   "source": [
    "scaler.scale_"
   ]
  },
  {
   "cell_type": "markdown",
   "metadata": {},
   "source": [
    "Appliquer la normalisation sur la base d'apprentissage et la base de test sans écraser les données brutes."
   ]
  },
  {
   "cell_type": "code",
   "execution_count": 49,
   "metadata": {},
   "outputs": [],
   "source": [
    "X_train_scaled = scaler.transform(X_test.copy())\n"
   ]
  },
  {
   "cell_type": "markdown",
   "metadata": {},
   "source": [
    "Vérifier que la moyenne se rapproche à 0"
   ]
  },
  {
   "cell_type": "code",
   "execution_count": 50,
   "metadata": {},
   "outputs": [
    {
     "data": {
      "text/plain": [
       "-0.013672107490727323"
      ]
     },
     "execution_count": 50,
     "metadata": {},
     "output_type": "execute_result"
    }
   ],
   "source": [
    "X_train_scaled.mean()"
   ]
  },
  {
   "cell_type": "markdown",
   "metadata": {},
   "source": [
    "Vérifier que l'écart-type se rapproche à 1"
   ]
  },
  {
   "cell_type": "code",
   "execution_count": 51,
   "metadata": {},
   "outputs": [
    {
     "data": {
      "text/plain": [
       "1.0122705066784288"
      ]
     },
     "execution_count": 51,
     "metadata": {},
     "output_type": "execute_result"
    }
   ],
   "source": [
    "X_train_scaled.std()"
   ]
  },
  {
   "cell_type": "markdown",
   "metadata": {},
   "source": [
    "#### 5. Apprentissage supervisé SVM"
   ]
  },
  {
   "cell_type": "markdown",
   "metadata": {},
   "source": [
    "Réaliser le Pipeline expérimental"
   ]
  },
  {
   "cell_type": "markdown",
   "metadata": {},
   "source": [
    "- Data\n",
    "- Analyse, visualisation et prétraitement (si nécessaire)\n",
    "- Préparation des données\n",
    "- Apprentissage et Normalisation\n",
    "- Configuration des SVMs avec différent paramétrage\n",
    "- Apprentissage et Test\n",
    "- Matrice de confusion\n",
    "- Mesure de performance\n",
    "- Conclusion"
   ]
  },
  {
   "cell_type": "code",
   "execution_count": null,
   "metadata": {},
   "outputs": [],
   "source": []
  },
  {
   "cell_type": "markdown",
   "metadata": {},
   "source": [
    "## Etude de cas\n",
    "Un client cherche un produit pour identifier que l’accent italien et l’accent français.\n",
    "Quel est votre proposition pour ce client ?"
   ]
  },
  {
   "cell_type": "code",
   "execution_count": null,
   "metadata": {},
   "outputs": [],
   "source": []
  },
  {
   "cell_type": "markdown",
   "metadata": {},
   "source": [
    "J'ai programmé une gonction pour vous faciliter la classification d'un nouveau Voice, la fonction est \"rec_accent\".\n",
    "Les inputs de la fonction sont :\n",
    "- classifier : le modèle SVM ou autre.\n",
    "- Record=True : pour faire votre propre enregistrement.\n",
    "- Record=False : pour charger un enregistrement existant.\n",
    "\n",
    "Output est votre reconnaissance."
   ]
  },
  {
   "cell_type": "code",
   "execution_count": null,
   "metadata": {},
   "outputs": [],
   "source": [
    "import sounddevice as sd #sinon pip install sounddevice\n",
    "import time #sinon pip install python-time\n",
    "import scipy.io.wavfile as wav\n",
    "from python_speech_features import mfcc #sinon pip install python_speech_features==0.4\n",
    "import tkinter as tk #sinon pip install tk\n",
    "from tkinter import filedialog\n",
    "\n",
    "def rec_accent(classifier, Record=True):\n",
    "    if Record == True :\n",
    "        #Enregistrement\n",
    "        print(\"Attention, l'enregistrement commence dans :\")\n",
    "        (rate,sig) = wav.read(\"beep-04.wav\")\n",
    "        sd.play(sig, rate)\n",
    "        for i in range(0,6):\n",
    "            time.sleep(1)\n",
    "            print(5-i)\n",
    "        time.sleep(1)\n",
    "        freq = 44100\n",
    "        duration = 1\n",
    "        recording = sd.rec(int(duration * freq), samplerate=freq, channels=2)\n",
    "        print(\"Parler maintenant ...!!\")\n",
    "        sd.wait()  \n",
    "        print(\"Fin...\")\n",
    "    else :\n",
    "        root = tk.Tk()\n",
    "        root.withdraw()\n",
    "        file_path = filedialog.askopenfilename()\n",
    "        (rate,recording) = wav.read(file_path)\n",
    "            \n",
    "    # Caractérisation\n",
    "    mfcc_feat = mfcc(recording,rate, numcep=12)\n",
    "    mfcc_feat = np.expand_dims(np.mean(mfcc_feat, axis=0), axis=0)\n",
    "    pred = classifier.predict(mfcc_feat)\n",
    "    print('------------------')\n",
    "    print('Accent : ', pred[0])\n",
    "    print('------------------')"
   ]
  },
  {
   "cell_type": "code",
   "execution_count": 21,
   "metadata": {},
   "outputs": [
    {
     "name": "stdout",
     "output_type": "stream",
     "text": [
      "------------------\n",
      "Accent :  US\n",
      "------------------\n"
     ]
    },
    {
     "name": "stderr",
     "output_type": "stream",
     "text": [
      "C:\\Users\\isen\\anaconda3\\envs\\meab\\lib\\site-packages\\sklearn\\base.py:450: UserWarning: X does not have valid feature names, but LinearSVC was fitted with feature names\n",
      "  warnings.warn(\n"
     ]
    }
   ],
   "source": [
    "rec_accent(trained_classifier, Record=False)"
   ]
  },
  {
   "cell_type": "code",
   "execution_count": null,
   "metadata": {},
   "outputs": [],
   "source": []
  }
 ],
 "metadata": {
  "jupytext": {
   "formats": "ipynb,auto:hydrogen"
  },
  "kernelspec": {
   "display_name": "Python 3",
   "language": "python",
   "name": "python3"
  },
  "language_info": {
   "codemirror_mode": {
    "name": "ipython",
    "version": 3
   },
   "file_extension": ".py",
   "mimetype": "text/x-python",
   "name": "python",
   "nbconvert_exporter": "python",
   "pygments_lexer": "ipython3",
   "version": "3.8.3"
  }
 },
 "nbformat": 4,
 "nbformat_minor": 1
}
